{
 "cells": [
  {
   "cell_type": "code",
   "execution_count": 10,
   "id": "initial_id",
   "metadata": {
    "collapsed": true,
    "ExecuteTime": {
     "end_time": "2024-12-30T18:58:25.653805Z",
     "start_time": "2024-12-30T18:58:25.648723Z"
    }
   },
   "outputs": [],
   "source": [
    "import pandas as pd\n",
    "import seaborn as sns\n",
    "import matplotlib.pyplot as plt\n"
   ]
  },
  {
   "cell_type": "code",
   "outputs": [],
   "source": [
    "artists = pd.read_json(\"../data-v1/sessions.jsonl\", lines=True)"
   ],
   "metadata": {
    "collapsed": false,
    "ExecuteTime": {
     "end_time": "2024-12-30T18:59:17.460706Z",
     "start_time": "2024-12-30T18:59:17.361258Z"
    }
   },
   "id": "9dc5684ff1e73a0a",
   "execution_count": 31
  },
  {
   "cell_type": "code",
   "outputs": [],
   "source": [
    "artists"
   ],
   "metadata": {
    "collapsed": false,
    "ExecuteTime": {
     "end_time": "2024-12-30T18:58:25.744107Z",
     "start_time": "2024-12-30T18:58:25.744042Z"
    }
   },
   "id": "fb3bbb90487e5102",
   "execution_count": null
  },
  {
   "cell_type": "code",
   "outputs": [],
   "source": [
    "unique_genres = set()"
   ],
   "metadata": {
    "collapsed": false,
    "ExecuteTime": {
     "end_time": "2024-12-30T18:58:25.758463Z",
     "start_time": "2024-12-30T18:58:25.756132Z"
    }
   },
   "id": "6ea696ffcdeeafd2",
   "execution_count": 12
  },
  {
   "cell_type": "code",
   "outputs": [
    {
     "ename": "NameError",
     "evalue": "name 'artists' is not defined",
     "output_type": "error",
     "traceback": [
      "\u001B[0;31m---------------------------------------------------------------------------\u001B[0m",
      "\u001B[0;31mNameError\u001B[0m                                 Traceback (most recent call last)",
      "Cell \u001B[0;32mIn[13], line 1\u001B[0m\n\u001B[0;32m----> 1\u001B[0m gen \u001B[38;5;241m=\u001B[39m \u001B[43martists\u001B[49m[\u001B[38;5;124m\"\u001B[39m\u001B[38;5;124mgenres\u001B[39m\u001B[38;5;124m\"\u001B[39m]\n",
      "\u001B[0;31mNameError\u001B[0m: name 'artists' is not defined"
     ]
    }
   ],
   "source": [
    "gen = artists[\"genres\"]"
   ],
   "metadata": {
    "collapsed": false,
    "ExecuteTime": {
     "end_time": "2024-12-30T18:58:25.825970Z",
     "start_time": "2024-12-30T18:58:25.813099Z"
    }
   },
   "id": "53e19bc8eb9ad5a7",
   "execution_count": 13
  },
  {
   "cell_type": "code",
   "outputs": [
    {
     "ename": "NameError",
     "evalue": "name 'gen' is not defined",
     "output_type": "error",
     "traceback": [
      "\u001B[0;31m---------------------------------------------------------------------------\u001B[0m",
      "\u001B[0;31mNameError\u001B[0m                                 Traceback (most recent call last)",
      "Cell \u001B[0;32mIn[14], line 1\u001B[0m\n\u001B[0;32m----> 1\u001B[0m \u001B[38;5;28;01mfor\u001B[39;00m i \u001B[38;5;129;01min\u001B[39;00m \u001B[43mgen\u001B[49m:\n\u001B[1;32m      2\u001B[0m     \u001B[38;5;28;01mfor\u001B[39;00m x \u001B[38;5;129;01min\u001B[39;00m i:\n\u001B[1;32m      3\u001B[0m         unique_genres\u001B[38;5;241m.\u001B[39madd(x)\n",
      "\u001B[0;31mNameError\u001B[0m: name 'gen' is not defined"
     ]
    }
   ],
   "source": [
    "for i in gen:\n",
    "    for x in i:\n",
    "        unique_genres.add(x)"
   ],
   "metadata": {
    "collapsed": false,
    "ExecuteTime": {
     "end_time": "2024-12-30T18:58:25.864094Z",
     "start_time": "2024-12-30T18:58:25.854220Z"
    }
   },
   "id": "14fae9e9dc3039a4",
   "execution_count": 14
  },
  {
   "cell_type": "code",
   "outputs": [
    {
     "name": "stdout",
     "output_type": "stream",
     "text": [
      "0\n"
     ]
    }
   ],
   "source": [
    "print(len(unique_genres))"
   ],
   "metadata": {
    "collapsed": false,
    "ExecuteTime": {
     "end_time": "2024-12-30T18:58:25.876303Z",
     "start_time": "2024-12-30T18:58:25.874170Z"
    }
   },
   "id": "ac44911433ea53d",
   "execution_count": 15
  },
  {
   "cell_type": "code",
   "outputs": [
    {
     "data": {
      "text/plain": "set()"
     },
     "execution_count": 16,
     "metadata": {},
     "output_type": "execute_result"
    }
   ],
   "source": [
    "unique_genres"
   ],
   "metadata": {
    "collapsed": false,
    "ExecuteTime": {
     "end_time": "2024-12-30T18:58:25.893878Z",
     "start_time": "2024-12-30T18:58:25.887611Z"
    }
   },
   "id": "b00d8e6214597ae0",
   "execution_count": 16
  },
  {
   "cell_type": "code",
   "outputs": [],
   "source": [],
   "metadata": {
    "collapsed": false,
    "ExecuteTime": {
     "end_time": "2024-12-30T18:58:25.899903Z",
     "start_time": "2024-12-30T18:58:25.898456Z"
    }
   },
   "id": "eea3540993b53995",
   "execution_count": 16
  },
  {
   "cell_type": "code",
   "outputs": [
    {
     "ename": "NameError",
     "evalue": "name 'artists' is not defined",
     "output_type": "error",
     "traceback": [
      "\u001B[0;31m---------------------------------------------------------------------------\u001B[0m",
      "\u001B[0;31mNameError\u001B[0m                                 Traceback (most recent call last)",
      "Cell \u001B[0;32mIn[17], line 1\u001B[0m\n\u001B[0;32m----> 1\u001B[0m \u001B[43martists\u001B[49m\n",
      "\u001B[0;31mNameError\u001B[0m: name 'artists' is not defined"
     ]
    }
   ],
   "source": [
    "artists"
   ],
   "metadata": {
    "collapsed": false,
    "ExecuteTime": {
     "end_time": "2024-12-30T18:58:25.937834Z",
     "start_time": "2024-12-30T18:58:25.927190Z"
    }
   },
   "id": "e44819c840b22227",
   "execution_count": 17
  },
  {
   "cell_type": "code",
   "outputs": [
    {
     "ename": "NameError",
     "evalue": "name 'artists' is not defined",
     "output_type": "error",
     "traceback": [
      "\u001B[0;31m---------------------------------------------------------------------------\u001B[0m",
      "\u001B[0;31mNameError\u001B[0m                                 Traceback (most recent call last)",
      "Cell \u001B[0;32mIn[18], line 1\u001B[0m\n\u001B[0;32m----> 1\u001B[0m artists \u001B[38;5;241m=\u001B[39m \u001B[43martists\u001B[49m\u001B[38;5;241m.\u001B[39mdrop(\u001B[38;5;124m\"\u001B[39m\u001B[38;5;124mid\u001B[39m\u001B[38;5;124m\"\u001B[39m, axis\u001B[38;5;241m=\u001B[39m\u001B[38;5;241m1\u001B[39m)\n",
      "\u001B[0;31mNameError\u001B[0m: name 'artists' is not defined"
     ]
    }
   ],
   "source": [
    "artists = artists.drop(\"id\", axis=1)"
   ],
   "metadata": {
    "collapsed": false,
    "ExecuteTime": {
     "end_time": "2024-12-30T18:58:25.952170Z",
     "start_time": "2024-12-30T18:58:25.941710Z"
    }
   },
   "id": "106be850710841e9",
   "execution_count": 18
  },
  {
   "cell_type": "code",
   "outputs": [
    {
     "ename": "NameError",
     "evalue": "name 'artists' is not defined",
     "output_type": "error",
     "traceback": [
      "\u001B[0;31m---------------------------------------------------------------------------\u001B[0m",
      "\u001B[0;31mNameError\u001B[0m                                 Traceback (most recent call last)",
      "Cell \u001B[0;32mIn[19], line 1\u001B[0m\n\u001B[0;32m----> 1\u001B[0m artists_corr \u001B[38;5;241m=\u001B[39m \u001B[43martists\u001B[49m\u001B[38;5;241m.\u001B[39mcorr()\n",
      "\u001B[0;31mNameError\u001B[0m: name 'artists' is not defined"
     ]
    }
   ],
   "source": [
    "artists_corr = artists.corr()"
   ],
   "metadata": {
    "collapsed": false,
    "ExecuteTime": {
     "end_time": "2024-12-30T18:58:25.962924Z",
     "start_time": "2024-12-30T18:58:25.953960Z"
    }
   },
   "id": "4782ade069c319a9",
   "execution_count": 19
  },
  {
   "cell_type": "code",
   "outputs": [
    {
     "ename": "NameError",
     "evalue": "name 'artists' is not defined",
     "output_type": "error",
     "traceback": [
      "\u001B[0;31m---------------------------------------------------------------------------\u001B[0m",
      "\u001B[0;31mNameError\u001B[0m                                 Traceback (most recent call last)",
      "Cell \u001B[0;32mIn[20], line 1\u001B[0m\n\u001B[0;32m----> 1\u001B[0m artists_corr \u001B[38;5;241m=\u001B[39m \u001B[43martists\u001B[49m\u001B[38;5;241m.\u001B[39mcorr()\n\u001B[1;32m      2\u001B[0m plt\u001B[38;5;241m.\u001B[39mfigure(figsize\u001B[38;5;241m=\u001B[39m(\u001B[38;5;241m10\u001B[39m, \u001B[38;5;241m8\u001B[39m))\n\u001B[1;32m      3\u001B[0m sns\u001B[38;5;241m.\u001B[39mheatmap(artists_corr, annot\u001B[38;5;241m=\u001B[39m\u001B[38;5;28;01mTrue\u001B[39;00m, cmap\u001B[38;5;241m=\u001B[39m\u001B[38;5;124m'\u001B[39m\u001B[38;5;124mcoolwarm\u001B[39m\u001B[38;5;124m'\u001B[39m, fmt\u001B[38;5;241m=\u001B[39m\u001B[38;5;124m'\u001B[39m\u001B[38;5;124m.2f\u001B[39m\u001B[38;5;124m'\u001B[39m)\n",
      "\u001B[0;31mNameError\u001B[0m: name 'artists' is not defined"
     ]
    }
   ],
   "source": [
    "artists_corr = artists.corr()\n",
    "plt.figure(figsize=(10, 8))\n",
    "sns.heatmap(artists_corr, annot=True, cmap='coolwarm', fmt='.2f')\n",
    "plt.title('Correlation Matrix')\n",
    "plt.show()"
   ],
   "metadata": {
    "collapsed": false,
    "ExecuteTime": {
     "end_time": "2024-12-30T18:58:25.997003Z",
     "start_time": "2024-12-30T18:58:25.985715Z"
    }
   },
   "id": "8438fc15b89095fd",
   "execution_count": 20
  },
  {
   "cell_type": "markdown",
   "source": [
    "# Sessions"
   ],
   "metadata": {
    "collapsed": false
   },
   "id": "6e09ecfc69d8ca56"
  },
  {
   "cell_type": "code",
   "outputs": [],
   "source": [
    "sessions = pd.read_json(\"../data-v2/sessions.jsonl\",lines=True)"
   ],
   "metadata": {
    "collapsed": false,
    "ExecuteTime": {
     "end_time": "2024-12-30T19:00:58.672659Z",
     "start_time": "2024-12-30T19:00:58.590511Z"
    }
   },
   "id": "c8b5b6c4c68864af",
   "execution_count": 32
  },
  {
   "cell_type": "code",
   "outputs": [],
   "source": [
    "sessions"
   ],
   "metadata": {
    "collapsed": false,
    "ExecuteTime": {
     "end_time": "2024-12-30T18:58:26.034157Z",
     "start_time": "2024-12-30T18:58:26.034096Z"
    }
   },
   "id": "7598a6e6116d4355",
   "execution_count": null
  },
  {
   "cell_type": "code",
   "outputs": [
    {
     "ename": "NameError",
     "evalue": "name 'sessions' is not defined",
     "output_type": "error",
     "traceback": [
      "\u001B[0;31m---------------------------------------------------------------------------\u001B[0m",
      "\u001B[0;31mNameError\u001B[0m                                 Traceback (most recent call last)",
      "Cell \u001B[0;32mIn[22], line 1\u001B[0m\n\u001B[0;32m----> 1\u001B[0m missing_trackid \u001B[38;5;241m=\u001B[39m \u001B[43msessions\u001B[49m[sessions[\u001B[38;5;124m\"\u001B[39m\u001B[38;5;124mtrack_id\u001B[39m\u001B[38;5;124m\"\u001B[39m]\u001B[38;5;241m.\u001B[39misnull()]\n",
      "\u001B[0;31mNameError\u001B[0m: name 'sessions' is not defined"
     ]
    }
   ],
   "source": [
    "missing_trackid = sessions[sessions[\"track_id\"].isnull()]"
   ],
   "metadata": {
    "collapsed": false,
    "ExecuteTime": {
     "end_time": "2024-12-30T18:58:26.060074Z",
     "start_time": "2024-12-30T18:58:26.050765Z"
    }
   },
   "id": "7c38e2e189df9772",
   "execution_count": 22
  },
  {
   "cell_type": "code",
   "outputs": [
    {
     "ename": "NameError",
     "evalue": "name 'missing_trackid' is not defined",
     "output_type": "error",
     "traceback": [
      "\u001B[0;31m---------------------------------------------------------------------------\u001B[0m",
      "\u001B[0;31mNameError\u001B[0m                                 Traceback (most recent call last)",
      "Cell \u001B[0;32mIn[23], line 1\u001B[0m\n\u001B[0;32m----> 1\u001B[0m \u001B[43mmissing_trackid\u001B[49m\n",
      "\u001B[0;31mNameError\u001B[0m: name 'missing_trackid' is not defined"
     ]
    }
   ],
   "source": [
    "missing_trackid"
   ],
   "metadata": {
    "collapsed": false,
    "ExecuteTime": {
     "end_time": "2024-12-30T18:58:26.079953Z",
     "start_time": "2024-12-30T18:58:26.070036Z"
    }
   },
   "id": "c7078b19558a8b96",
   "execution_count": 23
  },
  {
   "cell_type": "markdown",
   "source": [
    "# tracks\n"
   ],
   "metadata": {
    "collapsed": false
   },
   "id": "d8ab5595a2e5e18"
  },
  {
   "cell_type": "code",
   "outputs": [],
   "source": [],
   "metadata": {
    "collapsed": false,
    "ExecuteTime": {
     "end_time": "2024-12-30T18:58:26.087246Z",
     "start_time": "2024-12-30T18:58:26.085863Z"
    }
   },
   "id": "50e7569d219b7282",
   "execution_count": 23
  },
  {
   "cell_type": "code",
   "outputs": [
    {
     "name": "stderr",
     "output_type": "stream",
     "text": [
      "/var/folders/hh/8rqz1b092v5dmv1p5yh1_gbc0000gn/T/ipykernel_94068/2656680573.py:1: FutureWarning: Passing literal json to 'read_json' is deprecated and will be removed in a future version. To read from a literal string, wrap it in a 'StringIO' object.\n",
      "  tracks = pd.read_json(\"v2/tracks.jsonl\", lines=True)\n"
     ]
    },
    {
     "ename": "ValueError",
     "evalue": "Expected object or value",
     "output_type": "error",
     "traceback": [
      "\u001B[0;31m---------------------------------------------------------------------------\u001B[0m",
      "\u001B[0;31mValueError\u001B[0m                                Traceback (most recent call last)",
      "Cell \u001B[0;32mIn[24], line 1\u001B[0m\n\u001B[0;32m----> 1\u001B[0m tracks \u001B[38;5;241m=\u001B[39m \u001B[43mpd\u001B[49m\u001B[38;5;241;43m.\u001B[39;49m\u001B[43mread_json\u001B[49m\u001B[43m(\u001B[49m\u001B[38;5;124;43m\"\u001B[39;49m\u001B[38;5;124;43mv2/tracks.jsonl\u001B[39;49m\u001B[38;5;124;43m\"\u001B[39;49m\u001B[43m,\u001B[49m\u001B[43m \u001B[49m\u001B[43mlines\u001B[49m\u001B[38;5;241;43m=\u001B[39;49m\u001B[38;5;28;43;01mTrue\u001B[39;49;00m\u001B[43m)\u001B[49m\n",
      "File \u001B[0;32m~/IUM/venv/lib/python3.11/site-packages/pandas/io/json/_json.py:815\u001B[0m, in \u001B[0;36mread_json\u001B[0;34m(path_or_buf, orient, typ, dtype, convert_axes, convert_dates, keep_default_dates, precise_float, date_unit, encoding, encoding_errors, lines, chunksize, compression, nrows, storage_options, dtype_backend, engine)\u001B[0m\n\u001B[1;32m    813\u001B[0m     \u001B[38;5;28;01mreturn\u001B[39;00m json_reader\n\u001B[1;32m    814\u001B[0m \u001B[38;5;28;01melse\u001B[39;00m:\n\u001B[0;32m--> 815\u001B[0m     \u001B[38;5;28;01mreturn\u001B[39;00m \u001B[43mjson_reader\u001B[49m\u001B[38;5;241;43m.\u001B[39;49m\u001B[43mread\u001B[49m\u001B[43m(\u001B[49m\u001B[43m)\u001B[49m\n",
      "File \u001B[0;32m~/IUM/venv/lib/python3.11/site-packages/pandas/io/json/_json.py:1023\u001B[0m, in \u001B[0;36mJsonReader.read\u001B[0;34m(self)\u001B[0m\n\u001B[1;32m   1021\u001B[0m         data \u001B[38;5;241m=\u001B[39m ensure_str(\u001B[38;5;28mself\u001B[39m\u001B[38;5;241m.\u001B[39mdata)\n\u001B[1;32m   1022\u001B[0m         data_lines \u001B[38;5;241m=\u001B[39m data\u001B[38;5;241m.\u001B[39msplit(\u001B[38;5;124m\"\u001B[39m\u001B[38;5;130;01m\\n\u001B[39;00m\u001B[38;5;124m\"\u001B[39m)\n\u001B[0;32m-> 1023\u001B[0m         obj \u001B[38;5;241m=\u001B[39m \u001B[38;5;28;43mself\u001B[39;49m\u001B[38;5;241;43m.\u001B[39;49m\u001B[43m_get_object_parser\u001B[49m\u001B[43m(\u001B[49m\u001B[38;5;28;43mself\u001B[39;49m\u001B[38;5;241;43m.\u001B[39;49m\u001B[43m_combine_lines\u001B[49m\u001B[43m(\u001B[49m\u001B[43mdata_lines\u001B[49m\u001B[43m)\u001B[49m\u001B[43m)\u001B[49m\n\u001B[1;32m   1024\u001B[0m \u001B[38;5;28;01melse\u001B[39;00m:\n\u001B[1;32m   1025\u001B[0m     obj \u001B[38;5;241m=\u001B[39m \u001B[38;5;28mself\u001B[39m\u001B[38;5;241m.\u001B[39m_get_object_parser(\u001B[38;5;28mself\u001B[39m\u001B[38;5;241m.\u001B[39mdata)\n",
      "File \u001B[0;32m~/IUM/venv/lib/python3.11/site-packages/pandas/io/json/_json.py:1051\u001B[0m, in \u001B[0;36mJsonReader._get_object_parser\u001B[0;34m(self, json)\u001B[0m\n\u001B[1;32m   1049\u001B[0m obj \u001B[38;5;241m=\u001B[39m \u001B[38;5;28;01mNone\u001B[39;00m\n\u001B[1;32m   1050\u001B[0m \u001B[38;5;28;01mif\u001B[39;00m typ \u001B[38;5;241m==\u001B[39m \u001B[38;5;124m\"\u001B[39m\u001B[38;5;124mframe\u001B[39m\u001B[38;5;124m\"\u001B[39m:\n\u001B[0;32m-> 1051\u001B[0m     obj \u001B[38;5;241m=\u001B[39m \u001B[43mFrameParser\u001B[49m\u001B[43m(\u001B[49m\u001B[43mjson\u001B[49m\u001B[43m,\u001B[49m\u001B[43m \u001B[49m\u001B[38;5;241;43m*\u001B[39;49m\u001B[38;5;241;43m*\u001B[39;49m\u001B[43mkwargs\u001B[49m\u001B[43m)\u001B[49m\u001B[38;5;241;43m.\u001B[39;49m\u001B[43mparse\u001B[49m\u001B[43m(\u001B[49m\u001B[43m)\u001B[49m\n\u001B[1;32m   1053\u001B[0m \u001B[38;5;28;01mif\u001B[39;00m typ \u001B[38;5;241m==\u001B[39m \u001B[38;5;124m\"\u001B[39m\u001B[38;5;124mseries\u001B[39m\u001B[38;5;124m\"\u001B[39m \u001B[38;5;129;01mor\u001B[39;00m obj \u001B[38;5;129;01mis\u001B[39;00m \u001B[38;5;28;01mNone\u001B[39;00m:\n\u001B[1;32m   1054\u001B[0m     \u001B[38;5;28;01mif\u001B[39;00m \u001B[38;5;129;01mnot\u001B[39;00m \u001B[38;5;28misinstance\u001B[39m(dtype, \u001B[38;5;28mbool\u001B[39m):\n",
      "File \u001B[0;32m~/IUM/venv/lib/python3.11/site-packages/pandas/io/json/_json.py:1187\u001B[0m, in \u001B[0;36mParser.parse\u001B[0;34m(self)\u001B[0m\n\u001B[1;32m   1185\u001B[0m \u001B[38;5;129m@final\u001B[39m\n\u001B[1;32m   1186\u001B[0m \u001B[38;5;28;01mdef\u001B[39;00m \u001B[38;5;21mparse\u001B[39m(\u001B[38;5;28mself\u001B[39m):\n\u001B[0;32m-> 1187\u001B[0m     \u001B[38;5;28;43mself\u001B[39;49m\u001B[38;5;241;43m.\u001B[39;49m\u001B[43m_parse\u001B[49m\u001B[43m(\u001B[49m\u001B[43m)\u001B[49m\n\u001B[1;32m   1189\u001B[0m     \u001B[38;5;28;01mif\u001B[39;00m \u001B[38;5;28mself\u001B[39m\u001B[38;5;241m.\u001B[39mobj \u001B[38;5;129;01mis\u001B[39;00m \u001B[38;5;28;01mNone\u001B[39;00m:\n\u001B[1;32m   1190\u001B[0m         \u001B[38;5;28;01mreturn\u001B[39;00m \u001B[38;5;28;01mNone\u001B[39;00m\n",
      "File \u001B[0;32m~/IUM/venv/lib/python3.11/site-packages/pandas/io/json/_json.py:1403\u001B[0m, in \u001B[0;36mFrameParser._parse\u001B[0;34m(self)\u001B[0m\n\u001B[1;32m   1399\u001B[0m orient \u001B[38;5;241m=\u001B[39m \u001B[38;5;28mself\u001B[39m\u001B[38;5;241m.\u001B[39morient\n\u001B[1;32m   1401\u001B[0m \u001B[38;5;28;01mif\u001B[39;00m orient \u001B[38;5;241m==\u001B[39m \u001B[38;5;124m\"\u001B[39m\u001B[38;5;124mcolumns\u001B[39m\u001B[38;5;124m\"\u001B[39m:\n\u001B[1;32m   1402\u001B[0m     \u001B[38;5;28mself\u001B[39m\u001B[38;5;241m.\u001B[39mobj \u001B[38;5;241m=\u001B[39m DataFrame(\n\u001B[0;32m-> 1403\u001B[0m         \u001B[43mujson_loads\u001B[49m\u001B[43m(\u001B[49m\u001B[43mjson\u001B[49m\u001B[43m,\u001B[49m\u001B[43m \u001B[49m\u001B[43mprecise_float\u001B[49m\u001B[38;5;241;43m=\u001B[39;49m\u001B[38;5;28;43mself\u001B[39;49m\u001B[38;5;241;43m.\u001B[39;49m\u001B[43mprecise_float\u001B[49m\u001B[43m)\u001B[49m, dtype\u001B[38;5;241m=\u001B[39m\u001B[38;5;28;01mNone\u001B[39;00m\n\u001B[1;32m   1404\u001B[0m     )\n\u001B[1;32m   1405\u001B[0m \u001B[38;5;28;01melif\u001B[39;00m orient \u001B[38;5;241m==\u001B[39m \u001B[38;5;124m\"\u001B[39m\u001B[38;5;124msplit\u001B[39m\u001B[38;5;124m\"\u001B[39m:\n\u001B[1;32m   1406\u001B[0m     decoded \u001B[38;5;241m=\u001B[39m {\n\u001B[1;32m   1407\u001B[0m         \u001B[38;5;28mstr\u001B[39m(k): v\n\u001B[1;32m   1408\u001B[0m         \u001B[38;5;28;01mfor\u001B[39;00m k, v \u001B[38;5;129;01min\u001B[39;00m ujson_loads(json, precise_float\u001B[38;5;241m=\u001B[39m\u001B[38;5;28mself\u001B[39m\u001B[38;5;241m.\u001B[39mprecise_float)\u001B[38;5;241m.\u001B[39mitems()\n\u001B[1;32m   1409\u001B[0m     }\n",
      "\u001B[0;31mValueError\u001B[0m: Expected object or value"
     ]
    }
   ],
   "source": [
    "tracks = pd.read_json(\"v2/tracks.jsonl\", lines=True)"
   ],
   "metadata": {
    "collapsed": false,
    "ExecuteTime": {
     "end_time": "2024-12-30T18:58:26.175489Z",
     "start_time": "2024-12-30T18:58:26.140519Z"
    }
   },
   "id": "9741469f156fb0bd",
   "execution_count": 24
  },
  {
   "cell_type": "code",
   "outputs": [],
   "source": [
    "tracks = tracks.drop([ \"release_date\"], axis=1)"
   ],
   "metadata": {
    "collapsed": false
   },
   "id": "bcd60c3b37e3221c",
   "execution_count": null
  },
  {
   "cell_type": "code",
   "outputs": [
    {
     "ename": "NameError",
     "evalue": "name 'tracks' is not defined",
     "output_type": "error",
     "traceback": [
      "\u001B[0;31m---------------------------------------------------------------------------\u001B[0m",
      "\u001B[0;31mNameError\u001B[0m                                 Traceback (most recent call last)",
      "Cell \u001B[0;32mIn[25], line 1\u001B[0m\n\u001B[0;32m----> 1\u001B[0m \u001B[43mtracks\u001B[49m\n",
      "\u001B[0;31mNameError\u001B[0m: name 'tracks' is not defined"
     ]
    }
   ],
   "source": [
    "tracks"
   ],
   "metadata": {
    "collapsed": false,
    "ExecuteTime": {
     "end_time": "2024-12-30T18:58:26.186182Z",
     "start_time": "2024-12-30T18:58:26.177988Z"
    }
   },
   "id": "e4399ee5aa67ba2c",
   "execution_count": 25
  },
  {
   "cell_type": "code",
   "outputs": [
    {
     "ename": "NameError",
     "evalue": "name 'tracks' is not defined",
     "output_type": "error",
     "traceback": [
      "\u001B[0;31m---------------------------------------------------------------------------\u001B[0m",
      "\u001B[0;31mNameError\u001B[0m                                 Traceback (most recent call last)",
      "Cell \u001B[0;32mIn[26], line 13\u001B[0m\n\u001B[1;32m     10\u001B[0m         \u001B[38;5;28;01mreturn\u001B[39;00m pd\u001B[38;5;241m.\u001B[39mNaT\n\u001B[1;32m     12\u001B[0m \u001B[38;5;66;03m# Apply the function to the release_date column\u001B[39;00m\n\u001B[0;32m---> 13\u001B[0m tracks[\u001B[38;5;124m'\u001B[39m\u001B[38;5;124mrelease_date\u001B[39m\u001B[38;5;124m'\u001B[39m] \u001B[38;5;241m=\u001B[39m \u001B[43mtracks\u001B[49m[\u001B[38;5;124m'\u001B[39m\u001B[38;5;124mrelease_date\u001B[39m\u001B[38;5;124m'\u001B[39m]\u001B[38;5;241m.\u001B[39mapply(convert_to_datetime)\n\u001B[1;32m     15\u001B[0m \u001B[38;5;66;03m# Convert the datetime to a timestamp (as a number)\u001B[39;00m\n\u001B[1;32m     16\u001B[0m tracks[\u001B[38;5;124m'\u001B[39m\u001B[38;5;124mrelease_date_timestamp\u001B[39m\u001B[38;5;124m'\u001B[39m] \u001B[38;5;241m=\u001B[39m tracks[\u001B[38;5;124m'\u001B[39m\u001B[38;5;124mrelease_date\u001B[39m\u001B[38;5;124m'\u001B[39m]\u001B[38;5;241m.\u001B[39mapply(\u001B[38;5;28;01mlambda\u001B[39;00m x: x\u001B[38;5;241m.\u001B[39mtimestamp() \u001B[38;5;28;01mif\u001B[39;00m pd\u001B[38;5;241m.\u001B[39mnotnull(x) \u001B[38;5;28;01melse\u001B[39;00m \u001B[38;5;28;01mNone\u001B[39;00m)\n",
      "\u001B[0;31mNameError\u001B[0m: name 'tracks' is not defined"
     ]
    }
   ],
   "source": [
    "def convert_to_datetime(date_str):\n",
    "    try:\n",
    "        if len(date_str) == 4:  # Only year\n",
    "            return pd.to_datetime(date_str + '-01-01')\n",
    "        elif len(date_str) == 7:  # Year and month\n",
    "            return pd.to_datetime(date_str + '-01')\n",
    "        else:  # Full date\n",
    "            return pd.to_datetime(date_str)\n",
    "    except Exception as e:\n",
    "        return pd.NaT\n",
    "\n",
    "# Apply the function to the release_date column\n",
    "tracks['release_date'] = tracks['release_date'].apply(convert_to_datetime)\n",
    "\n",
    "# Convert the datetime to a timestamp (as a number)\n",
    "tracks['release_date_timestamp'] = tracks['release_date'].apply(lambda x: x.timestamp() if pd.notnull(x) else None)"
   ],
   "metadata": {
    "collapsed": false,
    "ExecuteTime": {
     "end_time": "2024-12-30T18:58:26.216301Z",
     "start_time": "2024-12-30T18:58:26.204204Z"
    }
   },
   "id": "64802c106a6d0d4d",
   "execution_count": 26
  },
  {
   "cell_type": "code",
   "outputs": [],
   "source": [],
   "metadata": {
    "collapsed": false,
    "ExecuteTime": {
     "end_time": "2024-12-30T18:58:26.218967Z",
     "start_time": "2024-12-30T18:58:26.217490Z"
    }
   },
   "id": "62c44be6c5e404c5",
   "execution_count": 26
  },
  {
   "cell_type": "code",
   "outputs": [
    {
     "ename": "NameError",
     "evalue": "name 'tracks' is not defined",
     "output_type": "error",
     "traceback": [
      "\u001B[0;31m---------------------------------------------------------------------------\u001B[0m",
      "\u001B[0;31mNameError\u001B[0m                                 Traceback (most recent call last)",
      "Cell \u001B[0;32mIn[27], line 1\u001B[0m\n\u001B[0;32m----> 1\u001B[0m tracks_corr \u001B[38;5;241m=\u001B[39m \u001B[43mtracks\u001B[49m\u001B[38;5;241m.\u001B[39mcorr()\n\u001B[1;32m      2\u001B[0m plt\u001B[38;5;241m.\u001B[39mfigure(figsize\u001B[38;5;241m=\u001B[39m(\u001B[38;5;241m10\u001B[39m, \u001B[38;5;241m8\u001B[39m))\n\u001B[1;32m      3\u001B[0m sns\u001B[38;5;241m.\u001B[39mheatmap(tracks_corr, annot\u001B[38;5;241m=\u001B[39m\u001B[38;5;28;01mTrue\u001B[39;00m, cmap\u001B[38;5;241m=\u001B[39m\u001B[38;5;124m'\u001B[39m\u001B[38;5;124mcoolwarm\u001B[39m\u001B[38;5;124m'\u001B[39m, fmt\u001B[38;5;241m=\u001B[39m\u001B[38;5;124m'\u001B[39m\u001B[38;5;124m.2f\u001B[39m\u001B[38;5;124m'\u001B[39m)\n",
      "\u001B[0;31mNameError\u001B[0m: name 'tracks' is not defined"
     ]
    }
   ],
   "source": [
    "tracks_corr = tracks.corr()\n",
    "plt.figure(figsize=(10, 8))\n",
    "sns.heatmap(tracks_corr, annot=True, cmap='coolwarm', fmt='.2f')\n",
    "plt.title('Correlation Matrix')\n",
    "# plt.show()\n",
    "plt.savefig(\"corr.png\")"
   ],
   "metadata": {
    "collapsed": false,
    "ExecuteTime": {
     "end_time": "2024-12-30T18:58:26.256877Z",
     "start_time": "2024-12-30T18:58:26.246356Z"
    }
   },
   "id": "960212a78bbf83df",
   "execution_count": 27
  },
  {
   "cell_type": "code",
   "outputs": [
    {
     "ename": "SyntaxError",
     "evalue": "invalid syntax (3329192783.py, line 1)",
     "output_type": "error",
     "traceback": [
      "\u001B[0;36m  Cell \u001B[0;32mIn[28], line 1\u001B[0;36m\u001B[0m\n\u001B[0;31m    When this index is below 33, the music tends to be predominantly instrumental, while values above 66 suggest a higher presence of lyrics, implying significant lyrical richness.\u001B[0m\n\u001B[0m         ^\u001B[0m\n\u001B[0;31mSyntaxError\u001B[0m\u001B[0;31m:\u001B[0m invalid syntax\n"
     ]
    }
   ],
   "source": [
    "When this index is below 33, the music tends to be predominantly instrumental, while values above 66 suggest a higher presence of lyrics, implying significant lyrical richness. "
   ],
   "metadata": {
    "collapsed": false,
    "ExecuteTime": {
     "end_time": "2024-12-30T18:58:26.289284Z",
     "start_time": "2024-12-30T18:58:26.285884Z"
    }
   },
   "id": "e2af7d0b4cfb71c",
   "execution_count": 28
  },
  {
   "cell_type": "code",
   "outputs": [
    {
     "ename": "NameError",
     "evalue": "name 'tracks' is not defined",
     "output_type": "error",
     "traceback": [
      "\u001B[0;31m---------------------------------------------------------------------------\u001B[0m",
      "\u001B[0;31mNameError\u001B[0m                                 Traceback (most recent call last)",
      "Cell \u001B[0;32mIn[29], line 1\u001B[0m\n\u001B[0;32m----> 1\u001B[0m plt\u001B[38;5;241m.\u001B[39mscatter(\u001B[43mtracks\u001B[49m[\u001B[38;5;124m\"\u001B[39m\u001B[38;5;124mrelease_date_timestamp\u001B[39m\u001B[38;5;124m\"\u001B[39m], tracks[\u001B[38;5;124m\"\u001B[39m\u001B[38;5;124mpopularity\u001B[39m\u001B[38;5;124m\"\u001B[39m], s\u001B[38;5;241m=\u001B[39m\u001B[38;5;241m4.20\u001B[39m, color\u001B[38;5;241m=\u001B[39m\u001B[38;5;124m'\u001B[39m\u001B[38;5;124mred\u001B[39m\u001B[38;5;124m'\u001B[39m)\n\u001B[1;32m      2\u001B[0m plt\u001B[38;5;241m.\u001B[39mtitle(\u001B[38;5;124m\"\u001B[39m\u001B[38;5;124mPopularność utworów wzgledem daty ich wydania\u001B[39m\u001B[38;5;124m\"\u001B[39m)\n\u001B[1;32m      3\u001B[0m plt\u001B[38;5;241m.\u001B[39mxlabel(\u001B[38;5;124m\"\u001B[39m\u001B[38;5;124mRelease date timestamp\u001B[39m\u001B[38;5;124m\"\u001B[39m)\n",
      "\u001B[0;31mNameError\u001B[0m: name 'tracks' is not defined"
     ]
    }
   ],
   "source": [
    "plt.scatter(tracks[\"release_date_timestamp\"], tracks[\"popularity\"], s=4.20, color='red')\n",
    "plt.title(\"Popularność utworów wzgledem daty ich wydania\")\n",
    "plt.xlabel(\"Release date timestamp\")\n",
    "plt.ylabel(\"Popularity\")\n",
    "plt.savefig(\"popularity.png\")"
   ],
   "metadata": {
    "collapsed": false,
    "ExecuteTime": {
     "end_time": "2024-12-30T18:58:26.311261Z",
     "start_time": "2024-12-30T18:58:26.301007Z"
    }
   },
   "id": "c35f42ffe82ef099",
   "execution_count": 29
  },
  {
   "cell_type": "code",
   "outputs": [
    {
     "ename": "NameError",
     "evalue": "name 'tracks' is not defined",
     "output_type": "error",
     "traceback": [
      "\u001B[0;31m---------------------------------------------------------------------------\u001B[0m",
      "\u001B[0;31mNameError\u001B[0m                                 Traceback (most recent call last)",
      "Cell \u001B[0;32mIn[30], line 1\u001B[0m\n\u001B[0;32m----> 1\u001B[0m plt\u001B[38;5;241m.\u001B[39mhist(\u001B[43mtracks\u001B[49m[\u001B[38;5;124m'\u001B[39m\u001B[38;5;124mpopularity\u001B[39m\u001B[38;5;124m'\u001B[39m], bins\u001B[38;5;241m=\u001B[39m\u001B[38;5;241m30\u001B[39m, color\u001B[38;5;241m=\u001B[39m\u001B[38;5;124m'\u001B[39m\u001B[38;5;124mblue\u001B[39m\u001B[38;5;124m'\u001B[39m, edgecolor\u001B[38;5;241m=\u001B[39m\u001B[38;5;124m'\u001B[39m\u001B[38;5;124mblack\u001B[39m\u001B[38;5;124m'\u001B[39m)\n\u001B[1;32m      2\u001B[0m plt\u001B[38;5;241m.\u001B[39mtitle(\u001B[38;5;124m\"\u001B[39m\u001B[38;5;124mRozkład popularności\u001B[39m\u001B[38;5;124m\"\u001B[39m)\n\u001B[1;32m      3\u001B[0m plt\u001B[38;5;241m.\u001B[39mxlabel(\u001B[38;5;124m'\u001B[39m\u001B[38;5;124mPopularity\u001B[39m\u001B[38;5;124m'\u001B[39m)\n",
      "\u001B[0;31mNameError\u001B[0m: name 'tracks' is not defined"
     ]
    }
   ],
   "source": [
    "plt.hist(tracks['popularity'], bins=30, color='blue', edgecolor='black')\n",
    "plt.title(\"Rozkład popularności\")\n",
    "plt.xlabel('Popularity')\n",
    "plt.ylabel('Frequency')\n",
    "plt.savefig('popularity_distribution.png')\n",
    "plt.show()"
   ],
   "metadata": {
    "collapsed": false,
    "ExecuteTime": {
     "end_time": "2024-12-30T18:58:26.323225Z",
     "start_time": "2024-12-30T18:58:26.313171Z"
    }
   },
   "id": "f22fac6811a4e440",
   "execution_count": 30
  },
  {
   "cell_type": "markdown",
   "source": [
    "# Tracks with a number of views per day "
   ],
   "metadata": {
    "collapsed": false
   },
   "id": "160d56cb02dd7037"
  },
  {
   "cell_type": "code",
   "outputs": [],
   "source": [
    "sessions = pd.read_json(\"../data-v2/sessions.jsonl\",lines=True)\n"
   ],
   "metadata": {
    "collapsed": false,
    "ExecuteTime": {
     "end_time": "2024-12-30T19:07:31.872177Z",
     "start_time": "2024-12-30T19:07:31.772355Z"
    }
   },
   "id": "e46933379f1fcb69",
   "execution_count": 33
  },
  {
   "cell_type": "code",
   "outputs": [
    {
     "data": {
      "text/plain": "       session_id               timestamp  user_id                track_id  \\\n0             124 2024-07-13 15:55:37.000      101  4YPgTCGJWAlHQ5g6eWoM8r   \n1             125 2024-06-20 06:31:23.547      101  4p8QcNkaq2FQj8uGJ7HEDK   \n2             125 2024-06-20 06:35:43.814      101  4GKk1uNzpxIptBuaY97Dkj   \n3             125 2024-06-20 06:39:13.270      101  4GKk1uNzpxIptBuaY97Dkj   \n4             125 2024-06-20 06:40:43.481      101  0ZO2iSS12JTftv10cSCYf8   \n...           ...                     ...      ...                     ...   \n26342        4755 2024-08-11 13:40:51.342      150  4COFVKhvXA3LecFReH6D2v   \n26343        4755 2024-08-11 13:42:19.523      150  4COFVKhvXA3LecFReH6D2v   \n26344        4755 2024-08-11 13:44:50.582      150  6vPAmoERUMRoTZaCCSWQ12   \n26345        4755 2024-08-11 13:49:36.582      150  5A32KQZznC2HSqr9qzTl2N   \n26346        4755 2024-08-11 13:54:51.169      150  3YkDslZvvMixTwgDId0aYB   \n\n      event_type  \n0           play  \n1           play  \n2           play  \n3           like  \n4           play  \n...          ...  \n26342       play  \n26343       like  \n26344       play  \n26345       play  \n26346       play  \n\n[26347 rows x 5 columns]",
      "text/html": "<div>\n<style scoped>\n    .dataframe tbody tr th:only-of-type {\n        vertical-align: middle;\n    }\n\n    .dataframe tbody tr th {\n        vertical-align: top;\n    }\n\n    .dataframe thead th {\n        text-align: right;\n    }\n</style>\n<table border=\"1\" class=\"dataframe\">\n  <thead>\n    <tr style=\"text-align: right;\">\n      <th></th>\n      <th>session_id</th>\n      <th>timestamp</th>\n      <th>user_id</th>\n      <th>track_id</th>\n      <th>event_type</th>\n    </tr>\n  </thead>\n  <tbody>\n    <tr>\n      <th>0</th>\n      <td>124</td>\n      <td>2024-07-13 15:55:37.000</td>\n      <td>101</td>\n      <td>4YPgTCGJWAlHQ5g6eWoM8r</td>\n      <td>play</td>\n    </tr>\n    <tr>\n      <th>1</th>\n      <td>125</td>\n      <td>2024-06-20 06:31:23.547</td>\n      <td>101</td>\n      <td>4p8QcNkaq2FQj8uGJ7HEDK</td>\n      <td>play</td>\n    </tr>\n    <tr>\n      <th>2</th>\n      <td>125</td>\n      <td>2024-06-20 06:35:43.814</td>\n      <td>101</td>\n      <td>4GKk1uNzpxIptBuaY97Dkj</td>\n      <td>play</td>\n    </tr>\n    <tr>\n      <th>3</th>\n      <td>125</td>\n      <td>2024-06-20 06:39:13.270</td>\n      <td>101</td>\n      <td>4GKk1uNzpxIptBuaY97Dkj</td>\n      <td>like</td>\n    </tr>\n    <tr>\n      <th>4</th>\n      <td>125</td>\n      <td>2024-06-20 06:40:43.481</td>\n      <td>101</td>\n      <td>0ZO2iSS12JTftv10cSCYf8</td>\n      <td>play</td>\n    </tr>\n    <tr>\n      <th>...</th>\n      <td>...</td>\n      <td>...</td>\n      <td>...</td>\n      <td>...</td>\n      <td>...</td>\n    </tr>\n    <tr>\n      <th>26342</th>\n      <td>4755</td>\n      <td>2024-08-11 13:40:51.342</td>\n      <td>150</td>\n      <td>4COFVKhvXA3LecFReH6D2v</td>\n      <td>play</td>\n    </tr>\n    <tr>\n      <th>26343</th>\n      <td>4755</td>\n      <td>2024-08-11 13:42:19.523</td>\n      <td>150</td>\n      <td>4COFVKhvXA3LecFReH6D2v</td>\n      <td>like</td>\n    </tr>\n    <tr>\n      <th>26344</th>\n      <td>4755</td>\n      <td>2024-08-11 13:44:50.582</td>\n      <td>150</td>\n      <td>6vPAmoERUMRoTZaCCSWQ12</td>\n      <td>play</td>\n    </tr>\n    <tr>\n      <th>26345</th>\n      <td>4755</td>\n      <td>2024-08-11 13:49:36.582</td>\n      <td>150</td>\n      <td>5A32KQZznC2HSqr9qzTl2N</td>\n      <td>play</td>\n    </tr>\n    <tr>\n      <th>26346</th>\n      <td>4755</td>\n      <td>2024-08-11 13:54:51.169</td>\n      <td>150</td>\n      <td>3YkDslZvvMixTwgDId0aYB</td>\n      <td>play</td>\n    </tr>\n  </tbody>\n</table>\n<p>26347 rows × 5 columns</p>\n</div>"
     },
     "execution_count": 34,
     "metadata": {},
     "output_type": "execute_result"
    }
   ],
   "source": [
    "sessions"
   ],
   "metadata": {
    "collapsed": false,
    "ExecuteTime": {
     "end_time": "2024-12-30T19:07:37.704114Z",
     "start_time": "2024-12-30T19:07:37.694244Z"
    }
   },
   "id": "3e540b591795fc46",
   "execution_count": 34
  },
  {
   "cell_type": "code",
   "outputs": [],
   "source": [
    "sessions['date'] = sessions['timestamp'].dt.date"
   ],
   "metadata": {
    "collapsed": false,
    "ExecuteTime": {
     "end_time": "2024-12-30T19:09:43.689295Z",
     "start_time": "2024-12-30T19:09:43.671905Z"
    }
   },
   "id": "bf1505b3f8a102dc",
   "execution_count": 35
  },
  {
   "cell_type": "code",
   "outputs": [
    {
     "data": {
      "text/plain": "       session_id               timestamp  user_id                track_id  \\\n0             124 2024-07-13 15:55:37.000      101  4YPgTCGJWAlHQ5g6eWoM8r   \n1             125 2024-06-20 06:31:23.547      101  4p8QcNkaq2FQj8uGJ7HEDK   \n2             125 2024-06-20 06:35:43.814      101  4GKk1uNzpxIptBuaY97Dkj   \n3             125 2024-06-20 06:39:13.270      101  4GKk1uNzpxIptBuaY97Dkj   \n4             125 2024-06-20 06:40:43.481      101  0ZO2iSS12JTftv10cSCYf8   \n...           ...                     ...      ...                     ...   \n26342        4755 2024-08-11 13:40:51.342      150  4COFVKhvXA3LecFReH6D2v   \n26343        4755 2024-08-11 13:42:19.523      150  4COFVKhvXA3LecFReH6D2v   \n26344        4755 2024-08-11 13:44:50.582      150  6vPAmoERUMRoTZaCCSWQ12   \n26345        4755 2024-08-11 13:49:36.582      150  5A32KQZznC2HSqr9qzTl2N   \n26346        4755 2024-08-11 13:54:51.169      150  3YkDslZvvMixTwgDId0aYB   \n\n      event_type        date  \n0           play  2024-07-13  \n1           play  2024-06-20  \n2           play  2024-06-20  \n3           like  2024-06-20  \n4           play  2024-06-20  \n...          ...         ...  \n26342       play  2024-08-11  \n26343       like  2024-08-11  \n26344       play  2024-08-11  \n26345       play  2024-08-11  \n26346       play  2024-08-11  \n\n[26347 rows x 6 columns]",
      "text/html": "<div>\n<style scoped>\n    .dataframe tbody tr th:only-of-type {\n        vertical-align: middle;\n    }\n\n    .dataframe tbody tr th {\n        vertical-align: top;\n    }\n\n    .dataframe thead th {\n        text-align: right;\n    }\n</style>\n<table border=\"1\" class=\"dataframe\">\n  <thead>\n    <tr style=\"text-align: right;\">\n      <th></th>\n      <th>session_id</th>\n      <th>timestamp</th>\n      <th>user_id</th>\n      <th>track_id</th>\n      <th>event_type</th>\n      <th>date</th>\n    </tr>\n  </thead>\n  <tbody>\n    <tr>\n      <th>0</th>\n      <td>124</td>\n      <td>2024-07-13 15:55:37.000</td>\n      <td>101</td>\n      <td>4YPgTCGJWAlHQ5g6eWoM8r</td>\n      <td>play</td>\n      <td>2024-07-13</td>\n    </tr>\n    <tr>\n      <th>1</th>\n      <td>125</td>\n      <td>2024-06-20 06:31:23.547</td>\n      <td>101</td>\n      <td>4p8QcNkaq2FQj8uGJ7HEDK</td>\n      <td>play</td>\n      <td>2024-06-20</td>\n    </tr>\n    <tr>\n      <th>2</th>\n      <td>125</td>\n      <td>2024-06-20 06:35:43.814</td>\n      <td>101</td>\n      <td>4GKk1uNzpxIptBuaY97Dkj</td>\n      <td>play</td>\n      <td>2024-06-20</td>\n    </tr>\n    <tr>\n      <th>3</th>\n      <td>125</td>\n      <td>2024-06-20 06:39:13.270</td>\n      <td>101</td>\n      <td>4GKk1uNzpxIptBuaY97Dkj</td>\n      <td>like</td>\n      <td>2024-06-20</td>\n    </tr>\n    <tr>\n      <th>4</th>\n      <td>125</td>\n      <td>2024-06-20 06:40:43.481</td>\n      <td>101</td>\n      <td>0ZO2iSS12JTftv10cSCYf8</td>\n      <td>play</td>\n      <td>2024-06-20</td>\n    </tr>\n    <tr>\n      <th>...</th>\n      <td>...</td>\n      <td>...</td>\n      <td>...</td>\n      <td>...</td>\n      <td>...</td>\n      <td>...</td>\n    </tr>\n    <tr>\n      <th>26342</th>\n      <td>4755</td>\n      <td>2024-08-11 13:40:51.342</td>\n      <td>150</td>\n      <td>4COFVKhvXA3LecFReH6D2v</td>\n      <td>play</td>\n      <td>2024-08-11</td>\n    </tr>\n    <tr>\n      <th>26343</th>\n      <td>4755</td>\n      <td>2024-08-11 13:42:19.523</td>\n      <td>150</td>\n      <td>4COFVKhvXA3LecFReH6D2v</td>\n      <td>like</td>\n      <td>2024-08-11</td>\n    </tr>\n    <tr>\n      <th>26344</th>\n      <td>4755</td>\n      <td>2024-08-11 13:44:50.582</td>\n      <td>150</td>\n      <td>6vPAmoERUMRoTZaCCSWQ12</td>\n      <td>play</td>\n      <td>2024-08-11</td>\n    </tr>\n    <tr>\n      <th>26345</th>\n      <td>4755</td>\n      <td>2024-08-11 13:49:36.582</td>\n      <td>150</td>\n      <td>5A32KQZznC2HSqr9qzTl2N</td>\n      <td>play</td>\n      <td>2024-08-11</td>\n    </tr>\n    <tr>\n      <th>26346</th>\n      <td>4755</td>\n      <td>2024-08-11 13:54:51.169</td>\n      <td>150</td>\n      <td>3YkDslZvvMixTwgDId0aYB</td>\n      <td>play</td>\n      <td>2024-08-11</td>\n    </tr>\n  </tbody>\n</table>\n<p>26347 rows × 6 columns</p>\n</div>"
     },
     "execution_count": 36,
     "metadata": {},
     "output_type": "execute_result"
    }
   ],
   "source": [
    "sessions"
   ],
   "metadata": {
    "collapsed": false,
    "ExecuteTime": {
     "end_time": "2024-12-30T19:09:46.926151Z",
     "start_time": "2024-12-30T19:09:46.915377Z"
    }
   },
   "id": "d28d38138c33f1e3",
   "execution_count": 36
  },
  {
   "cell_type": "code",
   "outputs": [],
   "source": [
    "sessions = sessions[sessions['event_type'] != 'advertisement']"
   ],
   "metadata": {
    "collapsed": false,
    "ExecuteTime": {
     "end_time": "2024-12-30T21:45:39.029917Z",
     "start_time": "2024-12-30T21:45:38.900466Z"
    }
   },
   "id": "a662db2b482eb463",
   "execution_count": 37
  },
  {
   "cell_type": "code",
   "outputs": [
    {
     "data": {
      "text/plain": "       session_id               timestamp  user_id                track_id  \\\n0             124 2024-07-13 15:55:37.000      101  4YPgTCGJWAlHQ5g6eWoM8r   \n1             125 2024-06-20 06:31:23.547      101  4p8QcNkaq2FQj8uGJ7HEDK   \n2             125 2024-06-20 06:35:43.814      101  4GKk1uNzpxIptBuaY97Dkj   \n3             125 2024-06-20 06:39:13.270      101  4GKk1uNzpxIptBuaY97Dkj   \n4             125 2024-06-20 06:40:43.481      101  0ZO2iSS12JTftv10cSCYf8   \n...           ...                     ...      ...                     ...   \n26342        4755 2024-08-11 13:40:51.342      150  4COFVKhvXA3LecFReH6D2v   \n26343        4755 2024-08-11 13:42:19.523      150  4COFVKhvXA3LecFReH6D2v   \n26344        4755 2024-08-11 13:44:50.582      150  6vPAmoERUMRoTZaCCSWQ12   \n26345        4755 2024-08-11 13:49:36.582      150  5A32KQZznC2HSqr9qzTl2N   \n26346        4755 2024-08-11 13:54:51.169      150  3YkDslZvvMixTwgDId0aYB   \n\n      event_type        date  \n0           play  2024-07-13  \n1           play  2024-06-20  \n2           play  2024-06-20  \n3           like  2024-06-20  \n4           play  2024-06-20  \n...          ...         ...  \n26342       play  2024-08-11  \n26343       like  2024-08-11  \n26344       play  2024-08-11  \n26345       play  2024-08-11  \n26346       play  2024-08-11  \n\n[26347 rows x 6 columns]",
      "text/html": "<div>\n<style scoped>\n    .dataframe tbody tr th:only-of-type {\n        vertical-align: middle;\n    }\n\n    .dataframe tbody tr th {\n        vertical-align: top;\n    }\n\n    .dataframe thead th {\n        text-align: right;\n    }\n</style>\n<table border=\"1\" class=\"dataframe\">\n  <thead>\n    <tr style=\"text-align: right;\">\n      <th></th>\n      <th>session_id</th>\n      <th>timestamp</th>\n      <th>user_id</th>\n      <th>track_id</th>\n      <th>event_type</th>\n      <th>date</th>\n    </tr>\n  </thead>\n  <tbody>\n    <tr>\n      <th>0</th>\n      <td>124</td>\n      <td>2024-07-13 15:55:37.000</td>\n      <td>101</td>\n      <td>4YPgTCGJWAlHQ5g6eWoM8r</td>\n      <td>play</td>\n      <td>2024-07-13</td>\n    </tr>\n    <tr>\n      <th>1</th>\n      <td>125</td>\n      <td>2024-06-20 06:31:23.547</td>\n      <td>101</td>\n      <td>4p8QcNkaq2FQj8uGJ7HEDK</td>\n      <td>play</td>\n      <td>2024-06-20</td>\n    </tr>\n    <tr>\n      <th>2</th>\n      <td>125</td>\n      <td>2024-06-20 06:35:43.814</td>\n      <td>101</td>\n      <td>4GKk1uNzpxIptBuaY97Dkj</td>\n      <td>play</td>\n      <td>2024-06-20</td>\n    </tr>\n    <tr>\n      <th>3</th>\n      <td>125</td>\n      <td>2024-06-20 06:39:13.270</td>\n      <td>101</td>\n      <td>4GKk1uNzpxIptBuaY97Dkj</td>\n      <td>like</td>\n      <td>2024-06-20</td>\n    </tr>\n    <tr>\n      <th>4</th>\n      <td>125</td>\n      <td>2024-06-20 06:40:43.481</td>\n      <td>101</td>\n      <td>0ZO2iSS12JTftv10cSCYf8</td>\n      <td>play</td>\n      <td>2024-06-20</td>\n    </tr>\n    <tr>\n      <th>...</th>\n      <td>...</td>\n      <td>...</td>\n      <td>...</td>\n      <td>...</td>\n      <td>...</td>\n      <td>...</td>\n    </tr>\n    <tr>\n      <th>26342</th>\n      <td>4755</td>\n      <td>2024-08-11 13:40:51.342</td>\n      <td>150</td>\n      <td>4COFVKhvXA3LecFReH6D2v</td>\n      <td>play</td>\n      <td>2024-08-11</td>\n    </tr>\n    <tr>\n      <th>26343</th>\n      <td>4755</td>\n      <td>2024-08-11 13:42:19.523</td>\n      <td>150</td>\n      <td>4COFVKhvXA3LecFReH6D2v</td>\n      <td>like</td>\n      <td>2024-08-11</td>\n    </tr>\n    <tr>\n      <th>26344</th>\n      <td>4755</td>\n      <td>2024-08-11 13:44:50.582</td>\n      <td>150</td>\n      <td>6vPAmoERUMRoTZaCCSWQ12</td>\n      <td>play</td>\n      <td>2024-08-11</td>\n    </tr>\n    <tr>\n      <th>26345</th>\n      <td>4755</td>\n      <td>2024-08-11 13:49:36.582</td>\n      <td>150</td>\n      <td>5A32KQZznC2HSqr9qzTl2N</td>\n      <td>play</td>\n      <td>2024-08-11</td>\n    </tr>\n    <tr>\n      <th>26346</th>\n      <td>4755</td>\n      <td>2024-08-11 13:54:51.169</td>\n      <td>150</td>\n      <td>3YkDslZvvMixTwgDId0aYB</td>\n      <td>play</td>\n      <td>2024-08-11</td>\n    </tr>\n  </tbody>\n</table>\n<p>26347 rows × 6 columns</p>\n</div>"
     },
     "execution_count": 38,
     "metadata": {},
     "output_type": "execute_result"
    }
   ],
   "source": [
    "sessions"
   ],
   "metadata": {
    "collapsed": false,
    "ExecuteTime": {
     "end_time": "2024-12-30T21:45:41.726676Z",
     "start_time": "2024-12-30T21:45:41.718963Z"
    }
   },
   "id": "e214604f63a3511",
   "execution_count": 38
  },
  {
   "cell_type": "markdown",
   "source": [],
   "metadata": {
    "collapsed": false
   },
   "id": "18d479e9827ee7c4"
  },
  {
   "cell_type": "code",
   "outputs": [
    {
     "data": {
      "text/plain": "       session_id               timestamp  user_id                track_id  \\\n0             124 2024-07-13 15:55:37.000      101  4YPgTCGJWAlHQ5g6eWoM8r   \n1             125 2024-06-20 06:31:23.547      101  4p8QcNkaq2FQj8uGJ7HEDK   \n2             125 2024-06-20 06:35:43.814      101  4GKk1uNzpxIptBuaY97Dkj   \n3             125 2024-06-20 06:39:13.270      101  4GKk1uNzpxIptBuaY97Dkj   \n4             125 2024-06-20 06:40:43.481      101  0ZO2iSS12JTftv10cSCYf8   \n...           ...                     ...      ...                     ...   \n26342        4755 2024-08-11 13:40:51.342      150  4COFVKhvXA3LecFReH6D2v   \n26343        4755 2024-08-11 13:42:19.523      150  4COFVKhvXA3LecFReH6D2v   \n26344        4755 2024-08-11 13:44:50.582      150  6vPAmoERUMRoTZaCCSWQ12   \n26345        4755 2024-08-11 13:49:36.582      150  5A32KQZznC2HSqr9qzTl2N   \n26346        4755 2024-08-11 13:54:51.169      150  3YkDslZvvMixTwgDId0aYB   \n\n      event_type        date  \n0           play  2024-07-13  \n1           play  2024-06-20  \n2           play  2024-06-20  \n3           like  2024-06-20  \n4           play  2024-06-20  \n...          ...         ...  \n26342       play  2024-08-11  \n26343       like  2024-08-11  \n26344       play  2024-08-11  \n26345       play  2024-08-11  \n26346       play  2024-08-11  \n\n[22611 rows x 6 columns]",
      "text/html": "<div>\n<style scoped>\n    .dataframe tbody tr th:only-of-type {\n        vertical-align: middle;\n    }\n\n    .dataframe tbody tr th {\n        vertical-align: top;\n    }\n\n    .dataframe thead th {\n        text-align: right;\n    }\n</style>\n<table border=\"1\" class=\"dataframe\">\n  <thead>\n    <tr style=\"text-align: right;\">\n      <th></th>\n      <th>session_id</th>\n      <th>timestamp</th>\n      <th>user_id</th>\n      <th>track_id</th>\n      <th>event_type</th>\n      <th>date</th>\n    </tr>\n  </thead>\n  <tbody>\n    <tr>\n      <th>0</th>\n      <td>124</td>\n      <td>2024-07-13 15:55:37.000</td>\n      <td>101</td>\n      <td>4YPgTCGJWAlHQ5g6eWoM8r</td>\n      <td>play</td>\n      <td>2024-07-13</td>\n    </tr>\n    <tr>\n      <th>1</th>\n      <td>125</td>\n      <td>2024-06-20 06:31:23.547</td>\n      <td>101</td>\n      <td>4p8QcNkaq2FQj8uGJ7HEDK</td>\n      <td>play</td>\n      <td>2024-06-20</td>\n    </tr>\n    <tr>\n      <th>2</th>\n      <td>125</td>\n      <td>2024-06-20 06:35:43.814</td>\n      <td>101</td>\n      <td>4GKk1uNzpxIptBuaY97Dkj</td>\n      <td>play</td>\n      <td>2024-06-20</td>\n    </tr>\n    <tr>\n      <th>3</th>\n      <td>125</td>\n      <td>2024-06-20 06:39:13.270</td>\n      <td>101</td>\n      <td>4GKk1uNzpxIptBuaY97Dkj</td>\n      <td>like</td>\n      <td>2024-06-20</td>\n    </tr>\n    <tr>\n      <th>4</th>\n      <td>125</td>\n      <td>2024-06-20 06:40:43.481</td>\n      <td>101</td>\n      <td>0ZO2iSS12JTftv10cSCYf8</td>\n      <td>play</td>\n      <td>2024-06-20</td>\n    </tr>\n    <tr>\n      <th>...</th>\n      <td>...</td>\n      <td>...</td>\n      <td>...</td>\n      <td>...</td>\n      <td>...</td>\n      <td>...</td>\n    </tr>\n    <tr>\n      <th>26342</th>\n      <td>4755</td>\n      <td>2024-08-11 13:40:51.342</td>\n      <td>150</td>\n      <td>4COFVKhvXA3LecFReH6D2v</td>\n      <td>play</td>\n      <td>2024-08-11</td>\n    </tr>\n    <tr>\n      <th>26343</th>\n      <td>4755</td>\n      <td>2024-08-11 13:42:19.523</td>\n      <td>150</td>\n      <td>4COFVKhvXA3LecFReH6D2v</td>\n      <td>like</td>\n      <td>2024-08-11</td>\n    </tr>\n    <tr>\n      <th>26344</th>\n      <td>4755</td>\n      <td>2024-08-11 13:44:50.582</td>\n      <td>150</td>\n      <td>6vPAmoERUMRoTZaCCSWQ12</td>\n      <td>play</td>\n      <td>2024-08-11</td>\n    </tr>\n    <tr>\n      <th>26345</th>\n      <td>4755</td>\n      <td>2024-08-11 13:49:36.582</td>\n      <td>150</td>\n      <td>5A32KQZznC2HSqr9qzTl2N</td>\n      <td>play</td>\n      <td>2024-08-11</td>\n    </tr>\n    <tr>\n      <th>26346</th>\n      <td>4755</td>\n      <td>2024-08-11 13:54:51.169</td>\n      <td>150</td>\n      <td>3YkDslZvvMixTwgDId0aYB</td>\n      <td>play</td>\n      <td>2024-08-11</td>\n    </tr>\n  </tbody>\n</table>\n<p>22611 rows × 6 columns</p>\n</div>"
     },
     "execution_count": 85,
     "metadata": {},
     "output_type": "execute_result"
    }
   ],
   "source": [
    "sessions[sessions['event_type'] != 'advertisement']\n",
    "sessions.dropna(subset = ['track_id'])"
   ],
   "metadata": {
    "collapsed": false,
    "ExecuteTime": {
     "end_time": "2024-12-30T22:53:30.139063Z",
     "start_time": "2024-12-30T22:53:30.092668Z"
    }
   },
   "id": "68bb420f2106ab0",
   "execution_count": 85
  },
  {
   "cell_type": "code",
   "outputs": [
    {
     "data": {
      "text/plain": "       session_id               timestamp  user_id                track_id  \\\n0             124 2024-07-13 15:55:37.000      101  4YPgTCGJWAlHQ5g6eWoM8r   \n1             125 2024-06-20 06:31:23.547      101  4p8QcNkaq2FQj8uGJ7HEDK   \n2             125 2024-06-20 06:35:43.814      101  4GKk1uNzpxIptBuaY97Dkj   \n3             125 2024-06-20 06:39:13.270      101  4GKk1uNzpxIptBuaY97Dkj   \n4             125 2024-06-20 06:40:43.481      101  0ZO2iSS12JTftv10cSCYf8   \n...           ...                     ...      ...                     ...   \n26342        4755 2024-08-11 13:40:51.342      150  4COFVKhvXA3LecFReH6D2v   \n26343        4755 2024-08-11 13:42:19.523      150  4COFVKhvXA3LecFReH6D2v   \n26344        4755 2024-08-11 13:44:50.582      150  6vPAmoERUMRoTZaCCSWQ12   \n26345        4755 2024-08-11 13:49:36.582      150  5A32KQZznC2HSqr9qzTl2N   \n26346        4755 2024-08-11 13:54:51.169      150  3YkDslZvvMixTwgDId0aYB   \n\n      event_type        date  \n0           play  2024-07-13  \n1           play  2024-06-20  \n2           play  2024-06-20  \n3           like  2024-06-20  \n4           play  2024-06-20  \n...          ...         ...  \n26342       play  2024-08-11  \n26343       like  2024-08-11  \n26344       play  2024-08-11  \n26345       play  2024-08-11  \n26346       play  2024-08-11  \n\n[22611 rows x 6 columns]",
      "text/html": "<div>\n<style scoped>\n    .dataframe tbody tr th:only-of-type {\n        vertical-align: middle;\n    }\n\n    .dataframe tbody tr th {\n        vertical-align: top;\n    }\n\n    .dataframe thead th {\n        text-align: right;\n    }\n</style>\n<table border=\"1\" class=\"dataframe\">\n  <thead>\n    <tr style=\"text-align: right;\">\n      <th></th>\n      <th>session_id</th>\n      <th>timestamp</th>\n      <th>user_id</th>\n      <th>track_id</th>\n      <th>event_type</th>\n      <th>date</th>\n    </tr>\n  </thead>\n  <tbody>\n    <tr>\n      <th>0</th>\n      <td>124</td>\n      <td>2024-07-13 15:55:37.000</td>\n      <td>101</td>\n      <td>4YPgTCGJWAlHQ5g6eWoM8r</td>\n      <td>play</td>\n      <td>2024-07-13</td>\n    </tr>\n    <tr>\n      <th>1</th>\n      <td>125</td>\n      <td>2024-06-20 06:31:23.547</td>\n      <td>101</td>\n      <td>4p8QcNkaq2FQj8uGJ7HEDK</td>\n      <td>play</td>\n      <td>2024-06-20</td>\n    </tr>\n    <tr>\n      <th>2</th>\n      <td>125</td>\n      <td>2024-06-20 06:35:43.814</td>\n      <td>101</td>\n      <td>4GKk1uNzpxIptBuaY97Dkj</td>\n      <td>play</td>\n      <td>2024-06-20</td>\n    </tr>\n    <tr>\n      <th>3</th>\n      <td>125</td>\n      <td>2024-06-20 06:39:13.270</td>\n      <td>101</td>\n      <td>4GKk1uNzpxIptBuaY97Dkj</td>\n      <td>like</td>\n      <td>2024-06-20</td>\n    </tr>\n    <tr>\n      <th>4</th>\n      <td>125</td>\n      <td>2024-06-20 06:40:43.481</td>\n      <td>101</td>\n      <td>0ZO2iSS12JTftv10cSCYf8</td>\n      <td>play</td>\n      <td>2024-06-20</td>\n    </tr>\n    <tr>\n      <th>...</th>\n      <td>...</td>\n      <td>...</td>\n      <td>...</td>\n      <td>...</td>\n      <td>...</td>\n      <td>...</td>\n    </tr>\n    <tr>\n      <th>26342</th>\n      <td>4755</td>\n      <td>2024-08-11 13:40:51.342</td>\n      <td>150</td>\n      <td>4COFVKhvXA3LecFReH6D2v</td>\n      <td>play</td>\n      <td>2024-08-11</td>\n    </tr>\n    <tr>\n      <th>26343</th>\n      <td>4755</td>\n      <td>2024-08-11 13:42:19.523</td>\n      <td>150</td>\n      <td>4COFVKhvXA3LecFReH6D2v</td>\n      <td>like</td>\n      <td>2024-08-11</td>\n    </tr>\n    <tr>\n      <th>26344</th>\n      <td>4755</td>\n      <td>2024-08-11 13:44:50.582</td>\n      <td>150</td>\n      <td>6vPAmoERUMRoTZaCCSWQ12</td>\n      <td>play</td>\n      <td>2024-08-11</td>\n    </tr>\n    <tr>\n      <th>26345</th>\n      <td>4755</td>\n      <td>2024-08-11 13:49:36.582</td>\n      <td>150</td>\n      <td>5A32KQZznC2HSqr9qzTl2N</td>\n      <td>play</td>\n      <td>2024-08-11</td>\n    </tr>\n    <tr>\n      <th>26346</th>\n      <td>4755</td>\n      <td>2024-08-11 13:54:51.169</td>\n      <td>150</td>\n      <td>3YkDslZvvMixTwgDId0aYB</td>\n      <td>play</td>\n      <td>2024-08-11</td>\n    </tr>\n  </tbody>\n</table>\n<p>22611 rows × 6 columns</p>\n</div>"
     },
     "execution_count": 86,
     "metadata": {},
     "output_type": "execute_result"
    }
   ],
   "source": [
    "filtered_sessions = sessions.dropna(subset = ['track_id'])\n",
    "filtered_sessions"
   ],
   "metadata": {
    "collapsed": false,
    "ExecuteTime": {
     "end_time": "2024-12-30T22:53:32.831726Z",
     "start_time": "2024-12-30T22:53:32.790227Z"
    }
   },
   "id": "71abb3b531824c47",
   "execution_count": 86
  },
  {
   "cell_type": "code",
   "outputs": [
    {
     "data": {
      "text/plain": "user_id\n125    965\n112    915\n123    903\n119    895\n104    885\n131    881\n122    840\n127    806\n121    796\n149    754\n135    740\n126    726\n143    691\n150    660\n137    649\n109    649\n117    631\n111    575\n132    575\n136    532\n114    530\n102    514\n141    510\n133    433\n107    404\n115    391\n105    371\n124    368\n110    336\n130    328\n145    328\n147    306\n139    301\n103    264\n148    248\n106    244\n118    226\n108    188\n129    158\n128    148\n134    147\n113    142\n101    131\n138    120\n142    118\n140    111\n144     73\n146     36\n120     35\n116     34\nName: count, dtype: int64"
     },
     "execution_count": 87,
     "metadata": {},
     "output_type": "execute_result"
    }
   ],
   "source": [
    "filtered_sessions[\"user_id\"].value_counts()"
   ],
   "metadata": {
    "collapsed": false,
    "ExecuteTime": {
     "end_time": "2024-12-30T22:53:35.551964Z",
     "start_time": "2024-12-30T22:53:35.545223Z"
    }
   },
   "id": "e947ad5e49bad99f",
   "execution_count": 87
  },
  {
   "cell_type": "code",
   "outputs": [],
   "source": [
    "events_data_df = pd.DataFrame()"
   ],
   "metadata": {
    "collapsed": false,
    "ExecuteTime": {
     "end_time": "2024-12-30T22:53:38.641028Z",
     "start_time": "2024-12-30T22:53:38.630098Z"
    }
   },
   "id": "15e0e5b456c162a0",
   "execution_count": 88
  },
  {
   "cell_type": "code",
   "outputs": [],
   "source": [
    "events_data_df[\"event_type\"] = filtered_sessions['event_type']\n",
    "events_data_df['track_id'] = filtered_sessions['track_id']\n",
    "events_data_df[\"timestamp\"] = filtered_sessions[\"timestamp\"]"
   ],
   "metadata": {
    "collapsed": false,
    "ExecuteTime": {
     "end_time": "2024-12-30T22:53:39.109464Z",
     "start_time": "2024-12-30T22:53:39.097253Z"
    }
   },
   "id": "bb699b5894704ac",
   "execution_count": 89
  },
  {
   "cell_type": "code",
   "outputs": [
    {
     "data": {
      "text/plain": "      event_type                track_id               timestamp\n0           play  4YPgTCGJWAlHQ5g6eWoM8r 2024-07-13 15:55:37.000\n1           play  4p8QcNkaq2FQj8uGJ7HEDK 2024-06-20 06:31:23.547\n2           play  4GKk1uNzpxIptBuaY97Dkj 2024-06-20 06:35:43.814\n3           like  4GKk1uNzpxIptBuaY97Dkj 2024-06-20 06:39:13.270\n4           play  0ZO2iSS12JTftv10cSCYf8 2024-06-20 06:40:43.481\n...          ...                     ...                     ...\n26342       play  4COFVKhvXA3LecFReH6D2v 2024-08-11 13:40:51.342\n26343       like  4COFVKhvXA3LecFReH6D2v 2024-08-11 13:42:19.523\n26344       play  6vPAmoERUMRoTZaCCSWQ12 2024-08-11 13:44:50.582\n26345       play  5A32KQZznC2HSqr9qzTl2N 2024-08-11 13:49:36.582\n26346       play  3YkDslZvvMixTwgDId0aYB 2024-08-11 13:54:51.169\n\n[22611 rows x 3 columns]",
      "text/html": "<div>\n<style scoped>\n    .dataframe tbody tr th:only-of-type {\n        vertical-align: middle;\n    }\n\n    .dataframe tbody tr th {\n        vertical-align: top;\n    }\n\n    .dataframe thead th {\n        text-align: right;\n    }\n</style>\n<table border=\"1\" class=\"dataframe\">\n  <thead>\n    <tr style=\"text-align: right;\">\n      <th></th>\n      <th>event_type</th>\n      <th>track_id</th>\n      <th>timestamp</th>\n    </tr>\n  </thead>\n  <tbody>\n    <tr>\n      <th>0</th>\n      <td>play</td>\n      <td>4YPgTCGJWAlHQ5g6eWoM8r</td>\n      <td>2024-07-13 15:55:37.000</td>\n    </tr>\n    <tr>\n      <th>1</th>\n      <td>play</td>\n      <td>4p8QcNkaq2FQj8uGJ7HEDK</td>\n      <td>2024-06-20 06:31:23.547</td>\n    </tr>\n    <tr>\n      <th>2</th>\n      <td>play</td>\n      <td>4GKk1uNzpxIptBuaY97Dkj</td>\n      <td>2024-06-20 06:35:43.814</td>\n    </tr>\n    <tr>\n      <th>3</th>\n      <td>like</td>\n      <td>4GKk1uNzpxIptBuaY97Dkj</td>\n      <td>2024-06-20 06:39:13.270</td>\n    </tr>\n    <tr>\n      <th>4</th>\n      <td>play</td>\n      <td>0ZO2iSS12JTftv10cSCYf8</td>\n      <td>2024-06-20 06:40:43.481</td>\n    </tr>\n    <tr>\n      <th>...</th>\n      <td>...</td>\n      <td>...</td>\n      <td>...</td>\n    </tr>\n    <tr>\n      <th>26342</th>\n      <td>play</td>\n      <td>4COFVKhvXA3LecFReH6D2v</td>\n      <td>2024-08-11 13:40:51.342</td>\n    </tr>\n    <tr>\n      <th>26343</th>\n      <td>like</td>\n      <td>4COFVKhvXA3LecFReH6D2v</td>\n      <td>2024-08-11 13:42:19.523</td>\n    </tr>\n    <tr>\n      <th>26344</th>\n      <td>play</td>\n      <td>6vPAmoERUMRoTZaCCSWQ12</td>\n      <td>2024-08-11 13:44:50.582</td>\n    </tr>\n    <tr>\n      <th>26345</th>\n      <td>play</td>\n      <td>5A32KQZznC2HSqr9qzTl2N</td>\n      <td>2024-08-11 13:49:36.582</td>\n    </tr>\n    <tr>\n      <th>26346</th>\n      <td>play</td>\n      <td>3YkDslZvvMixTwgDId0aYB</td>\n      <td>2024-08-11 13:54:51.169</td>\n    </tr>\n  </tbody>\n</table>\n<p>22611 rows × 3 columns</p>\n</div>"
     },
     "execution_count": 90,
     "metadata": {},
     "output_type": "execute_result"
    }
   ],
   "source": [
    "events_data_df"
   ],
   "metadata": {
    "collapsed": false,
    "ExecuteTime": {
     "end_time": "2024-12-30T22:53:40.502976Z",
     "start_time": "2024-12-30T22:53:40.496529Z"
    }
   },
   "id": "f71daf85110abd33",
   "execution_count": 90
  },
  {
   "cell_type": "code",
   "outputs": [],
   "source": [
    "event_counts = filtered_sessions.groupby(['track_id', 'event_type']).size().unstack(fill_value=0)\n",
    "event_counts = event_counts.rename(columns={'play': 'play_count', 'like': 'like_count', 'skip': 'skip_count'})\n",
    "events_data_df = events_data_df.merge(event_counts, on='track_id', how='outer')\n",
    "events_data_df = events_data_df.fillna(0)\n",
    "events_data_df.drop(\"event_type\", axis=1, inplace=True)"
   ],
   "metadata": {
    "collapsed": false,
    "ExecuteTime": {
     "end_time": "2024-12-30T22:53:44.311137Z",
     "start_time": "2024-12-30T22:53:44.219956Z"
    }
   },
   "id": "40399f3017126b87",
   "execution_count": 91
  },
  {
   "cell_type": "code",
   "outputs": [],
   "source": [],
   "metadata": {
    "collapsed": false,
    "ExecuteTime": {
     "end_time": "2024-12-30T22:53:45.833509Z",
     "start_time": "2024-12-30T22:53:45.831548Z"
    }
   },
   "id": "a0bb62d36172bc49",
   "execution_count": 91
  },
  {
   "cell_type": "code",
   "outputs": [],
   "source": [
    "event_counts = filtered_sessions.groupby(['track_id', 'event_type']).size().unstack(fill_value=0)"
   ],
   "metadata": {
    "collapsed": false,
    "ExecuteTime": {
     "end_time": "2024-12-30T22:53:46.528015Z",
     "start_time": "2024-12-30T22:53:46.506431Z"
    }
   },
   "id": "35c382dc04ef9eb1",
   "execution_count": 92
  },
  {
   "cell_type": "code",
   "outputs": [
    {
     "data": {
      "text/plain": "event_type              like  play  skip\ntrack_id                                \n000xYdQfIZ4pDmBGzQalKU     0     2     0\n003FTlCpBTM4eSqYSWPv4H     0     1     0\n003vvx7Niy0yvhvHt4a68B     0     1     0\n005Dlt8Xaz3DkaXiRJgdiS     0     1     0\n005lwxGU1tms6HGELIcUv9     0     2     0\n...                      ...   ...   ...\n7zo8XAMYBG6nGpqGiIudBc     1     4     2\n7zscdQe9CjzXnqT3P1Ey7K     1     2     0\n7zuwr7YqqpveNtxlKe1vn6     1     1     0\n7zv5oGRQoJX09QM3pkvI1w     0     1     0\n7zycSpvjDcqh6YT1FEl2kY     0     1     0\n\n[10677 rows x 3 columns]",
      "text/html": "<div>\n<style scoped>\n    .dataframe tbody tr th:only-of-type {\n        vertical-align: middle;\n    }\n\n    .dataframe tbody tr th {\n        vertical-align: top;\n    }\n\n    .dataframe thead th {\n        text-align: right;\n    }\n</style>\n<table border=\"1\" class=\"dataframe\">\n  <thead>\n    <tr style=\"text-align: right;\">\n      <th>event_type</th>\n      <th>like</th>\n      <th>play</th>\n      <th>skip</th>\n    </tr>\n    <tr>\n      <th>track_id</th>\n      <th></th>\n      <th></th>\n      <th></th>\n    </tr>\n  </thead>\n  <tbody>\n    <tr>\n      <th>000xYdQfIZ4pDmBGzQalKU</th>\n      <td>0</td>\n      <td>2</td>\n      <td>0</td>\n    </tr>\n    <tr>\n      <th>003FTlCpBTM4eSqYSWPv4H</th>\n      <td>0</td>\n      <td>1</td>\n      <td>0</td>\n    </tr>\n    <tr>\n      <th>003vvx7Niy0yvhvHt4a68B</th>\n      <td>0</td>\n      <td>1</td>\n      <td>0</td>\n    </tr>\n    <tr>\n      <th>005Dlt8Xaz3DkaXiRJgdiS</th>\n      <td>0</td>\n      <td>1</td>\n      <td>0</td>\n    </tr>\n    <tr>\n      <th>005lwxGU1tms6HGELIcUv9</th>\n      <td>0</td>\n      <td>2</td>\n      <td>0</td>\n    </tr>\n    <tr>\n      <th>...</th>\n      <td>...</td>\n      <td>...</td>\n      <td>...</td>\n    </tr>\n    <tr>\n      <th>7zo8XAMYBG6nGpqGiIudBc</th>\n      <td>1</td>\n      <td>4</td>\n      <td>2</td>\n    </tr>\n    <tr>\n      <th>7zscdQe9CjzXnqT3P1Ey7K</th>\n      <td>1</td>\n      <td>2</td>\n      <td>0</td>\n    </tr>\n    <tr>\n      <th>7zuwr7YqqpveNtxlKe1vn6</th>\n      <td>1</td>\n      <td>1</td>\n      <td>0</td>\n    </tr>\n    <tr>\n      <th>7zv5oGRQoJX09QM3pkvI1w</th>\n      <td>0</td>\n      <td>1</td>\n      <td>0</td>\n    </tr>\n    <tr>\n      <th>7zycSpvjDcqh6YT1FEl2kY</th>\n      <td>0</td>\n      <td>1</td>\n      <td>0</td>\n    </tr>\n  </tbody>\n</table>\n<p>10677 rows × 3 columns</p>\n</div>"
     },
     "execution_count": 93,
     "metadata": {},
     "output_type": "execute_result"
    }
   ],
   "source": [
    "event_counts"
   ],
   "metadata": {
    "collapsed": false,
    "ExecuteTime": {
     "end_time": "2024-12-30T22:53:47.582314Z",
     "start_time": "2024-12-30T22:53:47.552670Z"
    }
   },
   "id": "183e7a8682a1c03b",
   "execution_count": 93
  },
  {
   "cell_type": "code",
   "outputs": [
    {
     "data": {
      "text/plain": "event_type              like  play  skip\ntrack_id                                \n000xYdQfIZ4pDmBGzQalKU     0     2     0\n003FTlCpBTM4eSqYSWPv4H     0     1     0\n003vvx7Niy0yvhvHt4a68B     0     1     0\n005Dlt8Xaz3DkaXiRJgdiS     0     1     0\n005lwxGU1tms6HGELIcUv9     0     2     0\n...                      ...   ...   ...\n7zo8XAMYBG6nGpqGiIudBc     1     4     2\n7zscdQe9CjzXnqT3P1Ey7K     1     2     0\n7zuwr7YqqpveNtxlKe1vn6     1     1     0\n7zv5oGRQoJX09QM3pkvI1w     0     1     0\n7zycSpvjDcqh6YT1FEl2kY     0     1     0\n\n[10677 rows x 3 columns]",
      "text/html": "<div>\n<style scoped>\n    .dataframe tbody tr th:only-of-type {\n        vertical-align: middle;\n    }\n\n    .dataframe tbody tr th {\n        vertical-align: top;\n    }\n\n    .dataframe thead th {\n        text-align: right;\n    }\n</style>\n<table border=\"1\" class=\"dataframe\">\n  <thead>\n    <tr style=\"text-align: right;\">\n      <th>event_type</th>\n      <th>like</th>\n      <th>play</th>\n      <th>skip</th>\n    </tr>\n    <tr>\n      <th>track_id</th>\n      <th></th>\n      <th></th>\n      <th></th>\n    </tr>\n  </thead>\n  <tbody>\n    <tr>\n      <th>000xYdQfIZ4pDmBGzQalKU</th>\n      <td>0</td>\n      <td>2</td>\n      <td>0</td>\n    </tr>\n    <tr>\n      <th>003FTlCpBTM4eSqYSWPv4H</th>\n      <td>0</td>\n      <td>1</td>\n      <td>0</td>\n    </tr>\n    <tr>\n      <th>003vvx7Niy0yvhvHt4a68B</th>\n      <td>0</td>\n      <td>1</td>\n      <td>0</td>\n    </tr>\n    <tr>\n      <th>005Dlt8Xaz3DkaXiRJgdiS</th>\n      <td>0</td>\n      <td>1</td>\n      <td>0</td>\n    </tr>\n    <tr>\n      <th>005lwxGU1tms6HGELIcUv9</th>\n      <td>0</td>\n      <td>2</td>\n      <td>0</td>\n    </tr>\n    <tr>\n      <th>...</th>\n      <td>...</td>\n      <td>...</td>\n      <td>...</td>\n    </tr>\n    <tr>\n      <th>7zo8XAMYBG6nGpqGiIudBc</th>\n      <td>1</td>\n      <td>4</td>\n      <td>2</td>\n    </tr>\n    <tr>\n      <th>7zscdQe9CjzXnqT3P1Ey7K</th>\n      <td>1</td>\n      <td>2</td>\n      <td>0</td>\n    </tr>\n    <tr>\n      <th>7zuwr7YqqpveNtxlKe1vn6</th>\n      <td>1</td>\n      <td>1</td>\n      <td>0</td>\n    </tr>\n    <tr>\n      <th>7zv5oGRQoJX09QM3pkvI1w</th>\n      <td>0</td>\n      <td>1</td>\n      <td>0</td>\n    </tr>\n    <tr>\n      <th>7zycSpvjDcqh6YT1FEl2kY</th>\n      <td>0</td>\n      <td>1</td>\n      <td>0</td>\n    </tr>\n  </tbody>\n</table>\n<p>10677 rows × 3 columns</p>\n</div>"
     },
     "execution_count": 94,
     "metadata": {},
     "output_type": "execute_result"
    }
   ],
   "source": [
    "event_counts\n"
   ],
   "metadata": {
    "collapsed": false,
    "ExecuteTime": {
     "end_time": "2024-12-30T22:53:48.818442Z",
     "start_time": "2024-12-30T22:53:48.814138Z"
    }
   },
   "id": "32b3a32a522b54ee",
   "execution_count": 94
  },
  {
   "cell_type": "code",
   "outputs": [
    {
     "data": {
      "text/plain": "                     track_id               timestamp  like_count  play_count  \\\n0      000xYdQfIZ4pDmBGzQalKU 2024-07-15 16:15:43.528           0           2   \n1      000xYdQfIZ4pDmBGzQalKU 2024-01-04 21:25:27.244           0           2   \n2      003FTlCpBTM4eSqYSWPv4H 2024-06-09 16:27:09.992           0           1   \n3      003vvx7Niy0yvhvHt4a68B 2024-05-25 14:18:28.147           0           1   \n4      005Dlt8Xaz3DkaXiRJgdiS 2024-10-18 13:05:56.274           0           1   \n...                       ...                     ...         ...         ...   \n22606  7zscdQe9CjzXnqT3P1Ey7K 2024-10-30 11:00:02.680           1           2   \n22607  7zuwr7YqqpveNtxlKe1vn6 2024-08-26 19:24:49.957           1           1   \n22608  7zuwr7YqqpveNtxlKe1vn6 2024-08-26 19:25:00.055           1           1   \n22609  7zv5oGRQoJX09QM3pkvI1w 2024-10-14 05:04:04.362           0           1   \n22610  7zycSpvjDcqh6YT1FEl2kY 2024-03-31 08:59:51.557           0           1   \n\n       skip_count  \n0               0  \n1               0  \n2               0  \n3               0  \n4               0  \n...           ...  \n22606           0  \n22607           0  \n22608           0  \n22609           0  \n22610           0  \n\n[22611 rows x 5 columns]",
      "text/html": "<div>\n<style scoped>\n    .dataframe tbody tr th:only-of-type {\n        vertical-align: middle;\n    }\n\n    .dataframe tbody tr th {\n        vertical-align: top;\n    }\n\n    .dataframe thead th {\n        text-align: right;\n    }\n</style>\n<table border=\"1\" class=\"dataframe\">\n  <thead>\n    <tr style=\"text-align: right;\">\n      <th></th>\n      <th>track_id</th>\n      <th>timestamp</th>\n      <th>like_count</th>\n      <th>play_count</th>\n      <th>skip_count</th>\n    </tr>\n  </thead>\n  <tbody>\n    <tr>\n      <th>0</th>\n      <td>000xYdQfIZ4pDmBGzQalKU</td>\n      <td>2024-07-15 16:15:43.528</td>\n      <td>0</td>\n      <td>2</td>\n      <td>0</td>\n    </tr>\n    <tr>\n      <th>1</th>\n      <td>000xYdQfIZ4pDmBGzQalKU</td>\n      <td>2024-01-04 21:25:27.244</td>\n      <td>0</td>\n      <td>2</td>\n      <td>0</td>\n    </tr>\n    <tr>\n      <th>2</th>\n      <td>003FTlCpBTM4eSqYSWPv4H</td>\n      <td>2024-06-09 16:27:09.992</td>\n      <td>0</td>\n      <td>1</td>\n      <td>0</td>\n    </tr>\n    <tr>\n      <th>3</th>\n      <td>003vvx7Niy0yvhvHt4a68B</td>\n      <td>2024-05-25 14:18:28.147</td>\n      <td>0</td>\n      <td>1</td>\n      <td>0</td>\n    </tr>\n    <tr>\n      <th>4</th>\n      <td>005Dlt8Xaz3DkaXiRJgdiS</td>\n      <td>2024-10-18 13:05:56.274</td>\n      <td>0</td>\n      <td>1</td>\n      <td>0</td>\n    </tr>\n    <tr>\n      <th>...</th>\n      <td>...</td>\n      <td>...</td>\n      <td>...</td>\n      <td>...</td>\n      <td>...</td>\n    </tr>\n    <tr>\n      <th>22606</th>\n      <td>7zscdQe9CjzXnqT3P1Ey7K</td>\n      <td>2024-10-30 11:00:02.680</td>\n      <td>1</td>\n      <td>2</td>\n      <td>0</td>\n    </tr>\n    <tr>\n      <th>22607</th>\n      <td>7zuwr7YqqpveNtxlKe1vn6</td>\n      <td>2024-08-26 19:24:49.957</td>\n      <td>1</td>\n      <td>1</td>\n      <td>0</td>\n    </tr>\n    <tr>\n      <th>22608</th>\n      <td>7zuwr7YqqpveNtxlKe1vn6</td>\n      <td>2024-08-26 19:25:00.055</td>\n      <td>1</td>\n      <td>1</td>\n      <td>0</td>\n    </tr>\n    <tr>\n      <th>22609</th>\n      <td>7zv5oGRQoJX09QM3pkvI1w</td>\n      <td>2024-10-14 05:04:04.362</td>\n      <td>0</td>\n      <td>1</td>\n      <td>0</td>\n    </tr>\n    <tr>\n      <th>22610</th>\n      <td>7zycSpvjDcqh6YT1FEl2kY</td>\n      <td>2024-03-31 08:59:51.557</td>\n      <td>0</td>\n      <td>1</td>\n      <td>0</td>\n    </tr>\n  </tbody>\n</table>\n<p>22611 rows × 5 columns</p>\n</div>"
     },
     "execution_count": 95,
     "metadata": {},
     "output_type": "execute_result"
    }
   ],
   "source": [
    "events_data_df\n"
   ],
   "metadata": {
    "collapsed": false,
    "ExecuteTime": {
     "end_time": "2024-12-30T22:53:49.722450Z",
     "start_time": "2024-12-30T22:53:49.688306Z"
    }
   },
   "id": "d923c25038627fea",
   "execution_count": 95
  },
  {
   "cell_type": "code",
   "outputs": [
    {
     "name": "stdout",
     "output_type": "stream",
     "text": [
      "                 track_id               timestamp  like_count  play_count  \\\n",
      "0  000xYdQfIZ4pDmBGzQalKU 2024-07-15 16:15:43.528           0           2   \n",
      "1  000xYdQfIZ4pDmBGzQalKU 2024-01-04 21:25:27.244           0           2   \n",
      "2  003FTlCpBTM4eSqYSWPv4H 2024-06-09 16:27:09.992           0           1   \n",
      "3  003vvx7Niy0yvhvHt4a68B 2024-05-25 14:18:28.147           0           1   \n",
      "4  005Dlt8Xaz3DkaXiRJgdiS 2024-10-18 13:05:56.274           0           1   \n",
      "\n",
      "   skip_count  week_number                       week_range  \n",
      "0           0           33  week 33 2024-07-10 - 2024-07-17  \n",
      "1           0            6   week 6 2024-01-03 - 2024-01-10  \n",
      "2           0           28  week 28 2024-06-05 - 2024-06-12  \n",
      "3           0           26  week 26 2024-05-22 - 2024-05-29  \n",
      "4           0           47  week 47 2024-10-16 - 2024-10-23  \n"
     ]
    }
   ],
   "source": [
    "events_data_df['timestamp'] = pd.to_datetime(events_data_df['timestamp'])\n",
    "\n",
    "# Determine the start date (the earliest timestamp)\n",
    "start_date = events_data_df['timestamp'].min()\n",
    "\n",
    "# Calculate the week number from the start date\n",
    "events_data_df['week_number'] = ((events_data_df['timestamp'] - start_date).dt.days // 7) + 1\n",
    "\n",
    "# Create a new column with the formatted week range\n",
    "events_data_df['week_range'] = events_data_df['week_number'].apply(\n",
    "    lambda x: f\"week {x} {start_date + pd.Timedelta(weeks=x-1):%Y-%m-%d} - {start_date + pd.Timedelta(weeks=x):%Y-%m-%d}\"\n",
    ")\n",
    "\n",
    "# Display the updated DataFrame\n",
    "print(events_data_df.head())"
   ],
   "metadata": {
    "collapsed": false,
    "ExecuteTime": {
     "end_time": "2024-12-30T23:10:32.530918Z",
     "start_time": "2024-12-30T23:10:32.239373Z"
    }
   },
   "id": "8dbd4390649a29ff",
   "execution_count": 96
  },
  {
   "cell_type": "code",
   "outputs": [
    {
     "data": {
      "text/plain": "                     track_id               timestamp  like_count  play_count  \\\n0      000xYdQfIZ4pDmBGzQalKU 2024-07-15 16:15:43.528           0           2   \n1      000xYdQfIZ4pDmBGzQalKU 2024-01-04 21:25:27.244           0           2   \n2      003FTlCpBTM4eSqYSWPv4H 2024-06-09 16:27:09.992           0           1   \n3      003vvx7Niy0yvhvHt4a68B 2024-05-25 14:18:28.147           0           1   \n4      005Dlt8Xaz3DkaXiRJgdiS 2024-10-18 13:05:56.274           0           1   \n...                       ...                     ...         ...         ...   \n22606  7zscdQe9CjzXnqT3P1Ey7K 2024-10-30 11:00:02.680           1           2   \n22607  7zuwr7YqqpveNtxlKe1vn6 2024-08-26 19:24:49.957           1           1   \n22608  7zuwr7YqqpveNtxlKe1vn6 2024-08-26 19:25:00.055           1           1   \n22609  7zv5oGRQoJX09QM3pkvI1w 2024-10-14 05:04:04.362           0           1   \n22610  7zycSpvjDcqh6YT1FEl2kY 2024-03-31 08:59:51.557           0           1   \n\n       skip_count  week_number                       week_range  \n0               0           33  week 33 2024-07-10 - 2024-07-17  \n1               0            6   week 6 2024-01-03 - 2024-01-10  \n2               0           28  week 28 2024-06-05 - 2024-06-12  \n3               0           26  week 26 2024-05-22 - 2024-05-29  \n4               0           47  week 47 2024-10-16 - 2024-10-23  \n...           ...          ...                              ...  \n22606           0           49  week 49 2024-10-30 - 2024-11-06  \n22607           0           39  week 39 2024-08-21 - 2024-08-28  \n22608           0           39  week 39 2024-08-21 - 2024-08-28  \n22609           0           46  week 46 2024-10-09 - 2024-10-16  \n22610           0           18  week 18 2024-03-27 - 2024-04-03  \n\n[22611 rows x 7 columns]",
      "text/html": "<div>\n<style scoped>\n    .dataframe tbody tr th:only-of-type {\n        vertical-align: middle;\n    }\n\n    .dataframe tbody tr th {\n        vertical-align: top;\n    }\n\n    .dataframe thead th {\n        text-align: right;\n    }\n</style>\n<table border=\"1\" class=\"dataframe\">\n  <thead>\n    <tr style=\"text-align: right;\">\n      <th></th>\n      <th>track_id</th>\n      <th>timestamp</th>\n      <th>like_count</th>\n      <th>play_count</th>\n      <th>skip_count</th>\n      <th>week_number</th>\n      <th>week_range</th>\n    </tr>\n  </thead>\n  <tbody>\n    <tr>\n      <th>0</th>\n      <td>000xYdQfIZ4pDmBGzQalKU</td>\n      <td>2024-07-15 16:15:43.528</td>\n      <td>0</td>\n      <td>2</td>\n      <td>0</td>\n      <td>33</td>\n      <td>week 33 2024-07-10 - 2024-07-17</td>\n    </tr>\n    <tr>\n      <th>1</th>\n      <td>000xYdQfIZ4pDmBGzQalKU</td>\n      <td>2024-01-04 21:25:27.244</td>\n      <td>0</td>\n      <td>2</td>\n      <td>0</td>\n      <td>6</td>\n      <td>week 6 2024-01-03 - 2024-01-10</td>\n    </tr>\n    <tr>\n      <th>2</th>\n      <td>003FTlCpBTM4eSqYSWPv4H</td>\n      <td>2024-06-09 16:27:09.992</td>\n      <td>0</td>\n      <td>1</td>\n      <td>0</td>\n      <td>28</td>\n      <td>week 28 2024-06-05 - 2024-06-12</td>\n    </tr>\n    <tr>\n      <th>3</th>\n      <td>003vvx7Niy0yvhvHt4a68B</td>\n      <td>2024-05-25 14:18:28.147</td>\n      <td>0</td>\n      <td>1</td>\n      <td>0</td>\n      <td>26</td>\n      <td>week 26 2024-05-22 - 2024-05-29</td>\n    </tr>\n    <tr>\n      <th>4</th>\n      <td>005Dlt8Xaz3DkaXiRJgdiS</td>\n      <td>2024-10-18 13:05:56.274</td>\n      <td>0</td>\n      <td>1</td>\n      <td>0</td>\n      <td>47</td>\n      <td>week 47 2024-10-16 - 2024-10-23</td>\n    </tr>\n    <tr>\n      <th>...</th>\n      <td>...</td>\n      <td>...</td>\n      <td>...</td>\n      <td>...</td>\n      <td>...</td>\n      <td>...</td>\n      <td>...</td>\n    </tr>\n    <tr>\n      <th>22606</th>\n      <td>7zscdQe9CjzXnqT3P1Ey7K</td>\n      <td>2024-10-30 11:00:02.680</td>\n      <td>1</td>\n      <td>2</td>\n      <td>0</td>\n      <td>49</td>\n      <td>week 49 2024-10-30 - 2024-11-06</td>\n    </tr>\n    <tr>\n      <th>22607</th>\n      <td>7zuwr7YqqpveNtxlKe1vn6</td>\n      <td>2024-08-26 19:24:49.957</td>\n      <td>1</td>\n      <td>1</td>\n      <td>0</td>\n      <td>39</td>\n      <td>week 39 2024-08-21 - 2024-08-28</td>\n    </tr>\n    <tr>\n      <th>22608</th>\n      <td>7zuwr7YqqpveNtxlKe1vn6</td>\n      <td>2024-08-26 19:25:00.055</td>\n      <td>1</td>\n      <td>1</td>\n      <td>0</td>\n      <td>39</td>\n      <td>week 39 2024-08-21 - 2024-08-28</td>\n    </tr>\n    <tr>\n      <th>22609</th>\n      <td>7zv5oGRQoJX09QM3pkvI1w</td>\n      <td>2024-10-14 05:04:04.362</td>\n      <td>0</td>\n      <td>1</td>\n      <td>0</td>\n      <td>46</td>\n      <td>week 46 2024-10-09 - 2024-10-16</td>\n    </tr>\n    <tr>\n      <th>22610</th>\n      <td>7zycSpvjDcqh6YT1FEl2kY</td>\n      <td>2024-03-31 08:59:51.557</td>\n      <td>0</td>\n      <td>1</td>\n      <td>0</td>\n      <td>18</td>\n      <td>week 18 2024-03-27 - 2024-04-03</td>\n    </tr>\n  </tbody>\n</table>\n<p>22611 rows × 7 columns</p>\n</div>"
     },
     "execution_count": 97,
     "metadata": {},
     "output_type": "execute_result"
    }
   ],
   "source": [
    "events_data_df"
   ],
   "metadata": {
    "collapsed": false,
    "ExecuteTime": {
     "end_time": "2024-12-30T23:10:47.870214Z",
     "start_time": "2024-12-30T23:10:47.854214Z"
    }
   },
   "id": "f5fa277f57b72fe8",
   "execution_count": 97
  },
  {
   "cell_type": "markdown",
   "source": [
    "weekly_like_counts = events_data_df.groupby(['track_id', 'week_range'])['like_count'].sum().reset_index("
   ],
   "metadata": {
    "collapsed": false
   },
   "id": "31327ce7d38f6c06"
  },
  {
   "cell_type": "code",
   "outputs": [],
   "source": [
    "events_data_df=events_data_df.groupby(['track_id', 'week_range'])[['like_count', 'play_count', 'skip_count']].sum().reset_index()"
   ],
   "metadata": {
    "collapsed": false,
    "ExecuteTime": {
     "end_time": "2024-12-30T23:35:14.916525Z",
     "start_time": "2024-12-30T23:35:14.859549Z"
    }
   },
   "id": "9d40ce7fcefd0575",
   "execution_count": 106
  },
  {
   "cell_type": "code",
   "outputs": [
    {
     "data": {
      "text/plain": "                     track_id                       week_range  like_count\n0      000xYdQfIZ4pDmBGzQalKU  week 33 2024-07-10 - 2024-07-17           0\n1      000xYdQfIZ4pDmBGzQalKU   week 6 2024-01-03 - 2024-01-10           0\n2      003FTlCpBTM4eSqYSWPv4H  week 28 2024-06-05 - 2024-06-12           0\n3      003vvx7Niy0yvhvHt4a68B  week 26 2024-05-22 - 2024-05-29           0\n4      005Dlt8Xaz3DkaXiRJgdiS  week 47 2024-10-16 - 2024-10-23           0\n...                       ...                              ...         ...\n14350  7zscdQe9CjzXnqT3P1Ey7K  week 43 2024-09-18 - 2024-09-25           1\n14351  7zscdQe9CjzXnqT3P1Ey7K  week 49 2024-10-30 - 2024-11-06           2\n14352  7zuwr7YqqpveNtxlKe1vn6  week 39 2024-08-21 - 2024-08-28           2\n14353  7zv5oGRQoJX09QM3pkvI1w  week 46 2024-10-09 - 2024-10-16           0\n14354  7zycSpvjDcqh6YT1FEl2kY  week 18 2024-03-27 - 2024-04-03           0\n\n[14355 rows x 3 columns]",
      "text/html": "<div>\n<style scoped>\n    .dataframe tbody tr th:only-of-type {\n        vertical-align: middle;\n    }\n\n    .dataframe tbody tr th {\n        vertical-align: top;\n    }\n\n    .dataframe thead th {\n        text-align: right;\n    }\n</style>\n<table border=\"1\" class=\"dataframe\">\n  <thead>\n    <tr style=\"text-align: right;\">\n      <th></th>\n      <th>track_id</th>\n      <th>week_range</th>\n      <th>like_count</th>\n    </tr>\n  </thead>\n  <tbody>\n    <tr>\n      <th>0</th>\n      <td>000xYdQfIZ4pDmBGzQalKU</td>\n      <td>week 33 2024-07-10 - 2024-07-17</td>\n      <td>0</td>\n    </tr>\n    <tr>\n      <th>1</th>\n      <td>000xYdQfIZ4pDmBGzQalKU</td>\n      <td>week 6 2024-01-03 - 2024-01-10</td>\n      <td>0</td>\n    </tr>\n    <tr>\n      <th>2</th>\n      <td>003FTlCpBTM4eSqYSWPv4H</td>\n      <td>week 28 2024-06-05 - 2024-06-12</td>\n      <td>0</td>\n    </tr>\n    <tr>\n      <th>3</th>\n      <td>003vvx7Niy0yvhvHt4a68B</td>\n      <td>week 26 2024-05-22 - 2024-05-29</td>\n      <td>0</td>\n    </tr>\n    <tr>\n      <th>4</th>\n      <td>005Dlt8Xaz3DkaXiRJgdiS</td>\n      <td>week 47 2024-10-16 - 2024-10-23</td>\n      <td>0</td>\n    </tr>\n    <tr>\n      <th>...</th>\n      <td>...</td>\n      <td>...</td>\n      <td>...</td>\n    </tr>\n    <tr>\n      <th>14350</th>\n      <td>7zscdQe9CjzXnqT3P1Ey7K</td>\n      <td>week 43 2024-09-18 - 2024-09-25</td>\n      <td>1</td>\n    </tr>\n    <tr>\n      <th>14351</th>\n      <td>7zscdQe9CjzXnqT3P1Ey7K</td>\n      <td>week 49 2024-10-30 - 2024-11-06</td>\n      <td>2</td>\n    </tr>\n    <tr>\n      <th>14352</th>\n      <td>7zuwr7YqqpveNtxlKe1vn6</td>\n      <td>week 39 2024-08-21 - 2024-08-28</td>\n      <td>2</td>\n    </tr>\n    <tr>\n      <th>14353</th>\n      <td>7zv5oGRQoJX09QM3pkvI1w</td>\n      <td>week 46 2024-10-09 - 2024-10-16</td>\n      <td>0</td>\n    </tr>\n    <tr>\n      <th>14354</th>\n      <td>7zycSpvjDcqh6YT1FEl2kY</td>\n      <td>week 18 2024-03-27 - 2024-04-03</td>\n      <td>0</td>\n    </tr>\n  </tbody>\n</table>\n<p>14355 rows × 3 columns</p>\n</div>"
     },
     "execution_count": 103,
     "metadata": {},
     "output_type": "execute_result"
    }
   ],
   "source": [
    "weekly_like_counts"
   ],
   "metadata": {
    "collapsed": false,
    "ExecuteTime": {
     "end_time": "2024-12-30T23:26:06.518351Z",
     "start_time": "2024-12-30T23:26:06.513321Z"
    }
   },
   "id": "7eb690f31c5af8fa",
   "execution_count": 103
  },
  {
   "cell_type": "code",
   "outputs": [
    {
     "data": {
      "text/plain": "                     track_id                       week_range  like_count  \\\n0      000xYdQfIZ4pDmBGzQalKU  week 33 2024-07-10 - 2024-07-17           0   \n1      000xYdQfIZ4pDmBGzQalKU   week 6 2024-01-03 - 2024-01-10           0   \n2      003FTlCpBTM4eSqYSWPv4H  week 28 2024-06-05 - 2024-06-12           0   \n3      003vvx7Niy0yvhvHt4a68B  week 26 2024-05-22 - 2024-05-29           0   \n4      005Dlt8Xaz3DkaXiRJgdiS  week 47 2024-10-16 - 2024-10-23           0   \n...                       ...                              ...         ...   \n14350  7zscdQe9CjzXnqT3P1Ey7K  week 43 2024-09-18 - 2024-09-25           1   \n14351  7zscdQe9CjzXnqT3P1Ey7K  week 49 2024-10-30 - 2024-11-06           2   \n14352  7zuwr7YqqpveNtxlKe1vn6  week 39 2024-08-21 - 2024-08-28           2   \n14353  7zv5oGRQoJX09QM3pkvI1w  week 46 2024-10-09 - 2024-10-16           0   \n14354  7zycSpvjDcqh6YT1FEl2kY  week 18 2024-03-27 - 2024-04-03           0   \n\n       play_count  skip_count  \n0               2           0  \n1               2           0  \n2               1           0  \n3               1           0  \n4               1           0  \n...           ...         ...  \n14350           2           0  \n14351           4           0  \n14352           2           0  \n14353           1           0  \n14354           1           0  \n\n[14355 rows x 5 columns]",
      "text/html": "<div>\n<style scoped>\n    .dataframe tbody tr th:only-of-type {\n        vertical-align: middle;\n    }\n\n    .dataframe tbody tr th {\n        vertical-align: top;\n    }\n\n    .dataframe thead th {\n        text-align: right;\n    }\n</style>\n<table border=\"1\" class=\"dataframe\">\n  <thead>\n    <tr style=\"text-align: right;\">\n      <th></th>\n      <th>track_id</th>\n      <th>week_range</th>\n      <th>like_count</th>\n      <th>play_count</th>\n      <th>skip_count</th>\n    </tr>\n  </thead>\n  <tbody>\n    <tr>\n      <th>0</th>\n      <td>000xYdQfIZ4pDmBGzQalKU</td>\n      <td>week 33 2024-07-10 - 2024-07-17</td>\n      <td>0</td>\n      <td>2</td>\n      <td>0</td>\n    </tr>\n    <tr>\n      <th>1</th>\n      <td>000xYdQfIZ4pDmBGzQalKU</td>\n      <td>week 6 2024-01-03 - 2024-01-10</td>\n      <td>0</td>\n      <td>2</td>\n      <td>0</td>\n    </tr>\n    <tr>\n      <th>2</th>\n      <td>003FTlCpBTM4eSqYSWPv4H</td>\n      <td>week 28 2024-06-05 - 2024-06-12</td>\n      <td>0</td>\n      <td>1</td>\n      <td>0</td>\n    </tr>\n    <tr>\n      <th>3</th>\n      <td>003vvx7Niy0yvhvHt4a68B</td>\n      <td>week 26 2024-05-22 - 2024-05-29</td>\n      <td>0</td>\n      <td>1</td>\n      <td>0</td>\n    </tr>\n    <tr>\n      <th>4</th>\n      <td>005Dlt8Xaz3DkaXiRJgdiS</td>\n      <td>week 47 2024-10-16 - 2024-10-23</td>\n      <td>0</td>\n      <td>1</td>\n      <td>0</td>\n    </tr>\n    <tr>\n      <th>...</th>\n      <td>...</td>\n      <td>...</td>\n      <td>...</td>\n      <td>...</td>\n      <td>...</td>\n    </tr>\n    <tr>\n      <th>14350</th>\n      <td>7zscdQe9CjzXnqT3P1Ey7K</td>\n      <td>week 43 2024-09-18 - 2024-09-25</td>\n      <td>1</td>\n      <td>2</td>\n      <td>0</td>\n    </tr>\n    <tr>\n      <th>14351</th>\n      <td>7zscdQe9CjzXnqT3P1Ey7K</td>\n      <td>week 49 2024-10-30 - 2024-11-06</td>\n      <td>2</td>\n      <td>4</td>\n      <td>0</td>\n    </tr>\n    <tr>\n      <th>14352</th>\n      <td>7zuwr7YqqpveNtxlKe1vn6</td>\n      <td>week 39 2024-08-21 - 2024-08-28</td>\n      <td>2</td>\n      <td>2</td>\n      <td>0</td>\n    </tr>\n    <tr>\n      <th>14353</th>\n      <td>7zv5oGRQoJX09QM3pkvI1w</td>\n      <td>week 46 2024-10-09 - 2024-10-16</td>\n      <td>0</td>\n      <td>1</td>\n      <td>0</td>\n    </tr>\n    <tr>\n      <th>14354</th>\n      <td>7zycSpvjDcqh6YT1FEl2kY</td>\n      <td>week 18 2024-03-27 - 2024-04-03</td>\n      <td>0</td>\n      <td>1</td>\n      <td>0</td>\n    </tr>\n  </tbody>\n</table>\n<p>14355 rows × 5 columns</p>\n</div>"
     },
     "execution_count": 107,
     "metadata": {},
     "output_type": "execute_result"
    }
   ],
   "source": [
    "events_data_df"
   ],
   "metadata": {
    "collapsed": false,
    "ExecuteTime": {
     "end_time": "2024-12-30T23:35:18.249553Z",
     "start_time": "2024-12-30T23:35:18.224210Z"
    }
   },
   "id": "909474ba99fd85c5",
   "execution_count": 107
  },
  {
   "cell_type": "markdown",
   "source": [
    "# artists"
   ],
   "metadata": {
    "collapsed": false
   },
   "id": "7e248621e4218237"
  },
  {
   "cell_type": "code",
   "outputs": [],
   "source": [
    "artists = pd.read_json(\"../data-v2/artists.jsonl\", lines=True)"
   ],
   "metadata": {
    "collapsed": false,
    "ExecuteTime": {
     "end_time": "2024-12-30T23:44:48.679934Z",
     "start_time": "2024-12-30T23:44:48.639410Z"
    }
   },
   "id": "30ae024bb2a7997",
   "execution_count": 109
  },
  {
   "cell_type": "code",
   "outputs": [
    {
     "data": {
      "text/plain": "                          id              name  \\\n0     7jVv8c5Fj3E9VhNjxT4snq         Lil Nas X   \n1     0xRXCcSX89eobfrshSVdyu            MEDUZA   \n2     3OKg7YbOIatODzkRIbLJR4         TheFatRat   \n3     4f7KfxeHq9BiylGmyXepGt    Tanishk Bagchi   \n4     56mfhUDKa1vec6rSLZV5Eg         Jawsh 685   \n...                      ...               ...   \n1662  6AMd49uBDJfhf30Ak2QR5s         Coi Leray   \n1663  6qgnBH6iDM91ipVXv28OMu        KAYTRANADA   \n1664  5q8HGNo0BjLWaTAhRtbwxa  Brantley Gilbert   \n1665  26T4yOaOoFJvUvxR87Y9HO      Bethel Music   \n1666  46MWeeHNVMYRIIofQBEX98              BEAM   \n\n                                                 genres  \n0     [country rap, lgbtq+ hip hop, pop rap, queer c...  \n1     [dance pop, edm, pop dance, pop house, tropica...  \n2                                            [speedrun]  \n3                   [desi pop, filmi, modern bollywood]  \n4                                              [nz pop]  \n...                                                 ...  \n1662              [pop r&b, r&b, trap queen, viral rap]  \n1663          [escape room, indie soul, lgbtq+ hip hop]  \n1664  [contemporary country, country, country road, ...  \n1665  [ambient worship, ccm, christian music, deep c...  \n1666                   [trap soul, underground hip hop]  \n\n[1667 rows x 3 columns]",
      "text/html": "<div>\n<style scoped>\n    .dataframe tbody tr th:only-of-type {\n        vertical-align: middle;\n    }\n\n    .dataframe tbody tr th {\n        vertical-align: top;\n    }\n\n    .dataframe thead th {\n        text-align: right;\n    }\n</style>\n<table border=\"1\" class=\"dataframe\">\n  <thead>\n    <tr style=\"text-align: right;\">\n      <th></th>\n      <th>id</th>\n      <th>name</th>\n      <th>genres</th>\n    </tr>\n  </thead>\n  <tbody>\n    <tr>\n      <th>0</th>\n      <td>7jVv8c5Fj3E9VhNjxT4snq</td>\n      <td>Lil Nas X</td>\n      <td>[country rap, lgbtq+ hip hop, pop rap, queer c...</td>\n    </tr>\n    <tr>\n      <th>1</th>\n      <td>0xRXCcSX89eobfrshSVdyu</td>\n      <td>MEDUZA</td>\n      <td>[dance pop, edm, pop dance, pop house, tropica...</td>\n    </tr>\n    <tr>\n      <th>2</th>\n      <td>3OKg7YbOIatODzkRIbLJR4</td>\n      <td>TheFatRat</td>\n      <td>[speedrun]</td>\n    </tr>\n    <tr>\n      <th>3</th>\n      <td>4f7KfxeHq9BiylGmyXepGt</td>\n      <td>Tanishk Bagchi</td>\n      <td>[desi pop, filmi, modern bollywood]</td>\n    </tr>\n    <tr>\n      <th>4</th>\n      <td>56mfhUDKa1vec6rSLZV5Eg</td>\n      <td>Jawsh 685</td>\n      <td>[nz pop]</td>\n    </tr>\n    <tr>\n      <th>...</th>\n      <td>...</td>\n      <td>...</td>\n      <td>...</td>\n    </tr>\n    <tr>\n      <th>1662</th>\n      <td>6AMd49uBDJfhf30Ak2QR5s</td>\n      <td>Coi Leray</td>\n      <td>[pop r&amp;b, r&amp;b, trap queen, viral rap]</td>\n    </tr>\n    <tr>\n      <th>1663</th>\n      <td>6qgnBH6iDM91ipVXv28OMu</td>\n      <td>KAYTRANADA</td>\n      <td>[escape room, indie soul, lgbtq+ hip hop]</td>\n    </tr>\n    <tr>\n      <th>1664</th>\n      <td>5q8HGNo0BjLWaTAhRtbwxa</td>\n      <td>Brantley Gilbert</td>\n      <td>[contemporary country, country, country road, ...</td>\n    </tr>\n    <tr>\n      <th>1665</th>\n      <td>26T4yOaOoFJvUvxR87Y9HO</td>\n      <td>Bethel Music</td>\n      <td>[ambient worship, ccm, christian music, deep c...</td>\n    </tr>\n    <tr>\n      <th>1666</th>\n      <td>46MWeeHNVMYRIIofQBEX98</td>\n      <td>BEAM</td>\n      <td>[trap soul, underground hip hop]</td>\n    </tr>\n  </tbody>\n</table>\n<p>1667 rows × 3 columns</p>\n</div>"
     },
     "execution_count": 110,
     "metadata": {},
     "output_type": "execute_result"
    }
   ],
   "source": [
    "artists"
   ],
   "metadata": {
    "collapsed": false,
    "ExecuteTime": {
     "end_time": "2024-12-30T23:44:50.513027Z",
     "start_time": "2024-12-30T23:44:50.507049Z"
    }
   },
   "id": "9f577cd4f949b151",
   "execution_count": 110
  },
  {
   "cell_type": "markdown",
   "source": [
    "# tracks"
   ],
   "metadata": {
    "collapsed": false
   },
   "id": "69b435106baf2758"
  },
  {
   "cell_type": "code",
   "outputs": [],
   "source": [
    "tracks = pd.read_json(\"../data-v2/tracks.jsonl\", lines=True)"
   ],
   "metadata": {
    "collapsed": false,
    "ExecuteTime": {
     "end_time": "2024-12-30T23:45:55.421730Z",
     "start_time": "2024-12-30T23:45:55.219597Z"
    }
   },
   "id": "2ddda20de987e208",
   "execution_count": 111
  },
  {
   "cell_type": "code",
   "outputs": [
    {
     "data": {
      "text/plain": "                           id  \\\n0      0RNxWy0PC3AyH4ThH3aGK6   \n1      2W889aLIKxULEefrleFBFI   \n2      4Pnzw1nLOpDNV6MKI5ueIR   \n3      7GLmfKOe5BfOXk7334DoKt   \n4      6kD1SNGPkfX9LwaGd1FG92   \n...                       ...   \n22407  0LcNMuOiULmxJK3bdHTfDF   \n22408  1uviKYHZuM4uINK33F7sCt   \n22409  1fXmDeiCb3ABt5CzkMxp4u   \n22410  27kcZEJvhkb1rzZS9gCpdA   \n22411  27Y1N4Q4U3EfDU5Ubw8ws2   \n\n                                                    name  popularity  \\\n0                                         Mack the Knife          55   \n1                               Someone to Watch Over Me          54   \n2         Nancy (With the Laughing Face) - 78rpm Version          55   \n3      Saturday Night (Is The Loneliest Night In The ...          54   \n4                 Put Your Dreams Away (For Another Day)          53   \n...                                                  ...         ...   \n22407                                        Missing You          65   \n22408                                 Fix It to Break It          70   \n22409                                          Lotus Inn          63   \n22410                              remember the mornings          67   \n22411                          What They'll Say About Us          70   \n\n       duration_ms  explicit               id_artist release_date  \\\n0           201467         0  19eLuQmk9aCobbVDHc6eek         1929   \n1           198000         0  1Mxqyy3pSjf8kZZL4QVxS0         1943   \n2           199000         0  1Mxqyy3pSjf8kZZL4QVxS0         1944   \n3           163000         0  1Mxqyy3pSjf8kZZL4QVxS0         1944   \n4           186173         0  1Mxqyy3pSjf8kZZL4QVxS0         1944   \n...            ...       ...                     ...          ...   \n22407       214987         0  7gAppWoH7pcYmphCVTXkzs   2019-04-19   \n22408       198799         0  7okSU80WTrn4LXlyXYbX3P   2020-03-27   \n22409       195868         0  2jnIB6XdLvnJUeNTy5A0J2   2020-12-04   \n22410       202355         0  7okSU80WTrn4LXlyXYbX3P   2020-11-27   \n22411       187601         0  37M5pPGs6V1fchFJSgCguX   2020-09-02   \n\n       danceability  energy  key  loudness  speechiness  acousticness  \\\n0             0.673  0.3770    0   -14.141       0.0697        0.5860   \n1             0.204  0.1510    2   -17.842       0.0418        0.9470   \n2             0.295  0.0826    1   -19.569       0.0367        0.9840   \n3             0.561  0.3350    9   -11.093       0.0499        0.8400   \n4             0.197  0.0546    1   -22.411       0.0346        0.9500   \n...             ...     ...  ...       ...          ...           ...   \n22407         0.537  0.6470    2    -7.370       0.0519        0.1680   \n22408         0.493  0.4610    2    -8.524       0.0456        0.8450   \n22409         0.578  0.7400    2    -5.080       0.0721        0.0119   \n22410         0.590  0.4430    0    -5.662       0.0722        0.6180   \n22411         0.535  0.3140    7   -12.823       0.0408        0.8950   \n\n       instrumentalness  liveness  valence    tempo  \n0              0.000000    0.3320   0.7130   88.973  \n1              0.000009    0.3210   0.1340   91.783  \n2              0.000358    0.1560   0.1690  128.600  \n3              0.000002    0.7880   0.5900  126.974  \n4              0.276000    0.1520   0.1000   90.150  \n...                 ...       ...      ...      ...  \n22407          0.000000    0.1080   0.5310   79.770  \n22408          0.000000    0.1150   0.3500   51.414  \n22409          0.000000    0.1800   0.4950  155.984  \n22410          0.000000    0.1100   0.3420  149.447  \n22411          0.000150    0.0874   0.0663  145.095  \n\n[22412 rows x 17 columns]",
      "text/html": "<div>\n<style scoped>\n    .dataframe tbody tr th:only-of-type {\n        vertical-align: middle;\n    }\n\n    .dataframe tbody tr th {\n        vertical-align: top;\n    }\n\n    .dataframe thead th {\n        text-align: right;\n    }\n</style>\n<table border=\"1\" class=\"dataframe\">\n  <thead>\n    <tr style=\"text-align: right;\">\n      <th></th>\n      <th>id</th>\n      <th>name</th>\n      <th>popularity</th>\n      <th>duration_ms</th>\n      <th>explicit</th>\n      <th>id_artist</th>\n      <th>release_date</th>\n      <th>danceability</th>\n      <th>energy</th>\n      <th>key</th>\n      <th>loudness</th>\n      <th>speechiness</th>\n      <th>acousticness</th>\n      <th>instrumentalness</th>\n      <th>liveness</th>\n      <th>valence</th>\n      <th>tempo</th>\n    </tr>\n  </thead>\n  <tbody>\n    <tr>\n      <th>0</th>\n      <td>0RNxWy0PC3AyH4ThH3aGK6</td>\n      <td>Mack the Knife</td>\n      <td>55</td>\n      <td>201467</td>\n      <td>0</td>\n      <td>19eLuQmk9aCobbVDHc6eek</td>\n      <td>1929</td>\n      <td>0.673</td>\n      <td>0.3770</td>\n      <td>0</td>\n      <td>-14.141</td>\n      <td>0.0697</td>\n      <td>0.5860</td>\n      <td>0.000000</td>\n      <td>0.3320</td>\n      <td>0.7130</td>\n      <td>88.973</td>\n    </tr>\n    <tr>\n      <th>1</th>\n      <td>2W889aLIKxULEefrleFBFI</td>\n      <td>Someone to Watch Over Me</td>\n      <td>54</td>\n      <td>198000</td>\n      <td>0</td>\n      <td>1Mxqyy3pSjf8kZZL4QVxS0</td>\n      <td>1943</td>\n      <td>0.204</td>\n      <td>0.1510</td>\n      <td>2</td>\n      <td>-17.842</td>\n      <td>0.0418</td>\n      <td>0.9470</td>\n      <td>0.000009</td>\n      <td>0.3210</td>\n      <td>0.1340</td>\n      <td>91.783</td>\n    </tr>\n    <tr>\n      <th>2</th>\n      <td>4Pnzw1nLOpDNV6MKI5ueIR</td>\n      <td>Nancy (With the Laughing Face) - 78rpm Version</td>\n      <td>55</td>\n      <td>199000</td>\n      <td>0</td>\n      <td>1Mxqyy3pSjf8kZZL4QVxS0</td>\n      <td>1944</td>\n      <td>0.295</td>\n      <td>0.0826</td>\n      <td>1</td>\n      <td>-19.569</td>\n      <td>0.0367</td>\n      <td>0.9840</td>\n      <td>0.000358</td>\n      <td>0.1560</td>\n      <td>0.1690</td>\n      <td>128.600</td>\n    </tr>\n    <tr>\n      <th>3</th>\n      <td>7GLmfKOe5BfOXk7334DoKt</td>\n      <td>Saturday Night (Is The Loneliest Night In The ...</td>\n      <td>54</td>\n      <td>163000</td>\n      <td>0</td>\n      <td>1Mxqyy3pSjf8kZZL4QVxS0</td>\n      <td>1944</td>\n      <td>0.561</td>\n      <td>0.3350</td>\n      <td>9</td>\n      <td>-11.093</td>\n      <td>0.0499</td>\n      <td>0.8400</td>\n      <td>0.000002</td>\n      <td>0.7880</td>\n      <td>0.5900</td>\n      <td>126.974</td>\n    </tr>\n    <tr>\n      <th>4</th>\n      <td>6kD1SNGPkfX9LwaGd1FG92</td>\n      <td>Put Your Dreams Away (For Another Day)</td>\n      <td>53</td>\n      <td>186173</td>\n      <td>0</td>\n      <td>1Mxqyy3pSjf8kZZL4QVxS0</td>\n      <td>1944</td>\n      <td>0.197</td>\n      <td>0.0546</td>\n      <td>1</td>\n      <td>-22.411</td>\n      <td>0.0346</td>\n      <td>0.9500</td>\n      <td>0.276000</td>\n      <td>0.1520</td>\n      <td>0.1000</td>\n      <td>90.150</td>\n    </tr>\n    <tr>\n      <th>...</th>\n      <td>...</td>\n      <td>...</td>\n      <td>...</td>\n      <td>...</td>\n      <td>...</td>\n      <td>...</td>\n      <td>...</td>\n      <td>...</td>\n      <td>...</td>\n      <td>...</td>\n      <td>...</td>\n      <td>...</td>\n      <td>...</td>\n      <td>...</td>\n      <td>...</td>\n      <td>...</td>\n      <td>...</td>\n    </tr>\n    <tr>\n      <th>22407</th>\n      <td>0LcNMuOiULmxJK3bdHTfDF</td>\n      <td>Missing You</td>\n      <td>65</td>\n      <td>214987</td>\n      <td>0</td>\n      <td>7gAppWoH7pcYmphCVTXkzs</td>\n      <td>2019-04-19</td>\n      <td>0.537</td>\n      <td>0.6470</td>\n      <td>2</td>\n      <td>-7.370</td>\n      <td>0.0519</td>\n      <td>0.1680</td>\n      <td>0.000000</td>\n      <td>0.1080</td>\n      <td>0.5310</td>\n      <td>79.770</td>\n    </tr>\n    <tr>\n      <th>22408</th>\n      <td>1uviKYHZuM4uINK33F7sCt</td>\n      <td>Fix It to Break It</td>\n      <td>70</td>\n      <td>198799</td>\n      <td>0</td>\n      <td>7okSU80WTrn4LXlyXYbX3P</td>\n      <td>2020-03-27</td>\n      <td>0.493</td>\n      <td>0.4610</td>\n      <td>2</td>\n      <td>-8.524</td>\n      <td>0.0456</td>\n      <td>0.8450</td>\n      <td>0.000000</td>\n      <td>0.1150</td>\n      <td>0.3500</td>\n      <td>51.414</td>\n    </tr>\n    <tr>\n      <th>22409</th>\n      <td>1fXmDeiCb3ABt5CzkMxp4u</td>\n      <td>Lotus Inn</td>\n      <td>63</td>\n      <td>195868</td>\n      <td>0</td>\n      <td>2jnIB6XdLvnJUeNTy5A0J2</td>\n      <td>2020-12-04</td>\n      <td>0.578</td>\n      <td>0.7400</td>\n      <td>2</td>\n      <td>-5.080</td>\n      <td>0.0721</td>\n      <td>0.0119</td>\n      <td>0.000000</td>\n      <td>0.1800</td>\n      <td>0.4950</td>\n      <td>155.984</td>\n    </tr>\n    <tr>\n      <th>22410</th>\n      <td>27kcZEJvhkb1rzZS9gCpdA</td>\n      <td>remember the mornings</td>\n      <td>67</td>\n      <td>202355</td>\n      <td>0</td>\n      <td>7okSU80WTrn4LXlyXYbX3P</td>\n      <td>2020-11-27</td>\n      <td>0.590</td>\n      <td>0.4430</td>\n      <td>0</td>\n      <td>-5.662</td>\n      <td>0.0722</td>\n      <td>0.6180</td>\n      <td>0.000000</td>\n      <td>0.1100</td>\n      <td>0.3420</td>\n      <td>149.447</td>\n    </tr>\n    <tr>\n      <th>22411</th>\n      <td>27Y1N4Q4U3EfDU5Ubw8ws2</td>\n      <td>What They'll Say About Us</td>\n      <td>70</td>\n      <td>187601</td>\n      <td>0</td>\n      <td>37M5pPGs6V1fchFJSgCguX</td>\n      <td>2020-09-02</td>\n      <td>0.535</td>\n      <td>0.3140</td>\n      <td>7</td>\n      <td>-12.823</td>\n      <td>0.0408</td>\n      <td>0.8950</td>\n      <td>0.000150</td>\n      <td>0.0874</td>\n      <td>0.0663</td>\n      <td>145.095</td>\n    </tr>\n  </tbody>\n</table>\n<p>22412 rows × 17 columns</p>\n</div>"
     },
     "execution_count": 112,
     "metadata": {},
     "output_type": "execute_result"
    }
   ],
   "source": [
    "tracks"
   ],
   "metadata": {
    "collapsed": false,
    "ExecuteTime": {
     "end_time": "2024-12-30T23:45:58.077744Z",
     "start_time": "2024-12-30T23:45:58.043941Z"
    }
   },
   "id": "3191a87f649dc1f3",
   "execution_count": 112
  },
  {
   "cell_type": "code",
   "outputs": [
    {
     "data": {
      "text/plain": "                     track_id                       week_range  like_count  \\\n0      000xYdQfIZ4pDmBGzQalKU  week 33 2024-07-10 - 2024-07-17           0   \n1      000xYdQfIZ4pDmBGzQalKU   week 6 2024-01-03 - 2024-01-10           0   \n2      003FTlCpBTM4eSqYSWPv4H  week 28 2024-06-05 - 2024-06-12           0   \n3      003vvx7Niy0yvhvHt4a68B  week 26 2024-05-22 - 2024-05-29           0   \n4      005Dlt8Xaz3DkaXiRJgdiS  week 47 2024-10-16 - 2024-10-23           0   \n...                       ...                              ...         ...   \n14350  7zscdQe9CjzXnqT3P1Ey7K  week 43 2024-09-18 - 2024-09-25           1   \n14351  7zscdQe9CjzXnqT3P1Ey7K  week 49 2024-10-30 - 2024-11-06           2   \n14352  7zuwr7YqqpveNtxlKe1vn6  week 39 2024-08-21 - 2024-08-28           2   \n14353  7zv5oGRQoJX09QM3pkvI1w  week 46 2024-10-09 - 2024-10-16           0   \n14354  7zycSpvjDcqh6YT1FEl2kY  week 18 2024-03-27 - 2024-04-03           0   \n\n       play_count  skip_count  \n0               2           0  \n1               2           0  \n2               1           0  \n3               1           0  \n4               1           0  \n...           ...         ...  \n14350           2           0  \n14351           4           0  \n14352           2           0  \n14353           1           0  \n14354           1           0  \n\n[14355 rows x 5 columns]",
      "text/html": "<div>\n<style scoped>\n    .dataframe tbody tr th:only-of-type {\n        vertical-align: middle;\n    }\n\n    .dataframe tbody tr th {\n        vertical-align: top;\n    }\n\n    .dataframe thead th {\n        text-align: right;\n    }\n</style>\n<table border=\"1\" class=\"dataframe\">\n  <thead>\n    <tr style=\"text-align: right;\">\n      <th></th>\n      <th>track_id</th>\n      <th>week_range</th>\n      <th>like_count</th>\n      <th>play_count</th>\n      <th>skip_count</th>\n    </tr>\n  </thead>\n  <tbody>\n    <tr>\n      <th>0</th>\n      <td>000xYdQfIZ4pDmBGzQalKU</td>\n      <td>week 33 2024-07-10 - 2024-07-17</td>\n      <td>0</td>\n      <td>2</td>\n      <td>0</td>\n    </tr>\n    <tr>\n      <th>1</th>\n      <td>000xYdQfIZ4pDmBGzQalKU</td>\n      <td>week 6 2024-01-03 - 2024-01-10</td>\n      <td>0</td>\n      <td>2</td>\n      <td>0</td>\n    </tr>\n    <tr>\n      <th>2</th>\n      <td>003FTlCpBTM4eSqYSWPv4H</td>\n      <td>week 28 2024-06-05 - 2024-06-12</td>\n      <td>0</td>\n      <td>1</td>\n      <td>0</td>\n    </tr>\n    <tr>\n      <th>3</th>\n      <td>003vvx7Niy0yvhvHt4a68B</td>\n      <td>week 26 2024-05-22 - 2024-05-29</td>\n      <td>0</td>\n      <td>1</td>\n      <td>0</td>\n    </tr>\n    <tr>\n      <th>4</th>\n      <td>005Dlt8Xaz3DkaXiRJgdiS</td>\n      <td>week 47 2024-10-16 - 2024-10-23</td>\n      <td>0</td>\n      <td>1</td>\n      <td>0</td>\n    </tr>\n    <tr>\n      <th>...</th>\n      <td>...</td>\n      <td>...</td>\n      <td>...</td>\n      <td>...</td>\n      <td>...</td>\n    </tr>\n    <tr>\n      <th>14350</th>\n      <td>7zscdQe9CjzXnqT3P1Ey7K</td>\n      <td>week 43 2024-09-18 - 2024-09-25</td>\n      <td>1</td>\n      <td>2</td>\n      <td>0</td>\n    </tr>\n    <tr>\n      <th>14351</th>\n      <td>7zscdQe9CjzXnqT3P1Ey7K</td>\n      <td>week 49 2024-10-30 - 2024-11-06</td>\n      <td>2</td>\n      <td>4</td>\n      <td>0</td>\n    </tr>\n    <tr>\n      <th>14352</th>\n      <td>7zuwr7YqqpveNtxlKe1vn6</td>\n      <td>week 39 2024-08-21 - 2024-08-28</td>\n      <td>2</td>\n      <td>2</td>\n      <td>0</td>\n    </tr>\n    <tr>\n      <th>14353</th>\n      <td>7zv5oGRQoJX09QM3pkvI1w</td>\n      <td>week 46 2024-10-09 - 2024-10-16</td>\n      <td>0</td>\n      <td>1</td>\n      <td>0</td>\n    </tr>\n    <tr>\n      <th>14354</th>\n      <td>7zycSpvjDcqh6YT1FEl2kY</td>\n      <td>week 18 2024-03-27 - 2024-04-03</td>\n      <td>0</td>\n      <td>1</td>\n      <td>0</td>\n    </tr>\n  </tbody>\n</table>\n<p>14355 rows × 5 columns</p>\n</div>"
     },
     "execution_count": 113,
     "metadata": {},
     "output_type": "execute_result"
    }
   ],
   "source": [
    "events_data_df"
   ],
   "metadata": {
    "collapsed": false,
    "ExecuteTime": {
     "end_time": "2024-12-30T23:46:19.966884Z",
     "start_time": "2024-12-30T23:46:19.951917Z"
    }
   },
   "id": "372fc645635977aa",
   "execution_count": 113
  },
  {
   "cell_type": "code",
   "outputs": [],
   "source": [
    "events_data_df = events_data_df.merge(tracks[['id', 'id_artist']], left_on='track_id', right_on='id', how='left')"
   ],
   "metadata": {
    "collapsed": false,
    "ExecuteTime": {
     "end_time": "2024-12-30T23:49:59.793076Z",
     "start_time": "2024-12-30T23:49:59.755176Z"
    }
   },
   "id": "ccfcf7b598a0a6c3",
   "execution_count": 116
  },
  {
   "cell_type": "code",
   "outputs": [
    {
     "data": {
      "text/plain": "                     track_id                       week_range  like_count  \\\n0      000xYdQfIZ4pDmBGzQalKU  week 33 2024-07-10 - 2024-07-17           0   \n1      000xYdQfIZ4pDmBGzQalKU   week 6 2024-01-03 - 2024-01-10           0   \n2      003FTlCpBTM4eSqYSWPv4H  week 28 2024-06-05 - 2024-06-12           0   \n3      003vvx7Niy0yvhvHt4a68B  week 26 2024-05-22 - 2024-05-29           0   \n4      005Dlt8Xaz3DkaXiRJgdiS  week 47 2024-10-16 - 2024-10-23           0   \n...                       ...                              ...         ...   \n14350  7zscdQe9CjzXnqT3P1Ey7K  week 43 2024-09-18 - 2024-09-25           1   \n14351  7zscdQe9CjzXnqT3P1Ey7K  week 49 2024-10-30 - 2024-11-06           2   \n14352  7zuwr7YqqpveNtxlKe1vn6  week 39 2024-08-21 - 2024-08-28           2   \n14353  7zv5oGRQoJX09QM3pkvI1w  week 46 2024-10-09 - 2024-10-16           0   \n14354  7zycSpvjDcqh6YT1FEl2kY  week 18 2024-03-27 - 2024-04-03           0   \n\n       play_count  skip_count                      id               id_artist  \n0               2           0  000xYdQfIZ4pDmBGzQalKU  3qvcCP2J0fWi0m0uQDUf6r  \n1               2           0  000xYdQfIZ4pDmBGzQalKU  3qvcCP2J0fWi0m0uQDUf6r  \n2               1           0  003FTlCpBTM4eSqYSWPv4H  3vAaWhdBR38Q02ohXqaNHT  \n3               1           0  003vvx7Niy0yvhvHt4a68B  0C0XlULifJtAgn6ZNCW2eu  \n4               1           0  005Dlt8Xaz3DkaXiRJgdiS  0h1zs4CTlU9D2QtgPxptUD  \n...           ...         ...                     ...                     ...  \n14350           2           0  7zscdQe9CjzXnqT3P1Ey7K  711MCceyCBcFnzjGY4Q7Un  \n14351           4           0  7zscdQe9CjzXnqT3P1Ey7K  711MCceyCBcFnzjGY4Q7Un  \n14352           2           0  7zuwr7YqqpveNtxlKe1vn6  1JbemQ1fPt2YmSLjAFhPBv  \n14353           1           0  7zv5oGRQoJX09QM3pkvI1w  1dfeR4HaWDbWqFHLkxsg1d  \n14354           1           0  7zycSpvjDcqh6YT1FEl2kY  0hCNtLu0JehylgoiP8L4Gh  \n\n[14355 rows x 7 columns]",
      "text/html": "<div>\n<style scoped>\n    .dataframe tbody tr th:only-of-type {\n        vertical-align: middle;\n    }\n\n    .dataframe tbody tr th {\n        vertical-align: top;\n    }\n\n    .dataframe thead th {\n        text-align: right;\n    }\n</style>\n<table border=\"1\" class=\"dataframe\">\n  <thead>\n    <tr style=\"text-align: right;\">\n      <th></th>\n      <th>track_id</th>\n      <th>week_range</th>\n      <th>like_count</th>\n      <th>play_count</th>\n      <th>skip_count</th>\n      <th>id</th>\n      <th>id_artist</th>\n    </tr>\n  </thead>\n  <tbody>\n    <tr>\n      <th>0</th>\n      <td>000xYdQfIZ4pDmBGzQalKU</td>\n      <td>week 33 2024-07-10 - 2024-07-17</td>\n      <td>0</td>\n      <td>2</td>\n      <td>0</td>\n      <td>000xYdQfIZ4pDmBGzQalKU</td>\n      <td>3qvcCP2J0fWi0m0uQDUf6r</td>\n    </tr>\n    <tr>\n      <th>1</th>\n      <td>000xYdQfIZ4pDmBGzQalKU</td>\n      <td>week 6 2024-01-03 - 2024-01-10</td>\n      <td>0</td>\n      <td>2</td>\n      <td>0</td>\n      <td>000xYdQfIZ4pDmBGzQalKU</td>\n      <td>3qvcCP2J0fWi0m0uQDUf6r</td>\n    </tr>\n    <tr>\n      <th>2</th>\n      <td>003FTlCpBTM4eSqYSWPv4H</td>\n      <td>week 28 2024-06-05 - 2024-06-12</td>\n      <td>0</td>\n      <td>1</td>\n      <td>0</td>\n      <td>003FTlCpBTM4eSqYSWPv4H</td>\n      <td>3vAaWhdBR38Q02ohXqaNHT</td>\n    </tr>\n    <tr>\n      <th>3</th>\n      <td>003vvx7Niy0yvhvHt4a68B</td>\n      <td>week 26 2024-05-22 - 2024-05-29</td>\n      <td>0</td>\n      <td>1</td>\n      <td>0</td>\n      <td>003vvx7Niy0yvhvHt4a68B</td>\n      <td>0C0XlULifJtAgn6ZNCW2eu</td>\n    </tr>\n    <tr>\n      <th>4</th>\n      <td>005Dlt8Xaz3DkaXiRJgdiS</td>\n      <td>week 47 2024-10-16 - 2024-10-23</td>\n      <td>0</td>\n      <td>1</td>\n      <td>0</td>\n      <td>005Dlt8Xaz3DkaXiRJgdiS</td>\n      <td>0h1zs4CTlU9D2QtgPxptUD</td>\n    </tr>\n    <tr>\n      <th>...</th>\n      <td>...</td>\n      <td>...</td>\n      <td>...</td>\n      <td>...</td>\n      <td>...</td>\n      <td>...</td>\n      <td>...</td>\n    </tr>\n    <tr>\n      <th>14350</th>\n      <td>7zscdQe9CjzXnqT3P1Ey7K</td>\n      <td>week 43 2024-09-18 - 2024-09-25</td>\n      <td>1</td>\n      <td>2</td>\n      <td>0</td>\n      <td>7zscdQe9CjzXnqT3P1Ey7K</td>\n      <td>711MCceyCBcFnzjGY4Q7Un</td>\n    </tr>\n    <tr>\n      <th>14351</th>\n      <td>7zscdQe9CjzXnqT3P1Ey7K</td>\n      <td>week 49 2024-10-30 - 2024-11-06</td>\n      <td>2</td>\n      <td>4</td>\n      <td>0</td>\n      <td>7zscdQe9CjzXnqT3P1Ey7K</td>\n      <td>711MCceyCBcFnzjGY4Q7Un</td>\n    </tr>\n    <tr>\n      <th>14352</th>\n      <td>7zuwr7YqqpveNtxlKe1vn6</td>\n      <td>week 39 2024-08-21 - 2024-08-28</td>\n      <td>2</td>\n      <td>2</td>\n      <td>0</td>\n      <td>7zuwr7YqqpveNtxlKe1vn6</td>\n      <td>1JbemQ1fPt2YmSLjAFhPBv</td>\n    </tr>\n    <tr>\n      <th>14353</th>\n      <td>7zv5oGRQoJX09QM3pkvI1w</td>\n      <td>week 46 2024-10-09 - 2024-10-16</td>\n      <td>0</td>\n      <td>1</td>\n      <td>0</td>\n      <td>7zv5oGRQoJX09QM3pkvI1w</td>\n      <td>1dfeR4HaWDbWqFHLkxsg1d</td>\n    </tr>\n    <tr>\n      <th>14354</th>\n      <td>7zycSpvjDcqh6YT1FEl2kY</td>\n      <td>week 18 2024-03-27 - 2024-04-03</td>\n      <td>0</td>\n      <td>1</td>\n      <td>0</td>\n      <td>7zycSpvjDcqh6YT1FEl2kY</td>\n      <td>0hCNtLu0JehylgoiP8L4Gh</td>\n    </tr>\n  </tbody>\n</table>\n<p>14355 rows × 7 columns</p>\n</div>"
     },
     "execution_count": 117,
     "metadata": {},
     "output_type": "execute_result"
    }
   ],
   "source": [
    "events_data_df"
   ],
   "metadata": {
    "collapsed": false,
    "ExecuteTime": {
     "end_time": "2024-12-30T23:50:01.697748Z",
     "start_time": "2024-12-30T23:50:01.691576Z"
    }
   },
   "id": "7b4aa4ef6b9820cd",
   "execution_count": 117
  },
  {
   "cell_type": "code",
   "outputs": [
    {
     "name": "stdout",
     "output_type": "stream",
     "text": [
      "                     track_id                       week_range  like_count  \\\n",
      "0      000xYdQfIZ4pDmBGzQalKU  week 33 2024-07-10 - 2024-07-17           0   \n",
      "1      000xYdQfIZ4pDmBGzQalKU   week 6 2024-01-03 - 2024-01-10           0   \n",
      "2      003FTlCpBTM4eSqYSWPv4H  week 28 2024-06-05 - 2024-06-12           0   \n",
      "3      003vvx7Niy0yvhvHt4a68B  week 26 2024-05-22 - 2024-05-29           0   \n",
      "4      005Dlt8Xaz3DkaXiRJgdiS  week 47 2024-10-16 - 2024-10-23           0   \n",
      "...                       ...                              ...         ...   \n",
      "14350  7zscdQe9CjzXnqT3P1Ey7K  week 43 2024-09-18 - 2024-09-25           1   \n",
      "14351  7zscdQe9CjzXnqT3P1Ey7K  week 49 2024-10-30 - 2024-11-06           2   \n",
      "14352  7zuwr7YqqpveNtxlKe1vn6  week 39 2024-08-21 - 2024-08-28           2   \n",
      "14353  7zv5oGRQoJX09QM3pkvI1w  week 46 2024-10-09 - 2024-10-16           0   \n",
      "14354  7zycSpvjDcqh6YT1FEl2kY  week 18 2024-03-27 - 2024-04-03           0   \n",
      "\n",
      "       play_count  skip_count                      id               id_artist  \n",
      "0               2           0  000xYdQfIZ4pDmBGzQalKU  3qvcCP2J0fWi0m0uQDUf6r  \n",
      "1               2           0  000xYdQfIZ4pDmBGzQalKU  3qvcCP2J0fWi0m0uQDUf6r  \n",
      "2               1           0  003FTlCpBTM4eSqYSWPv4H  3vAaWhdBR38Q02ohXqaNHT  \n",
      "3               1           0  003vvx7Niy0yvhvHt4a68B  0C0XlULifJtAgn6ZNCW2eu  \n",
      "4               1           0  005Dlt8Xaz3DkaXiRJgdiS  0h1zs4CTlU9D2QtgPxptUD  \n",
      "...           ...         ...                     ...                     ...  \n",
      "14350           2           0  7zscdQe9CjzXnqT3P1Ey7K  711MCceyCBcFnzjGY4Q7Un  \n",
      "14351           4           0  7zscdQe9CjzXnqT3P1Ey7K  711MCceyCBcFnzjGY4Q7Un  \n",
      "14352           2           0  7zuwr7YqqpveNtxlKe1vn6  1JbemQ1fPt2YmSLjAFhPBv  \n",
      "14353           1           0  7zv5oGRQoJX09QM3pkvI1w  1dfeR4HaWDbWqFHLkxsg1d  \n",
      "14354           1           0  7zycSpvjDcqh6YT1FEl2kY  0hCNtLu0JehylgoiP8L4Gh  \n",
      "\n",
      "[14355 rows x 7 columns]\n"
     ]
    }
   ],
   "source": [
    "print(events_data_df)"
   ],
   "metadata": {
    "collapsed": false,
    "ExecuteTime": {
     "end_time": "2024-12-30T23:50:22.177784Z",
     "start_time": "2024-12-30T23:50:22.161368Z"
    }
   },
   "id": "a52d1d47793e62a8",
   "execution_count": 118
  },
  {
   "cell_type": "code",
   "outputs": [],
   "source": [
    "# Group by id_artist and week_range, then sum the like_count, play_count, and skip_count for each group\n",
    "weekly_artist_event_counts = events_data_df.groupby(['id_artist', 'week_range'])[['like_count', 'play_count', 'skip_count']].sum().reset_index()\n",
    "\n",
    "# Display the updated DataFrame\n"
   ],
   "metadata": {
    "collapsed": false,
    "ExecuteTime": {
     "end_time": "2024-12-30T23:52:52.178451Z",
     "start_time": "2024-12-30T23:52:52.152839Z"
    }
   },
   "id": "8fbcc5a4803b6800",
   "execution_count": 119
  },
  {
   "cell_type": "code",
   "outputs": [
    {
     "data": {
      "text/plain": "                    id_artist                       week_range  like_count  \\\n0      00FQb4jTyendYWaN8pK0wa   week 1 2023-11-29 - 2023-12-06           1   \n1      00FQb4jTyendYWaN8pK0wa  week 10 2024-01-31 - 2024-02-07           0   \n2      00FQb4jTyendYWaN8pK0wa  week 12 2024-02-14 - 2024-02-21           3   \n3      00FQb4jTyendYWaN8pK0wa  week 13 2024-02-21 - 2024-02-28           1   \n4      00FQb4jTyendYWaN8pK0wa  week 14 2024-02-28 - 2024-03-06           3   \n...                       ...                              ...         ...   \n11740  7z5WFjZAIYejWy0NI5lv4T  week 27 2024-05-29 - 2024-06-05           0   \n11741  7z5WFjZAIYejWy0NI5lv4T  week 31 2024-06-26 - 2024-07-03           2   \n11742  7z5WFjZAIYejWy0NI5lv4T  week 44 2024-09-25 - 2024-10-02           0   \n11743  7z5WFjZAIYejWy0NI5lv4T  week 48 2024-10-23 - 2024-10-30           0   \n11744  7z5WFjZAIYejWy0NI5lv4T  week 49 2024-10-30 - 2024-11-06           1   \n\n       play_count  skip_count  \n0               5           3  \n1               1           0  \n2               5           3  \n3               4           1  \n4               6           2  \n...           ...         ...  \n11740           2           2  \n11741           6           0  \n11742           1           0  \n11743           1           0  \n11744           5           0  \n\n[11745 rows x 5 columns]",
      "text/html": "<div>\n<style scoped>\n    .dataframe tbody tr th:only-of-type {\n        vertical-align: middle;\n    }\n\n    .dataframe tbody tr th {\n        vertical-align: top;\n    }\n\n    .dataframe thead th {\n        text-align: right;\n    }\n</style>\n<table border=\"1\" class=\"dataframe\">\n  <thead>\n    <tr style=\"text-align: right;\">\n      <th></th>\n      <th>id_artist</th>\n      <th>week_range</th>\n      <th>like_count</th>\n      <th>play_count</th>\n      <th>skip_count</th>\n    </tr>\n  </thead>\n  <tbody>\n    <tr>\n      <th>0</th>\n      <td>00FQb4jTyendYWaN8pK0wa</td>\n      <td>week 1 2023-11-29 - 2023-12-06</td>\n      <td>1</td>\n      <td>5</td>\n      <td>3</td>\n    </tr>\n    <tr>\n      <th>1</th>\n      <td>00FQb4jTyendYWaN8pK0wa</td>\n      <td>week 10 2024-01-31 - 2024-02-07</td>\n      <td>0</td>\n      <td>1</td>\n      <td>0</td>\n    </tr>\n    <tr>\n      <th>2</th>\n      <td>00FQb4jTyendYWaN8pK0wa</td>\n      <td>week 12 2024-02-14 - 2024-02-21</td>\n      <td>3</td>\n      <td>5</td>\n      <td>3</td>\n    </tr>\n    <tr>\n      <th>3</th>\n      <td>00FQb4jTyendYWaN8pK0wa</td>\n      <td>week 13 2024-02-21 - 2024-02-28</td>\n      <td>1</td>\n      <td>4</td>\n      <td>1</td>\n    </tr>\n    <tr>\n      <th>4</th>\n      <td>00FQb4jTyendYWaN8pK0wa</td>\n      <td>week 14 2024-02-28 - 2024-03-06</td>\n      <td>3</td>\n      <td>6</td>\n      <td>2</td>\n    </tr>\n    <tr>\n      <th>...</th>\n      <td>...</td>\n      <td>...</td>\n      <td>...</td>\n      <td>...</td>\n      <td>...</td>\n    </tr>\n    <tr>\n      <th>11740</th>\n      <td>7z5WFjZAIYejWy0NI5lv4T</td>\n      <td>week 27 2024-05-29 - 2024-06-05</td>\n      <td>0</td>\n      <td>2</td>\n      <td>2</td>\n    </tr>\n    <tr>\n      <th>11741</th>\n      <td>7z5WFjZAIYejWy0NI5lv4T</td>\n      <td>week 31 2024-06-26 - 2024-07-03</td>\n      <td>2</td>\n      <td>6</td>\n      <td>0</td>\n    </tr>\n    <tr>\n      <th>11742</th>\n      <td>7z5WFjZAIYejWy0NI5lv4T</td>\n      <td>week 44 2024-09-25 - 2024-10-02</td>\n      <td>0</td>\n      <td>1</td>\n      <td>0</td>\n    </tr>\n    <tr>\n      <th>11743</th>\n      <td>7z5WFjZAIYejWy0NI5lv4T</td>\n      <td>week 48 2024-10-23 - 2024-10-30</td>\n      <td>0</td>\n      <td>1</td>\n      <td>0</td>\n    </tr>\n    <tr>\n      <th>11744</th>\n      <td>7z5WFjZAIYejWy0NI5lv4T</td>\n      <td>week 49 2024-10-30 - 2024-11-06</td>\n      <td>1</td>\n      <td>5</td>\n      <td>0</td>\n    </tr>\n  </tbody>\n</table>\n<p>11745 rows × 5 columns</p>\n</div>"
     },
     "execution_count": 120,
     "metadata": {},
     "output_type": "execute_result"
    }
   ],
   "source": [
    "weekly_artist_event_counts"
   ],
   "metadata": {
    "collapsed": false,
    "ExecuteTime": {
     "end_time": "2024-12-30T23:52:55.915153Z",
     "start_time": "2024-12-30T23:52:55.907448Z"
    }
   },
   "id": "e0f5f7a121574295",
   "execution_count": 120
  },
  {
   "cell_type": "code",
   "outputs": [],
   "source": [],
   "metadata": {
    "collapsed": false
   },
   "id": "3318967302ded54b"
  }
 ],
 "metadata": {
  "kernelspec": {
   "display_name": "Python 3",
   "language": "python",
   "name": "python3"
  },
  "language_info": {
   "codemirror_mode": {
    "name": "ipython",
    "version": 2
   },
   "file_extension": ".py",
   "mimetype": "text/x-python",
   "name": "python",
   "nbconvert_exporter": "python",
   "pygments_lexer": "ipython2",
   "version": "2.7.6"
  }
 },
 "nbformat": 4,
 "nbformat_minor": 5
}
