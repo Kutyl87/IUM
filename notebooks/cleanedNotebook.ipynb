{
 "cells": [
  {
   "cell_type": "code",
   "outputs": [],
   "source": [
    "import pandas as pd\n",
    "import seaborn as sns\n",
    "import matplotlib.pyplot as plt\n"
   ],
   "metadata": {
    "collapsed": false,
    "ExecuteTime": {
     "end_time": "2025-01-03T17:23:26.861574Z",
     "start_time": "2025-01-03T17:23:26.856845Z"
    }
   },
   "id": "c37499d1c56eb7bc",
   "execution_count": 2
  },
  {
   "cell_type": "code",
   "execution_count": 3,
   "id": "initial_id",
   "metadata": {
    "collapsed": true,
    "ExecuteTime": {
     "end_time": "2025-01-03T17:23:27.325970Z",
     "start_time": "2025-01-03T17:23:27.259120Z"
    }
   },
   "outputs": [],
   "source": [
    "sessions = pd.read_json(\"../data-v2/sessions.jsonl\",lines=True)\n"
   ]
  },
  {
   "cell_type": "code",
   "outputs": [
    {
     "data": {
      "text/plain": "       session_id               timestamp  user_id                track_id  \\\n0             124 2024-07-13 15:55:37.000      101  4YPgTCGJWAlHQ5g6eWoM8r   \n1             125 2024-06-20 06:31:23.547      101  4p8QcNkaq2FQj8uGJ7HEDK   \n2             125 2024-06-20 06:35:43.814      101  4GKk1uNzpxIptBuaY97Dkj   \n3             125 2024-06-20 06:39:13.270      101  4GKk1uNzpxIptBuaY97Dkj   \n4             125 2024-06-20 06:40:43.481      101  0ZO2iSS12JTftv10cSCYf8   \n...           ...                     ...      ...                     ...   \n26342        4755 2024-08-11 13:40:51.342      150  4COFVKhvXA3LecFReH6D2v   \n26343        4755 2024-08-11 13:42:19.523      150  4COFVKhvXA3LecFReH6D2v   \n26344        4755 2024-08-11 13:44:50.582      150  6vPAmoERUMRoTZaCCSWQ12   \n26345        4755 2024-08-11 13:49:36.582      150  5A32KQZznC2HSqr9qzTl2N   \n26346        4755 2024-08-11 13:54:51.169      150  3YkDslZvvMixTwgDId0aYB   \n\n      event_type  \n0           play  \n1           play  \n2           play  \n3           like  \n4           play  \n...          ...  \n26342       play  \n26343       like  \n26344       play  \n26345       play  \n26346       play  \n\n[26347 rows x 5 columns]",
      "text/html": "<div>\n<style scoped>\n    .dataframe tbody tr th:only-of-type {\n        vertical-align: middle;\n    }\n\n    .dataframe tbody tr th {\n        vertical-align: top;\n    }\n\n    .dataframe thead th {\n        text-align: right;\n    }\n</style>\n<table border=\"1\" class=\"dataframe\">\n  <thead>\n    <tr style=\"text-align: right;\">\n      <th></th>\n      <th>session_id</th>\n      <th>timestamp</th>\n      <th>user_id</th>\n      <th>track_id</th>\n      <th>event_type</th>\n    </tr>\n  </thead>\n  <tbody>\n    <tr>\n      <th>0</th>\n      <td>124</td>\n      <td>2024-07-13 15:55:37.000</td>\n      <td>101</td>\n      <td>4YPgTCGJWAlHQ5g6eWoM8r</td>\n      <td>play</td>\n    </tr>\n    <tr>\n      <th>1</th>\n      <td>125</td>\n      <td>2024-06-20 06:31:23.547</td>\n      <td>101</td>\n      <td>4p8QcNkaq2FQj8uGJ7HEDK</td>\n      <td>play</td>\n    </tr>\n    <tr>\n      <th>2</th>\n      <td>125</td>\n      <td>2024-06-20 06:35:43.814</td>\n      <td>101</td>\n      <td>4GKk1uNzpxIptBuaY97Dkj</td>\n      <td>play</td>\n    </tr>\n    <tr>\n      <th>3</th>\n      <td>125</td>\n      <td>2024-06-20 06:39:13.270</td>\n      <td>101</td>\n      <td>4GKk1uNzpxIptBuaY97Dkj</td>\n      <td>like</td>\n    </tr>\n    <tr>\n      <th>4</th>\n      <td>125</td>\n      <td>2024-06-20 06:40:43.481</td>\n      <td>101</td>\n      <td>0ZO2iSS12JTftv10cSCYf8</td>\n      <td>play</td>\n    </tr>\n    <tr>\n      <th>...</th>\n      <td>...</td>\n      <td>...</td>\n      <td>...</td>\n      <td>...</td>\n      <td>...</td>\n    </tr>\n    <tr>\n      <th>26342</th>\n      <td>4755</td>\n      <td>2024-08-11 13:40:51.342</td>\n      <td>150</td>\n      <td>4COFVKhvXA3LecFReH6D2v</td>\n      <td>play</td>\n    </tr>\n    <tr>\n      <th>26343</th>\n      <td>4755</td>\n      <td>2024-08-11 13:42:19.523</td>\n      <td>150</td>\n      <td>4COFVKhvXA3LecFReH6D2v</td>\n      <td>like</td>\n    </tr>\n    <tr>\n      <th>26344</th>\n      <td>4755</td>\n      <td>2024-08-11 13:44:50.582</td>\n      <td>150</td>\n      <td>6vPAmoERUMRoTZaCCSWQ12</td>\n      <td>play</td>\n    </tr>\n    <tr>\n      <th>26345</th>\n      <td>4755</td>\n      <td>2024-08-11 13:49:36.582</td>\n      <td>150</td>\n      <td>5A32KQZznC2HSqr9qzTl2N</td>\n      <td>play</td>\n    </tr>\n    <tr>\n      <th>26346</th>\n      <td>4755</td>\n      <td>2024-08-11 13:54:51.169</td>\n      <td>150</td>\n      <td>3YkDslZvvMixTwgDId0aYB</td>\n      <td>play</td>\n    </tr>\n  </tbody>\n</table>\n<p>26347 rows × 5 columns</p>\n</div>"
     },
     "execution_count": 4,
     "metadata": {},
     "output_type": "execute_result"
    }
   ],
   "source": [
    "sessions"
   ],
   "metadata": {
    "collapsed": false,
    "ExecuteTime": {
     "end_time": "2025-01-03T17:23:50.776287Z",
     "start_time": "2025-01-03T17:23:50.766838Z"
    }
   },
   "id": "a7ddd54ef846ae89",
   "execution_count": 4
  },
  {
   "cell_type": "code",
   "outputs": [],
   "source": [
    "sessions['date'] = sessions['timestamp'].dt.date"
   ],
   "metadata": {
    "collapsed": false,
    "ExecuteTime": {
     "end_time": "2025-01-03T17:42:50.745365Z",
     "start_time": "2025-01-03T17:42:50.732780Z"
    }
   },
   "id": "9cf82ef85ff86272",
   "execution_count": 44
  },
  {
   "cell_type": "code",
   "outputs": [
    {
     "data": {
      "text/plain": "       session_id               timestamp  user_id                track_id  \\\n0             124 2024-07-13 15:55:37.000      101  4YPgTCGJWAlHQ5g6eWoM8r   \n1             125 2024-06-20 06:31:23.547      101  4p8QcNkaq2FQj8uGJ7HEDK   \n2             125 2024-06-20 06:35:43.814      101  4GKk1uNzpxIptBuaY97Dkj   \n3             125 2024-06-20 06:39:13.270      101  4GKk1uNzpxIptBuaY97Dkj   \n4             125 2024-06-20 06:40:43.481      101  0ZO2iSS12JTftv10cSCYf8   \n...           ...                     ...      ...                     ...   \n26342        4755 2024-08-11 13:40:51.342      150  4COFVKhvXA3LecFReH6D2v   \n26343        4755 2024-08-11 13:42:19.523      150  4COFVKhvXA3LecFReH6D2v   \n26344        4755 2024-08-11 13:44:50.582      150  6vPAmoERUMRoTZaCCSWQ12   \n26345        4755 2024-08-11 13:49:36.582      150  5A32KQZznC2HSqr9qzTl2N   \n26346        4755 2024-08-11 13:54:51.169      150  3YkDslZvvMixTwgDId0aYB   \n\n      event_type        date  \n0           play  2024-07-13  \n1           play  2024-06-20  \n2           play  2024-06-20  \n3           like  2024-06-20  \n4           play  2024-06-20  \n...          ...         ...  \n26342       play  2024-08-11  \n26343       like  2024-08-11  \n26344       play  2024-08-11  \n26345       play  2024-08-11  \n26346       play  2024-08-11  \n\n[26347 rows x 6 columns]",
      "text/html": "<div>\n<style scoped>\n    .dataframe tbody tr th:only-of-type {\n        vertical-align: middle;\n    }\n\n    .dataframe tbody tr th {\n        vertical-align: top;\n    }\n\n    .dataframe thead th {\n        text-align: right;\n    }\n</style>\n<table border=\"1\" class=\"dataframe\">\n  <thead>\n    <tr style=\"text-align: right;\">\n      <th></th>\n      <th>session_id</th>\n      <th>timestamp</th>\n      <th>user_id</th>\n      <th>track_id</th>\n      <th>event_type</th>\n      <th>date</th>\n    </tr>\n  </thead>\n  <tbody>\n    <tr>\n      <th>0</th>\n      <td>124</td>\n      <td>2024-07-13 15:55:37.000</td>\n      <td>101</td>\n      <td>4YPgTCGJWAlHQ5g6eWoM8r</td>\n      <td>play</td>\n      <td>2024-07-13</td>\n    </tr>\n    <tr>\n      <th>1</th>\n      <td>125</td>\n      <td>2024-06-20 06:31:23.547</td>\n      <td>101</td>\n      <td>4p8QcNkaq2FQj8uGJ7HEDK</td>\n      <td>play</td>\n      <td>2024-06-20</td>\n    </tr>\n    <tr>\n      <th>2</th>\n      <td>125</td>\n      <td>2024-06-20 06:35:43.814</td>\n      <td>101</td>\n      <td>4GKk1uNzpxIptBuaY97Dkj</td>\n      <td>play</td>\n      <td>2024-06-20</td>\n    </tr>\n    <tr>\n      <th>3</th>\n      <td>125</td>\n      <td>2024-06-20 06:39:13.270</td>\n      <td>101</td>\n      <td>4GKk1uNzpxIptBuaY97Dkj</td>\n      <td>like</td>\n      <td>2024-06-20</td>\n    </tr>\n    <tr>\n      <th>4</th>\n      <td>125</td>\n      <td>2024-06-20 06:40:43.481</td>\n      <td>101</td>\n      <td>0ZO2iSS12JTftv10cSCYf8</td>\n      <td>play</td>\n      <td>2024-06-20</td>\n    </tr>\n    <tr>\n      <th>...</th>\n      <td>...</td>\n      <td>...</td>\n      <td>...</td>\n      <td>...</td>\n      <td>...</td>\n      <td>...</td>\n    </tr>\n    <tr>\n      <th>26342</th>\n      <td>4755</td>\n      <td>2024-08-11 13:40:51.342</td>\n      <td>150</td>\n      <td>4COFVKhvXA3LecFReH6D2v</td>\n      <td>play</td>\n      <td>2024-08-11</td>\n    </tr>\n    <tr>\n      <th>26343</th>\n      <td>4755</td>\n      <td>2024-08-11 13:42:19.523</td>\n      <td>150</td>\n      <td>4COFVKhvXA3LecFReH6D2v</td>\n      <td>like</td>\n      <td>2024-08-11</td>\n    </tr>\n    <tr>\n      <th>26344</th>\n      <td>4755</td>\n      <td>2024-08-11 13:44:50.582</td>\n      <td>150</td>\n      <td>6vPAmoERUMRoTZaCCSWQ12</td>\n      <td>play</td>\n      <td>2024-08-11</td>\n    </tr>\n    <tr>\n      <th>26345</th>\n      <td>4755</td>\n      <td>2024-08-11 13:49:36.582</td>\n      <td>150</td>\n      <td>5A32KQZznC2HSqr9qzTl2N</td>\n      <td>play</td>\n      <td>2024-08-11</td>\n    </tr>\n    <tr>\n      <th>26346</th>\n      <td>4755</td>\n      <td>2024-08-11 13:54:51.169</td>\n      <td>150</td>\n      <td>3YkDslZvvMixTwgDId0aYB</td>\n      <td>play</td>\n      <td>2024-08-11</td>\n    </tr>\n  </tbody>\n</table>\n<p>26347 rows × 6 columns</p>\n</div>"
     },
     "execution_count": 45,
     "metadata": {},
     "output_type": "execute_result"
    }
   ],
   "source": [
    "sessions\n"
   ],
   "metadata": {
    "collapsed": false,
    "ExecuteTime": {
     "end_time": "2025-01-03T17:42:50.922349Z",
     "start_time": "2025-01-03T17:42:50.916228Z"
    }
   },
   "id": "caf8e54492bd27fe",
   "execution_count": 45
  },
  {
   "cell_type": "code",
   "outputs": [
    {
     "data": {
      "text/plain": "       session_id               timestamp  user_id                track_id  \\\n0             124 2024-07-13 15:55:37.000      101  4YPgTCGJWAlHQ5g6eWoM8r   \n1             125 2024-06-20 06:31:23.547      101  4p8QcNkaq2FQj8uGJ7HEDK   \n2             125 2024-06-20 06:35:43.814      101  4GKk1uNzpxIptBuaY97Dkj   \n3             125 2024-06-20 06:39:13.270      101  4GKk1uNzpxIptBuaY97Dkj   \n4             125 2024-06-20 06:40:43.481      101  0ZO2iSS12JTftv10cSCYf8   \n...           ...                     ...      ...                     ...   \n26342        4755 2024-08-11 13:40:51.342      150  4COFVKhvXA3LecFReH6D2v   \n26343        4755 2024-08-11 13:42:19.523      150  4COFVKhvXA3LecFReH6D2v   \n26344        4755 2024-08-11 13:44:50.582      150  6vPAmoERUMRoTZaCCSWQ12   \n26345        4755 2024-08-11 13:49:36.582      150  5A32KQZznC2HSqr9qzTl2N   \n26346        4755 2024-08-11 13:54:51.169      150  3YkDslZvvMixTwgDId0aYB   \n\n      event_type        date  \n0           play  2024-07-13  \n1           play  2024-06-20  \n2           play  2024-06-20  \n3           like  2024-06-20  \n4           play  2024-06-20  \n...          ...         ...  \n26342       play  2024-08-11  \n26343       like  2024-08-11  \n26344       play  2024-08-11  \n26345       play  2024-08-11  \n26346       play  2024-08-11  \n\n[22611 rows x 6 columns]",
      "text/html": "<div>\n<style scoped>\n    .dataframe tbody tr th:only-of-type {\n        vertical-align: middle;\n    }\n\n    .dataframe tbody tr th {\n        vertical-align: top;\n    }\n\n    .dataframe thead th {\n        text-align: right;\n    }\n</style>\n<table border=\"1\" class=\"dataframe\">\n  <thead>\n    <tr style=\"text-align: right;\">\n      <th></th>\n      <th>session_id</th>\n      <th>timestamp</th>\n      <th>user_id</th>\n      <th>track_id</th>\n      <th>event_type</th>\n      <th>date</th>\n    </tr>\n  </thead>\n  <tbody>\n    <tr>\n      <th>0</th>\n      <td>124</td>\n      <td>2024-07-13 15:55:37.000</td>\n      <td>101</td>\n      <td>4YPgTCGJWAlHQ5g6eWoM8r</td>\n      <td>play</td>\n      <td>2024-07-13</td>\n    </tr>\n    <tr>\n      <th>1</th>\n      <td>125</td>\n      <td>2024-06-20 06:31:23.547</td>\n      <td>101</td>\n      <td>4p8QcNkaq2FQj8uGJ7HEDK</td>\n      <td>play</td>\n      <td>2024-06-20</td>\n    </tr>\n    <tr>\n      <th>2</th>\n      <td>125</td>\n      <td>2024-06-20 06:35:43.814</td>\n      <td>101</td>\n      <td>4GKk1uNzpxIptBuaY97Dkj</td>\n      <td>play</td>\n      <td>2024-06-20</td>\n    </tr>\n    <tr>\n      <th>3</th>\n      <td>125</td>\n      <td>2024-06-20 06:39:13.270</td>\n      <td>101</td>\n      <td>4GKk1uNzpxIptBuaY97Dkj</td>\n      <td>like</td>\n      <td>2024-06-20</td>\n    </tr>\n    <tr>\n      <th>4</th>\n      <td>125</td>\n      <td>2024-06-20 06:40:43.481</td>\n      <td>101</td>\n      <td>0ZO2iSS12JTftv10cSCYf8</td>\n      <td>play</td>\n      <td>2024-06-20</td>\n    </tr>\n    <tr>\n      <th>...</th>\n      <td>...</td>\n      <td>...</td>\n      <td>...</td>\n      <td>...</td>\n      <td>...</td>\n      <td>...</td>\n    </tr>\n    <tr>\n      <th>26342</th>\n      <td>4755</td>\n      <td>2024-08-11 13:40:51.342</td>\n      <td>150</td>\n      <td>4COFVKhvXA3LecFReH6D2v</td>\n      <td>play</td>\n      <td>2024-08-11</td>\n    </tr>\n    <tr>\n      <th>26343</th>\n      <td>4755</td>\n      <td>2024-08-11 13:42:19.523</td>\n      <td>150</td>\n      <td>4COFVKhvXA3LecFReH6D2v</td>\n      <td>like</td>\n      <td>2024-08-11</td>\n    </tr>\n    <tr>\n      <th>26344</th>\n      <td>4755</td>\n      <td>2024-08-11 13:44:50.582</td>\n      <td>150</td>\n      <td>6vPAmoERUMRoTZaCCSWQ12</td>\n      <td>play</td>\n      <td>2024-08-11</td>\n    </tr>\n    <tr>\n      <th>26345</th>\n      <td>4755</td>\n      <td>2024-08-11 13:49:36.582</td>\n      <td>150</td>\n      <td>5A32KQZznC2HSqr9qzTl2N</td>\n      <td>play</td>\n      <td>2024-08-11</td>\n    </tr>\n    <tr>\n      <th>26346</th>\n      <td>4755</td>\n      <td>2024-08-11 13:54:51.169</td>\n      <td>150</td>\n      <td>3YkDslZvvMixTwgDId0aYB</td>\n      <td>play</td>\n      <td>2024-08-11</td>\n    </tr>\n  </tbody>\n</table>\n<p>22611 rows × 6 columns</p>\n</div>"
     },
     "execution_count": 46,
     "metadata": {},
     "output_type": "execute_result"
    }
   ],
   "source": [
    "filtered_sessions = sessions.dropna(subset = ['track_id'])\n",
    "filtered_sessions"
   ],
   "metadata": {
    "collapsed": false,
    "ExecuteTime": {
     "end_time": "2025-01-03T17:42:51.062475Z",
     "start_time": "2025-01-03T17:42:51.053057Z"
    }
   },
   "id": "8968f4c91a9b3fab",
   "execution_count": 46
  },
  {
   "cell_type": "code",
   "outputs": [],
   "source": [
    "events_data_df = pd.DataFrame()\n"
   ],
   "metadata": {
    "collapsed": false,
    "ExecuteTime": {
     "end_time": "2025-01-03T17:48:35.719013Z",
     "start_time": "2025-01-03T17:48:35.715757Z"
    }
   },
   "id": "d42a0c35a9778ad1",
   "execution_count": 56
  },
  {
   "cell_type": "code",
   "outputs": [],
   "source": [
    "events_data_df[\"event_type\"] = filtered_sessions['event_type']\n",
    "events_data_df['track_id'] = filtered_sessions['track_id']\n",
    "events_data_df[\"timestamp\"] = filtered_sessions[\"timestamp\"]"
   ],
   "metadata": {
    "collapsed": false,
    "ExecuteTime": {
     "end_time": "2025-01-03T17:48:35.900616Z",
     "start_time": "2025-01-03T17:48:35.891579Z"
    }
   },
   "id": "e865b9f031aa654a",
   "execution_count": 57
  },
  {
   "cell_type": "code",
   "outputs": [
    {
     "data": {
      "text/plain": "      event_type                track_id               timestamp\n0           play  4YPgTCGJWAlHQ5g6eWoM8r 2024-07-13 15:55:37.000\n1           play  4p8QcNkaq2FQj8uGJ7HEDK 2024-06-20 06:31:23.547\n2           play  4GKk1uNzpxIptBuaY97Dkj 2024-06-20 06:35:43.814\n3           like  4GKk1uNzpxIptBuaY97Dkj 2024-06-20 06:39:13.270\n4           play  0ZO2iSS12JTftv10cSCYf8 2024-06-20 06:40:43.481\n...          ...                     ...                     ...\n26342       play  4COFVKhvXA3LecFReH6D2v 2024-08-11 13:40:51.342\n26343       like  4COFVKhvXA3LecFReH6D2v 2024-08-11 13:42:19.523\n26344       play  6vPAmoERUMRoTZaCCSWQ12 2024-08-11 13:44:50.582\n26345       play  5A32KQZznC2HSqr9qzTl2N 2024-08-11 13:49:36.582\n26346       play  3YkDslZvvMixTwgDId0aYB 2024-08-11 13:54:51.169\n\n[22611 rows x 3 columns]",
      "text/html": "<div>\n<style scoped>\n    .dataframe tbody tr th:only-of-type {\n        vertical-align: middle;\n    }\n\n    .dataframe tbody tr th {\n        vertical-align: top;\n    }\n\n    .dataframe thead th {\n        text-align: right;\n    }\n</style>\n<table border=\"1\" class=\"dataframe\">\n  <thead>\n    <tr style=\"text-align: right;\">\n      <th></th>\n      <th>event_type</th>\n      <th>track_id</th>\n      <th>timestamp</th>\n    </tr>\n  </thead>\n  <tbody>\n    <tr>\n      <th>0</th>\n      <td>play</td>\n      <td>4YPgTCGJWAlHQ5g6eWoM8r</td>\n      <td>2024-07-13 15:55:37.000</td>\n    </tr>\n    <tr>\n      <th>1</th>\n      <td>play</td>\n      <td>4p8QcNkaq2FQj8uGJ7HEDK</td>\n      <td>2024-06-20 06:31:23.547</td>\n    </tr>\n    <tr>\n      <th>2</th>\n      <td>play</td>\n      <td>4GKk1uNzpxIptBuaY97Dkj</td>\n      <td>2024-06-20 06:35:43.814</td>\n    </tr>\n    <tr>\n      <th>3</th>\n      <td>like</td>\n      <td>4GKk1uNzpxIptBuaY97Dkj</td>\n      <td>2024-06-20 06:39:13.270</td>\n    </tr>\n    <tr>\n      <th>4</th>\n      <td>play</td>\n      <td>0ZO2iSS12JTftv10cSCYf8</td>\n      <td>2024-06-20 06:40:43.481</td>\n    </tr>\n    <tr>\n      <th>...</th>\n      <td>...</td>\n      <td>...</td>\n      <td>...</td>\n    </tr>\n    <tr>\n      <th>26342</th>\n      <td>play</td>\n      <td>4COFVKhvXA3LecFReH6D2v</td>\n      <td>2024-08-11 13:40:51.342</td>\n    </tr>\n    <tr>\n      <th>26343</th>\n      <td>like</td>\n      <td>4COFVKhvXA3LecFReH6D2v</td>\n      <td>2024-08-11 13:42:19.523</td>\n    </tr>\n    <tr>\n      <th>26344</th>\n      <td>play</td>\n      <td>6vPAmoERUMRoTZaCCSWQ12</td>\n      <td>2024-08-11 13:44:50.582</td>\n    </tr>\n    <tr>\n      <th>26345</th>\n      <td>play</td>\n      <td>5A32KQZznC2HSqr9qzTl2N</td>\n      <td>2024-08-11 13:49:36.582</td>\n    </tr>\n    <tr>\n      <th>26346</th>\n      <td>play</td>\n      <td>3YkDslZvvMixTwgDId0aYB</td>\n      <td>2024-08-11 13:54:51.169</td>\n    </tr>\n  </tbody>\n</table>\n<p>22611 rows × 3 columns</p>\n</div>"
     },
     "execution_count": 58,
     "metadata": {},
     "output_type": "execute_result"
    }
   ],
   "source": [
    "events_data_df"
   ],
   "metadata": {
    "collapsed": false,
    "ExecuteTime": {
     "end_time": "2025-01-03T17:48:36.046784Z",
     "start_time": "2025-01-03T17:48:36.041963Z"
    }
   },
   "id": "d24556ffaf870f97",
   "execution_count": 58
  },
  {
   "cell_type": "code",
   "outputs": [
    {
     "data": {
      "text/plain": "      event_type                track_id               timestamp  week_number  \\\n0           play  4YPgTCGJWAlHQ5g6eWoM8r 2024-07-13 15:55:37.000           33   \n1           play  4p8QcNkaq2FQj8uGJ7HEDK 2024-06-20 06:31:23.547           30   \n2           play  4GKk1uNzpxIptBuaY97Dkj 2024-06-20 06:35:43.814           30   \n3           like  4GKk1uNzpxIptBuaY97Dkj 2024-06-20 06:39:13.270           30   \n4           play  0ZO2iSS12JTftv10cSCYf8 2024-06-20 06:40:43.481           30   \n...          ...                     ...                     ...          ...   \n26342       play  4COFVKhvXA3LecFReH6D2v 2024-08-11 13:40:51.342           37   \n26343       like  4COFVKhvXA3LecFReH6D2v 2024-08-11 13:42:19.523           37   \n26344       play  6vPAmoERUMRoTZaCCSWQ12 2024-08-11 13:44:50.582           37   \n26345       play  5A32KQZznC2HSqr9qzTl2N 2024-08-11 13:49:36.582           37   \n26346       play  3YkDslZvvMixTwgDId0aYB 2024-08-11 13:54:51.169           37   \n\n                            week_range  \n0      week 33 2024-07-10 - 2024-07-17  \n1      week 30 2024-06-19 - 2024-06-26  \n2      week 30 2024-06-19 - 2024-06-26  \n3      week 30 2024-06-19 - 2024-06-26  \n4      week 30 2024-06-19 - 2024-06-26  \n...                                ...  \n26342  week 37 2024-08-07 - 2024-08-14  \n26343  week 37 2024-08-07 - 2024-08-14  \n26344  week 37 2024-08-07 - 2024-08-14  \n26345  week 37 2024-08-07 - 2024-08-14  \n26346  week 37 2024-08-07 - 2024-08-14  \n\n[22611 rows x 5 columns]",
      "text/html": "<div>\n<style scoped>\n    .dataframe tbody tr th:only-of-type {\n        vertical-align: middle;\n    }\n\n    .dataframe tbody tr th {\n        vertical-align: top;\n    }\n\n    .dataframe thead th {\n        text-align: right;\n    }\n</style>\n<table border=\"1\" class=\"dataframe\">\n  <thead>\n    <tr style=\"text-align: right;\">\n      <th></th>\n      <th>event_type</th>\n      <th>track_id</th>\n      <th>timestamp</th>\n      <th>week_number</th>\n      <th>week_range</th>\n    </tr>\n  </thead>\n  <tbody>\n    <tr>\n      <th>0</th>\n      <td>play</td>\n      <td>4YPgTCGJWAlHQ5g6eWoM8r</td>\n      <td>2024-07-13 15:55:37.000</td>\n      <td>33</td>\n      <td>week 33 2024-07-10 - 2024-07-17</td>\n    </tr>\n    <tr>\n      <th>1</th>\n      <td>play</td>\n      <td>4p8QcNkaq2FQj8uGJ7HEDK</td>\n      <td>2024-06-20 06:31:23.547</td>\n      <td>30</td>\n      <td>week 30 2024-06-19 - 2024-06-26</td>\n    </tr>\n    <tr>\n      <th>2</th>\n      <td>play</td>\n      <td>4GKk1uNzpxIptBuaY97Dkj</td>\n      <td>2024-06-20 06:35:43.814</td>\n      <td>30</td>\n      <td>week 30 2024-06-19 - 2024-06-26</td>\n    </tr>\n    <tr>\n      <th>3</th>\n      <td>like</td>\n      <td>4GKk1uNzpxIptBuaY97Dkj</td>\n      <td>2024-06-20 06:39:13.270</td>\n      <td>30</td>\n      <td>week 30 2024-06-19 - 2024-06-26</td>\n    </tr>\n    <tr>\n      <th>4</th>\n      <td>play</td>\n      <td>0ZO2iSS12JTftv10cSCYf8</td>\n      <td>2024-06-20 06:40:43.481</td>\n      <td>30</td>\n      <td>week 30 2024-06-19 - 2024-06-26</td>\n    </tr>\n    <tr>\n      <th>...</th>\n      <td>...</td>\n      <td>...</td>\n      <td>...</td>\n      <td>...</td>\n      <td>...</td>\n    </tr>\n    <tr>\n      <th>26342</th>\n      <td>play</td>\n      <td>4COFVKhvXA3LecFReH6D2v</td>\n      <td>2024-08-11 13:40:51.342</td>\n      <td>37</td>\n      <td>week 37 2024-08-07 - 2024-08-14</td>\n    </tr>\n    <tr>\n      <th>26343</th>\n      <td>like</td>\n      <td>4COFVKhvXA3LecFReH6D2v</td>\n      <td>2024-08-11 13:42:19.523</td>\n      <td>37</td>\n      <td>week 37 2024-08-07 - 2024-08-14</td>\n    </tr>\n    <tr>\n      <th>26344</th>\n      <td>play</td>\n      <td>6vPAmoERUMRoTZaCCSWQ12</td>\n      <td>2024-08-11 13:44:50.582</td>\n      <td>37</td>\n      <td>week 37 2024-08-07 - 2024-08-14</td>\n    </tr>\n    <tr>\n      <th>26345</th>\n      <td>play</td>\n      <td>5A32KQZznC2HSqr9qzTl2N</td>\n      <td>2024-08-11 13:49:36.582</td>\n      <td>37</td>\n      <td>week 37 2024-08-07 - 2024-08-14</td>\n    </tr>\n    <tr>\n      <th>26346</th>\n      <td>play</td>\n      <td>3YkDslZvvMixTwgDId0aYB</td>\n      <td>2024-08-11 13:54:51.169</td>\n      <td>37</td>\n      <td>week 37 2024-08-07 - 2024-08-14</td>\n    </tr>\n  </tbody>\n</table>\n<p>22611 rows × 5 columns</p>\n</div>"
     },
     "execution_count": 59,
     "metadata": {},
     "output_type": "execute_result"
    }
   ],
   "source": [
    "events_data_df['timestamp'] = pd.to_datetime(events_data_df['timestamp'])\n",
    "start_date = events_data_df['timestamp'].min()\n",
    "events_data_df['week_number'] = ((events_data_df['timestamp'] - start_date).dt.days // 7) + 1\n",
    "events_data_df['week_range'] = events_data_df['week_number'].apply(\n",
    "    lambda x: f\"week {x} {start_date + pd.Timedelta(weeks=x-1):%Y-%m-%d} - {start_date + pd.Timedelta(weeks=x):%Y-%m-%d}\"\n",
    ")\n",
    "events_data_df\n"
   ],
   "metadata": {
    "collapsed": false,
    "ExecuteTime": {
     "end_time": "2025-01-03T17:48:36.473302Z",
     "start_time": "2025-01-03T17:48:36.252902Z"
    }
   },
   "id": "c92793c2e99a487b",
   "execution_count": 59
  },
  {
   "cell_type": "code",
   "outputs": [
    {
     "data": {
      "text/plain": "      event_type                track_id               timestamp  week_number  \\\n0           play  4YPgTCGJWAlHQ5g6eWoM8r 2024-07-13 15:55:37.000           33   \n1           play  4p8QcNkaq2FQj8uGJ7HEDK 2024-06-20 06:31:23.547           30   \n2           play  4GKk1uNzpxIptBuaY97Dkj 2024-06-20 06:35:43.814           30   \n3           like  4GKk1uNzpxIptBuaY97Dkj 2024-06-20 06:39:13.270           30   \n4           play  0ZO2iSS12JTftv10cSCYf8 2024-06-20 06:40:43.481           30   \n...          ...                     ...                     ...          ...   \n26342       play  4COFVKhvXA3LecFReH6D2v 2024-08-11 13:40:51.342           37   \n26343       like  4COFVKhvXA3LecFReH6D2v 2024-08-11 13:42:19.523           37   \n26344       play  6vPAmoERUMRoTZaCCSWQ12 2024-08-11 13:44:50.582           37   \n26345       play  5A32KQZznC2HSqr9qzTl2N 2024-08-11 13:49:36.582           37   \n26346       play  3YkDslZvvMixTwgDId0aYB 2024-08-11 13:54:51.169           37   \n\n                            week_range  \n0      week 33 2024-07-10 - 2024-07-17  \n1      week 30 2024-06-19 - 2024-06-26  \n2      week 30 2024-06-19 - 2024-06-26  \n3      week 30 2024-06-19 - 2024-06-26  \n4      week 30 2024-06-19 - 2024-06-26  \n...                                ...  \n26342  week 37 2024-08-07 - 2024-08-14  \n26343  week 37 2024-08-07 - 2024-08-14  \n26344  week 37 2024-08-07 - 2024-08-14  \n26345  week 37 2024-08-07 - 2024-08-14  \n26346  week 37 2024-08-07 - 2024-08-14  \n\n[22611 rows x 5 columns]",
      "text/html": "<div>\n<style scoped>\n    .dataframe tbody tr th:only-of-type {\n        vertical-align: middle;\n    }\n\n    .dataframe tbody tr th {\n        vertical-align: top;\n    }\n\n    .dataframe thead th {\n        text-align: right;\n    }\n</style>\n<table border=\"1\" class=\"dataframe\">\n  <thead>\n    <tr style=\"text-align: right;\">\n      <th></th>\n      <th>event_type</th>\n      <th>track_id</th>\n      <th>timestamp</th>\n      <th>week_number</th>\n      <th>week_range</th>\n    </tr>\n  </thead>\n  <tbody>\n    <tr>\n      <th>0</th>\n      <td>play</td>\n      <td>4YPgTCGJWAlHQ5g6eWoM8r</td>\n      <td>2024-07-13 15:55:37.000</td>\n      <td>33</td>\n      <td>week 33 2024-07-10 - 2024-07-17</td>\n    </tr>\n    <tr>\n      <th>1</th>\n      <td>play</td>\n      <td>4p8QcNkaq2FQj8uGJ7HEDK</td>\n      <td>2024-06-20 06:31:23.547</td>\n      <td>30</td>\n      <td>week 30 2024-06-19 - 2024-06-26</td>\n    </tr>\n    <tr>\n      <th>2</th>\n      <td>play</td>\n      <td>4GKk1uNzpxIptBuaY97Dkj</td>\n      <td>2024-06-20 06:35:43.814</td>\n      <td>30</td>\n      <td>week 30 2024-06-19 - 2024-06-26</td>\n    </tr>\n    <tr>\n      <th>3</th>\n      <td>like</td>\n      <td>4GKk1uNzpxIptBuaY97Dkj</td>\n      <td>2024-06-20 06:39:13.270</td>\n      <td>30</td>\n      <td>week 30 2024-06-19 - 2024-06-26</td>\n    </tr>\n    <tr>\n      <th>4</th>\n      <td>play</td>\n      <td>0ZO2iSS12JTftv10cSCYf8</td>\n      <td>2024-06-20 06:40:43.481</td>\n      <td>30</td>\n      <td>week 30 2024-06-19 - 2024-06-26</td>\n    </tr>\n    <tr>\n      <th>...</th>\n      <td>...</td>\n      <td>...</td>\n      <td>...</td>\n      <td>...</td>\n      <td>...</td>\n    </tr>\n    <tr>\n      <th>26342</th>\n      <td>play</td>\n      <td>4COFVKhvXA3LecFReH6D2v</td>\n      <td>2024-08-11 13:40:51.342</td>\n      <td>37</td>\n      <td>week 37 2024-08-07 - 2024-08-14</td>\n    </tr>\n    <tr>\n      <th>26343</th>\n      <td>like</td>\n      <td>4COFVKhvXA3LecFReH6D2v</td>\n      <td>2024-08-11 13:42:19.523</td>\n      <td>37</td>\n      <td>week 37 2024-08-07 - 2024-08-14</td>\n    </tr>\n    <tr>\n      <th>26344</th>\n      <td>play</td>\n      <td>6vPAmoERUMRoTZaCCSWQ12</td>\n      <td>2024-08-11 13:44:50.582</td>\n      <td>37</td>\n      <td>week 37 2024-08-07 - 2024-08-14</td>\n    </tr>\n    <tr>\n      <th>26345</th>\n      <td>play</td>\n      <td>5A32KQZznC2HSqr9qzTl2N</td>\n      <td>2024-08-11 13:49:36.582</td>\n      <td>37</td>\n      <td>week 37 2024-08-07 - 2024-08-14</td>\n    </tr>\n    <tr>\n      <th>26346</th>\n      <td>play</td>\n      <td>3YkDslZvvMixTwgDId0aYB</td>\n      <td>2024-08-11 13:54:51.169</td>\n      <td>37</td>\n      <td>week 37 2024-08-07 - 2024-08-14</td>\n    </tr>\n  </tbody>\n</table>\n<p>22611 rows × 5 columns</p>\n</div>"
     },
     "execution_count": 60,
     "metadata": {},
     "output_type": "execute_result"
    }
   ],
   "source": [
    "events_data_df"
   ],
   "metadata": {
    "collapsed": false,
    "ExecuteTime": {
     "end_time": "2025-01-03T17:48:36.732280Z",
     "start_time": "2025-01-03T17:48:36.727158Z"
    }
   },
   "id": "8c46e16e8282d22d",
   "execution_count": 60
  },
  {
   "cell_type": "code",
   "outputs": [],
   "source": [
    "event_counts = events_data_df.groupby(['track_id', 'event_type', 'week_number']).size().unstack(level='event_type', fill_value=0)    .reset_index()\n",
    "event_counts"
   ],
   "metadata": {
    "collapsed": false
   },
   "id": "1cbf6b00afdbed1"
  },
  {
   "cell_type": "code",
   "outputs": [],
   "source": [
    "max_week = max(event_counts['week_number'])"
   ],
   "metadata": {
    "collapsed": false,
    "ExecuteTime": {
     "end_time": "2025-01-03T17:55:48.657736Z",
     "start_time": "2025-01-03T17:55:48.652964Z"
    }
   },
   "id": "f1d421f3bcac13e4",
   "execution_count": 71
  },
  {
   "cell_type": "code",
   "outputs": [],
   "source": [
    "all_weeks = pd.DataFrame(\n",
    "    [(track_id, week) for track_id in event_counts['track_id'].unique() for week in range(max_week+1)],\n",
    "    columns=['track_id', 'week_number']\n",
    ")\n"
   ],
   "metadata": {
    "collapsed": false,
    "ExecuteTime": {
     "end_time": "2025-01-03T17:55:53.354590Z",
     "start_time": "2025-01-03T17:55:53.189345Z"
    }
   },
   "id": "8a2efebbadb7be21",
   "execution_count": 72
  },
  {
   "cell_type": "code",
   "outputs": [
    {
     "data": {
      "text/plain": "                      track_id  week_number\n0       000xYdQfIZ4pDmBGzQalKU            0\n1       000xYdQfIZ4pDmBGzQalKU            1\n2       000xYdQfIZ4pDmBGzQalKU            2\n3       000xYdQfIZ4pDmBGzQalKU            3\n4       000xYdQfIZ4pDmBGzQalKU            4\n...                        ...          ...\n565876  7zycSpvjDcqh6YT1FEl2kY           48\n565877  7zycSpvjDcqh6YT1FEl2kY           49\n565878  7zycSpvjDcqh6YT1FEl2kY           50\n565879  7zycSpvjDcqh6YT1FEl2kY           51\n565880  7zycSpvjDcqh6YT1FEl2kY           52\n\n[565881 rows x 2 columns]",
      "text/html": "<div>\n<style scoped>\n    .dataframe tbody tr th:only-of-type {\n        vertical-align: middle;\n    }\n\n    .dataframe tbody tr th {\n        vertical-align: top;\n    }\n\n    .dataframe thead th {\n        text-align: right;\n    }\n</style>\n<table border=\"1\" class=\"dataframe\">\n  <thead>\n    <tr style=\"text-align: right;\">\n      <th></th>\n      <th>track_id</th>\n      <th>week_number</th>\n    </tr>\n  </thead>\n  <tbody>\n    <tr>\n      <th>0</th>\n      <td>000xYdQfIZ4pDmBGzQalKU</td>\n      <td>0</td>\n    </tr>\n    <tr>\n      <th>1</th>\n      <td>000xYdQfIZ4pDmBGzQalKU</td>\n      <td>1</td>\n    </tr>\n    <tr>\n      <th>2</th>\n      <td>000xYdQfIZ4pDmBGzQalKU</td>\n      <td>2</td>\n    </tr>\n    <tr>\n      <th>3</th>\n      <td>000xYdQfIZ4pDmBGzQalKU</td>\n      <td>3</td>\n    </tr>\n    <tr>\n      <th>4</th>\n      <td>000xYdQfIZ4pDmBGzQalKU</td>\n      <td>4</td>\n    </tr>\n    <tr>\n      <th>...</th>\n      <td>...</td>\n      <td>...</td>\n    </tr>\n    <tr>\n      <th>565876</th>\n      <td>7zycSpvjDcqh6YT1FEl2kY</td>\n      <td>48</td>\n    </tr>\n    <tr>\n      <th>565877</th>\n      <td>7zycSpvjDcqh6YT1FEl2kY</td>\n      <td>49</td>\n    </tr>\n    <tr>\n      <th>565878</th>\n      <td>7zycSpvjDcqh6YT1FEl2kY</td>\n      <td>50</td>\n    </tr>\n    <tr>\n      <th>565879</th>\n      <td>7zycSpvjDcqh6YT1FEl2kY</td>\n      <td>51</td>\n    </tr>\n    <tr>\n      <th>565880</th>\n      <td>7zycSpvjDcqh6YT1FEl2kY</td>\n      <td>52</td>\n    </tr>\n  </tbody>\n</table>\n<p>565881 rows × 2 columns</p>\n</div>"
     },
     "execution_count": 73,
     "metadata": {},
     "output_type": "execute_result"
    }
   ],
   "source": [
    "all_weeks"
   ],
   "metadata": {
    "collapsed": false,
    "ExecuteTime": {
     "end_time": "2025-01-03T17:55:54.519258Z",
     "start_time": "2025-01-03T17:55:54.514410Z"
    }
   },
   "id": "a89494c9ac613f90",
   "execution_count": 73
  },
  {
   "cell_type": "code",
   "outputs": [
    {
     "data": {
      "text/plain": "event_type                track_id  week_number  like_count  play_count  \\\n0           000xYdQfIZ4pDmBGzQalKU            6           0           1   \n1           000xYdQfIZ4pDmBGzQalKU           33           0           1   \n2           003FTlCpBTM4eSqYSWPv4H           28           0           1   \n3           003vvx7Niy0yvhvHt4a68B           26           0           1   \n4           005Dlt8Xaz3DkaXiRJgdiS           47           0           1   \n...                            ...          ...         ...         ...   \n14350       7zscdQe9CjzXnqT3P1Ey7K           43           0           1   \n14351       7zscdQe9CjzXnqT3P1Ey7K           49           1           1   \n14352       7zuwr7YqqpveNtxlKe1vn6           39           1           1   \n14353       7zv5oGRQoJX09QM3pkvI1w           46           0           1   \n14354       7zycSpvjDcqh6YT1FEl2kY           18           0           1   \n\nevent_type  skip_count  \n0                    0  \n1                    0  \n2                    0  \n3                    0  \n4                    0  \n...                ...  \n14350                0  \n14351                0  \n14352                0  \n14353                0  \n14354                0  \n\n[14355 rows x 5 columns]",
      "text/html": "<div>\n<style scoped>\n    .dataframe tbody tr th:only-of-type {\n        vertical-align: middle;\n    }\n\n    .dataframe tbody tr th {\n        vertical-align: top;\n    }\n\n    .dataframe thead th {\n        text-align: right;\n    }\n</style>\n<table border=\"1\" class=\"dataframe\">\n  <thead>\n    <tr style=\"text-align: right;\">\n      <th>event_type</th>\n      <th>track_id</th>\n      <th>week_number</th>\n      <th>like_count</th>\n      <th>play_count</th>\n      <th>skip_count</th>\n    </tr>\n  </thead>\n  <tbody>\n    <tr>\n      <th>0</th>\n      <td>000xYdQfIZ4pDmBGzQalKU</td>\n      <td>6</td>\n      <td>0</td>\n      <td>1</td>\n      <td>0</td>\n    </tr>\n    <tr>\n      <th>1</th>\n      <td>000xYdQfIZ4pDmBGzQalKU</td>\n      <td>33</td>\n      <td>0</td>\n      <td>1</td>\n      <td>0</td>\n    </tr>\n    <tr>\n      <th>2</th>\n      <td>003FTlCpBTM4eSqYSWPv4H</td>\n      <td>28</td>\n      <td>0</td>\n      <td>1</td>\n      <td>0</td>\n    </tr>\n    <tr>\n      <th>3</th>\n      <td>003vvx7Niy0yvhvHt4a68B</td>\n      <td>26</td>\n      <td>0</td>\n      <td>1</td>\n      <td>0</td>\n    </tr>\n    <tr>\n      <th>4</th>\n      <td>005Dlt8Xaz3DkaXiRJgdiS</td>\n      <td>47</td>\n      <td>0</td>\n      <td>1</td>\n      <td>0</td>\n    </tr>\n    <tr>\n      <th>...</th>\n      <td>...</td>\n      <td>...</td>\n      <td>...</td>\n      <td>...</td>\n      <td>...</td>\n    </tr>\n    <tr>\n      <th>14350</th>\n      <td>7zscdQe9CjzXnqT3P1Ey7K</td>\n      <td>43</td>\n      <td>0</td>\n      <td>1</td>\n      <td>0</td>\n    </tr>\n    <tr>\n      <th>14351</th>\n      <td>7zscdQe9CjzXnqT3P1Ey7K</td>\n      <td>49</td>\n      <td>1</td>\n      <td>1</td>\n      <td>0</td>\n    </tr>\n    <tr>\n      <th>14352</th>\n      <td>7zuwr7YqqpveNtxlKe1vn6</td>\n      <td>39</td>\n      <td>1</td>\n      <td>1</td>\n      <td>0</td>\n    </tr>\n    <tr>\n      <th>14353</th>\n      <td>7zv5oGRQoJX09QM3pkvI1w</td>\n      <td>46</td>\n      <td>0</td>\n      <td>1</td>\n      <td>0</td>\n    </tr>\n    <tr>\n      <th>14354</th>\n      <td>7zycSpvjDcqh6YT1FEl2kY</td>\n      <td>18</td>\n      <td>0</td>\n      <td>1</td>\n      <td>0</td>\n    </tr>\n  </tbody>\n</table>\n<p>14355 rows × 5 columns</p>\n</div>"
     },
     "execution_count": 74,
     "metadata": {},
     "output_type": "execute_result"
    }
   ],
   "source": [
    "event_counts"
   ],
   "metadata": {
    "collapsed": false,
    "ExecuteTime": {
     "end_time": "2025-01-03T17:56:30.790076Z",
     "start_time": "2025-01-03T17:56:30.779275Z"
    }
   },
   "id": "c9d5101424b92c23",
   "execution_count": 74
  },
  {
   "cell_type": "code",
   "outputs": [],
   "source": [
    "event_counts_complete = pd.merge(\n",
    "    all_weeks,\n",
    "    event_counts,\n",
    "    on=['track_id', 'week_number'],\n",
    "    how='left'\n",
    ")\n"
   ],
   "metadata": {
    "collapsed": false,
    "ExecuteTime": {
     "end_time": "2025-01-03T17:56:44.040958Z",
     "start_time": "2025-01-03T17:56:43.973112Z"
    }
   },
   "id": "67d4103a6c6185b0",
   "execution_count": 75
  },
  {
   "cell_type": "code",
   "outputs": [
    {
     "data": {
      "text/plain": "                      track_id  week_number  like_count  play_count  \\\n0       000xYdQfIZ4pDmBGzQalKU            0         NaN         NaN   \n1       000xYdQfIZ4pDmBGzQalKU            1         NaN         NaN   \n2       000xYdQfIZ4pDmBGzQalKU            2         NaN         NaN   \n3       000xYdQfIZ4pDmBGzQalKU            3         NaN         NaN   \n4       000xYdQfIZ4pDmBGzQalKU            4         NaN         NaN   \n...                        ...          ...         ...         ...   \n565876  7zycSpvjDcqh6YT1FEl2kY           48         NaN         NaN   \n565877  7zycSpvjDcqh6YT1FEl2kY           49         NaN         NaN   \n565878  7zycSpvjDcqh6YT1FEl2kY           50         NaN         NaN   \n565879  7zycSpvjDcqh6YT1FEl2kY           51         NaN         NaN   \n565880  7zycSpvjDcqh6YT1FEl2kY           52         NaN         NaN   \n\n        skip_count  \n0              NaN  \n1              NaN  \n2              NaN  \n3              NaN  \n4              NaN  \n...            ...  \n565876         NaN  \n565877         NaN  \n565878         NaN  \n565879         NaN  \n565880         NaN  \n\n[565881 rows x 5 columns]",
      "text/html": "<div>\n<style scoped>\n    .dataframe tbody tr th:only-of-type {\n        vertical-align: middle;\n    }\n\n    .dataframe tbody tr th {\n        vertical-align: top;\n    }\n\n    .dataframe thead th {\n        text-align: right;\n    }\n</style>\n<table border=\"1\" class=\"dataframe\">\n  <thead>\n    <tr style=\"text-align: right;\">\n      <th></th>\n      <th>track_id</th>\n      <th>week_number</th>\n      <th>like_count</th>\n      <th>play_count</th>\n      <th>skip_count</th>\n    </tr>\n  </thead>\n  <tbody>\n    <tr>\n      <th>0</th>\n      <td>000xYdQfIZ4pDmBGzQalKU</td>\n      <td>0</td>\n      <td>NaN</td>\n      <td>NaN</td>\n      <td>NaN</td>\n    </tr>\n    <tr>\n      <th>1</th>\n      <td>000xYdQfIZ4pDmBGzQalKU</td>\n      <td>1</td>\n      <td>NaN</td>\n      <td>NaN</td>\n      <td>NaN</td>\n    </tr>\n    <tr>\n      <th>2</th>\n      <td>000xYdQfIZ4pDmBGzQalKU</td>\n      <td>2</td>\n      <td>NaN</td>\n      <td>NaN</td>\n      <td>NaN</td>\n    </tr>\n    <tr>\n      <th>3</th>\n      <td>000xYdQfIZ4pDmBGzQalKU</td>\n      <td>3</td>\n      <td>NaN</td>\n      <td>NaN</td>\n      <td>NaN</td>\n    </tr>\n    <tr>\n      <th>4</th>\n      <td>000xYdQfIZ4pDmBGzQalKU</td>\n      <td>4</td>\n      <td>NaN</td>\n      <td>NaN</td>\n      <td>NaN</td>\n    </tr>\n    <tr>\n      <th>...</th>\n      <td>...</td>\n      <td>...</td>\n      <td>...</td>\n      <td>...</td>\n      <td>...</td>\n    </tr>\n    <tr>\n      <th>565876</th>\n      <td>7zycSpvjDcqh6YT1FEl2kY</td>\n      <td>48</td>\n      <td>NaN</td>\n      <td>NaN</td>\n      <td>NaN</td>\n    </tr>\n    <tr>\n      <th>565877</th>\n      <td>7zycSpvjDcqh6YT1FEl2kY</td>\n      <td>49</td>\n      <td>NaN</td>\n      <td>NaN</td>\n      <td>NaN</td>\n    </tr>\n    <tr>\n      <th>565878</th>\n      <td>7zycSpvjDcqh6YT1FEl2kY</td>\n      <td>50</td>\n      <td>NaN</td>\n      <td>NaN</td>\n      <td>NaN</td>\n    </tr>\n    <tr>\n      <th>565879</th>\n      <td>7zycSpvjDcqh6YT1FEl2kY</td>\n      <td>51</td>\n      <td>NaN</td>\n      <td>NaN</td>\n      <td>NaN</td>\n    </tr>\n    <tr>\n      <th>565880</th>\n      <td>7zycSpvjDcqh6YT1FEl2kY</td>\n      <td>52</td>\n      <td>NaN</td>\n      <td>NaN</td>\n      <td>NaN</td>\n    </tr>\n  </tbody>\n</table>\n<p>565881 rows × 5 columns</p>\n</div>"
     },
     "execution_count": 76,
     "metadata": {},
     "output_type": "execute_result"
    }
   ],
   "source": [
    "event_counts_complete"
   ],
   "metadata": {
    "collapsed": false,
    "ExecuteTime": {
     "end_time": "2025-01-03T17:56:47.730274Z",
     "start_time": "2025-01-03T17:56:47.725380Z"
    }
   },
   "id": "5b38f0e2a050342f",
   "execution_count": 76
  },
  {
   "cell_type": "code",
   "outputs": [],
   "source": [
    "event_counts_complete.fillna(0, inplace=True)"
   ],
   "metadata": {
    "collapsed": false,
    "ExecuteTime": {
     "end_time": "2025-01-03T17:56:58.179444Z",
     "start_time": "2025-01-03T17:56:58.149202Z"
    }
   },
   "id": "fefc4e3927f6bd1b",
   "execution_count": 77
  },
  {
   "cell_type": "code",
   "outputs": [
    {
     "data": {
      "text/plain": "                      track_id  week_number  like_count  play_count  \\\n0       000xYdQfIZ4pDmBGzQalKU            0         0.0         0.0   \n1       000xYdQfIZ4pDmBGzQalKU            1         0.0         0.0   \n2       000xYdQfIZ4pDmBGzQalKU            2         0.0         0.0   \n3       000xYdQfIZ4pDmBGzQalKU            3         0.0         0.0   \n4       000xYdQfIZ4pDmBGzQalKU            4         0.0         0.0   \n...                        ...          ...         ...         ...   \n565876  7zycSpvjDcqh6YT1FEl2kY           48         0.0         0.0   \n565877  7zycSpvjDcqh6YT1FEl2kY           49         0.0         0.0   \n565878  7zycSpvjDcqh6YT1FEl2kY           50         0.0         0.0   \n565879  7zycSpvjDcqh6YT1FEl2kY           51         0.0         0.0   \n565880  7zycSpvjDcqh6YT1FEl2kY           52         0.0         0.0   \n\n        skip_count  \n0              0.0  \n1              0.0  \n2              0.0  \n3              0.0  \n4              0.0  \n...            ...  \n565876         0.0  \n565877         0.0  \n565878         0.0  \n565879         0.0  \n565880         0.0  \n\n[565881 rows x 5 columns]",
      "text/html": "<div>\n<style scoped>\n    .dataframe tbody tr th:only-of-type {\n        vertical-align: middle;\n    }\n\n    .dataframe tbody tr th {\n        vertical-align: top;\n    }\n\n    .dataframe thead th {\n        text-align: right;\n    }\n</style>\n<table border=\"1\" class=\"dataframe\">\n  <thead>\n    <tr style=\"text-align: right;\">\n      <th></th>\n      <th>track_id</th>\n      <th>week_number</th>\n      <th>like_count</th>\n      <th>play_count</th>\n      <th>skip_count</th>\n    </tr>\n  </thead>\n  <tbody>\n    <tr>\n      <th>0</th>\n      <td>000xYdQfIZ4pDmBGzQalKU</td>\n      <td>0</td>\n      <td>0.0</td>\n      <td>0.0</td>\n      <td>0.0</td>\n    </tr>\n    <tr>\n      <th>1</th>\n      <td>000xYdQfIZ4pDmBGzQalKU</td>\n      <td>1</td>\n      <td>0.0</td>\n      <td>0.0</td>\n      <td>0.0</td>\n    </tr>\n    <tr>\n      <th>2</th>\n      <td>000xYdQfIZ4pDmBGzQalKU</td>\n      <td>2</td>\n      <td>0.0</td>\n      <td>0.0</td>\n      <td>0.0</td>\n    </tr>\n    <tr>\n      <th>3</th>\n      <td>000xYdQfIZ4pDmBGzQalKU</td>\n      <td>3</td>\n      <td>0.0</td>\n      <td>0.0</td>\n      <td>0.0</td>\n    </tr>\n    <tr>\n      <th>4</th>\n      <td>000xYdQfIZ4pDmBGzQalKU</td>\n      <td>4</td>\n      <td>0.0</td>\n      <td>0.0</td>\n      <td>0.0</td>\n    </tr>\n    <tr>\n      <th>...</th>\n      <td>...</td>\n      <td>...</td>\n      <td>...</td>\n      <td>...</td>\n      <td>...</td>\n    </tr>\n    <tr>\n      <th>565876</th>\n      <td>7zycSpvjDcqh6YT1FEl2kY</td>\n      <td>48</td>\n      <td>0.0</td>\n      <td>0.0</td>\n      <td>0.0</td>\n    </tr>\n    <tr>\n      <th>565877</th>\n      <td>7zycSpvjDcqh6YT1FEl2kY</td>\n      <td>49</td>\n      <td>0.0</td>\n      <td>0.0</td>\n      <td>0.0</td>\n    </tr>\n    <tr>\n      <th>565878</th>\n      <td>7zycSpvjDcqh6YT1FEl2kY</td>\n      <td>50</td>\n      <td>0.0</td>\n      <td>0.0</td>\n      <td>0.0</td>\n    </tr>\n    <tr>\n      <th>565879</th>\n      <td>7zycSpvjDcqh6YT1FEl2kY</td>\n      <td>51</td>\n      <td>0.0</td>\n      <td>0.0</td>\n      <td>0.0</td>\n    </tr>\n    <tr>\n      <th>565880</th>\n      <td>7zycSpvjDcqh6YT1FEl2kY</td>\n      <td>52</td>\n      <td>0.0</td>\n      <td>0.0</td>\n      <td>0.0</td>\n    </tr>\n  </tbody>\n</table>\n<p>565881 rows × 5 columns</p>\n</div>"
     },
     "execution_count": 78,
     "metadata": {},
     "output_type": "execute_result"
    }
   ],
   "source": [
    "event_counts_complete\n"
   ],
   "metadata": {
    "collapsed": false,
    "ExecuteTime": {
     "end_time": "2025-01-03T17:57:10.039783Z",
     "start_time": "2025-01-03T17:57:10.031187Z"
    }
   },
   "id": "c1d85fb7dfc93bae",
   "execution_count": 78
  },
  {
   "cell_type": "code",
   "outputs": [],
   "source": [
    "for col in event_counts.columns[2:]:\n",
    "    event_counts_complete[col] = event_counts_complete[col].astype(int)"
   ],
   "metadata": {
    "collapsed": false,
    "ExecuteTime": {
     "end_time": "2025-01-03T17:57:26.349847Z",
     "start_time": "2025-01-03T17:57:26.319629Z"
    }
   },
   "id": "395e1140dd295be4",
   "execution_count": 79
  },
  {
   "cell_type": "code",
   "outputs": [
    {
     "data": {
      "text/plain": "                      track_id  week_number  like_count  play_count  \\\n0       000xYdQfIZ4pDmBGzQalKU            0           0           0   \n1       000xYdQfIZ4pDmBGzQalKU            1           0           0   \n2       000xYdQfIZ4pDmBGzQalKU            2           0           0   \n3       000xYdQfIZ4pDmBGzQalKU            3           0           0   \n4       000xYdQfIZ4pDmBGzQalKU            4           0           0   \n...                        ...          ...         ...         ...   \n565876  7zycSpvjDcqh6YT1FEl2kY           48           0           0   \n565877  7zycSpvjDcqh6YT1FEl2kY           49           0           0   \n565878  7zycSpvjDcqh6YT1FEl2kY           50           0           0   \n565879  7zycSpvjDcqh6YT1FEl2kY           51           0           0   \n565880  7zycSpvjDcqh6YT1FEl2kY           52           0           0   \n\n        skip_count  \n0                0  \n1                0  \n2                0  \n3                0  \n4                0  \n...            ...  \n565876           0  \n565877           0  \n565878           0  \n565879           0  \n565880           0  \n\n[565881 rows x 5 columns]",
      "text/html": "<div>\n<style scoped>\n    .dataframe tbody tr th:only-of-type {\n        vertical-align: middle;\n    }\n\n    .dataframe tbody tr th {\n        vertical-align: top;\n    }\n\n    .dataframe thead th {\n        text-align: right;\n    }\n</style>\n<table border=\"1\" class=\"dataframe\">\n  <thead>\n    <tr style=\"text-align: right;\">\n      <th></th>\n      <th>track_id</th>\n      <th>week_number</th>\n      <th>like_count</th>\n      <th>play_count</th>\n      <th>skip_count</th>\n    </tr>\n  </thead>\n  <tbody>\n    <tr>\n      <th>0</th>\n      <td>000xYdQfIZ4pDmBGzQalKU</td>\n      <td>0</td>\n      <td>0</td>\n      <td>0</td>\n      <td>0</td>\n    </tr>\n    <tr>\n      <th>1</th>\n      <td>000xYdQfIZ4pDmBGzQalKU</td>\n      <td>1</td>\n      <td>0</td>\n      <td>0</td>\n      <td>0</td>\n    </tr>\n    <tr>\n      <th>2</th>\n      <td>000xYdQfIZ4pDmBGzQalKU</td>\n      <td>2</td>\n      <td>0</td>\n      <td>0</td>\n      <td>0</td>\n    </tr>\n    <tr>\n      <th>3</th>\n      <td>000xYdQfIZ4pDmBGzQalKU</td>\n      <td>3</td>\n      <td>0</td>\n      <td>0</td>\n      <td>0</td>\n    </tr>\n    <tr>\n      <th>4</th>\n      <td>000xYdQfIZ4pDmBGzQalKU</td>\n      <td>4</td>\n      <td>0</td>\n      <td>0</td>\n      <td>0</td>\n    </tr>\n    <tr>\n      <th>...</th>\n      <td>...</td>\n      <td>...</td>\n      <td>...</td>\n      <td>...</td>\n      <td>...</td>\n    </tr>\n    <tr>\n      <th>565876</th>\n      <td>7zycSpvjDcqh6YT1FEl2kY</td>\n      <td>48</td>\n      <td>0</td>\n      <td>0</td>\n      <td>0</td>\n    </tr>\n    <tr>\n      <th>565877</th>\n      <td>7zycSpvjDcqh6YT1FEl2kY</td>\n      <td>49</td>\n      <td>0</td>\n      <td>0</td>\n      <td>0</td>\n    </tr>\n    <tr>\n      <th>565878</th>\n      <td>7zycSpvjDcqh6YT1FEl2kY</td>\n      <td>50</td>\n      <td>0</td>\n      <td>0</td>\n      <td>0</td>\n    </tr>\n    <tr>\n      <th>565879</th>\n      <td>7zycSpvjDcqh6YT1FEl2kY</td>\n      <td>51</td>\n      <td>0</td>\n      <td>0</td>\n      <td>0</td>\n    </tr>\n    <tr>\n      <th>565880</th>\n      <td>7zycSpvjDcqh6YT1FEl2kY</td>\n      <td>52</td>\n      <td>0</td>\n      <td>0</td>\n      <td>0</td>\n    </tr>\n  </tbody>\n</table>\n<p>565881 rows × 5 columns</p>\n</div>"
     },
     "execution_count": 80,
     "metadata": {},
     "output_type": "execute_result"
    }
   ],
   "source": [
    "event_counts_complete"
   ],
   "metadata": {
    "collapsed": false,
    "ExecuteTime": {
     "end_time": "2025-01-03T17:57:32.612829Z",
     "start_time": "2025-01-03T17:57:32.604869Z"
    }
   },
   "id": "28326de320294696",
   "execution_count": 80
  },
  {
   "cell_type": "code",
   "outputs": [],
   "source": [],
   "metadata": {
    "collapsed": false
   },
   "id": "6e7af6de531a5935"
  },
  {
   "cell_type": "code",
   "outputs": [],
   "source": [],
   "metadata": {
    "collapsed": false
   },
   "id": "b4927150e9ea45e9"
  },
  {
   "cell_type": "code",
   "outputs": [
    {
     "data": {
      "text/plain": "event_type                track_id  week_number  like  play  skip\n0           000xYdQfIZ4pDmBGzQalKU            6     0     1     0\n1           000xYdQfIZ4pDmBGzQalKU           33     0     1     0\n2           003FTlCpBTM4eSqYSWPv4H           28     0     1     0\n3           003vvx7Niy0yvhvHt4a68B           26     0     1     0\n4           005Dlt8Xaz3DkaXiRJgdiS           47     0     1     0\n...                            ...          ...   ...   ...   ...\n14350       7zscdQe9CjzXnqT3P1Ey7K           43     0     1     0\n14351       7zscdQe9CjzXnqT3P1Ey7K           49     1     1     0\n14352       7zuwr7YqqpveNtxlKe1vn6           39     1     1     0\n14353       7zv5oGRQoJX09QM3pkvI1w           46     0     1     0\n14354       7zycSpvjDcqh6YT1FEl2kY           18     0     1     0\n\n[14355 rows x 5 columns]",
      "text/html": "<div>\n<style scoped>\n    .dataframe tbody tr th:only-of-type {\n        vertical-align: middle;\n    }\n\n    .dataframe tbody tr th {\n        vertical-align: top;\n    }\n\n    .dataframe thead th {\n        text-align: right;\n    }\n</style>\n<table border=\"1\" class=\"dataframe\">\n  <thead>\n    <tr style=\"text-align: right;\">\n      <th>event_type</th>\n      <th>track_id</th>\n      <th>week_number</th>\n      <th>like</th>\n      <th>play</th>\n      <th>skip</th>\n    </tr>\n  </thead>\n  <tbody>\n    <tr>\n      <th>0</th>\n      <td>000xYdQfIZ4pDmBGzQalKU</td>\n      <td>6</td>\n      <td>0</td>\n      <td>1</td>\n      <td>0</td>\n    </tr>\n    <tr>\n      <th>1</th>\n      <td>000xYdQfIZ4pDmBGzQalKU</td>\n      <td>33</td>\n      <td>0</td>\n      <td>1</td>\n      <td>0</td>\n    </tr>\n    <tr>\n      <th>2</th>\n      <td>003FTlCpBTM4eSqYSWPv4H</td>\n      <td>28</td>\n      <td>0</td>\n      <td>1</td>\n      <td>0</td>\n    </tr>\n    <tr>\n      <th>3</th>\n      <td>003vvx7Niy0yvhvHt4a68B</td>\n      <td>26</td>\n      <td>0</td>\n      <td>1</td>\n      <td>0</td>\n    </tr>\n    <tr>\n      <th>4</th>\n      <td>005Dlt8Xaz3DkaXiRJgdiS</td>\n      <td>47</td>\n      <td>0</td>\n      <td>1</td>\n      <td>0</td>\n    </tr>\n    <tr>\n      <th>...</th>\n      <td>...</td>\n      <td>...</td>\n      <td>...</td>\n      <td>...</td>\n      <td>...</td>\n    </tr>\n    <tr>\n      <th>14350</th>\n      <td>7zscdQe9CjzXnqT3P1Ey7K</td>\n      <td>43</td>\n      <td>0</td>\n      <td>1</td>\n      <td>0</td>\n    </tr>\n    <tr>\n      <th>14351</th>\n      <td>7zscdQe9CjzXnqT3P1Ey7K</td>\n      <td>49</td>\n      <td>1</td>\n      <td>1</td>\n      <td>0</td>\n    </tr>\n    <tr>\n      <th>14352</th>\n      <td>7zuwr7YqqpveNtxlKe1vn6</td>\n      <td>39</td>\n      <td>1</td>\n      <td>1</td>\n      <td>0</td>\n    </tr>\n    <tr>\n      <th>14353</th>\n      <td>7zv5oGRQoJX09QM3pkvI1w</td>\n      <td>46</td>\n      <td>0</td>\n      <td>1</td>\n      <td>0</td>\n    </tr>\n    <tr>\n      <th>14354</th>\n      <td>7zycSpvjDcqh6YT1FEl2kY</td>\n      <td>18</td>\n      <td>0</td>\n      <td>1</td>\n      <td>0</td>\n    </tr>\n  </tbody>\n</table>\n<p>14355 rows × 5 columns</p>\n</div>"
     },
     "execution_count": 65,
     "metadata": {},
     "output_type": "execute_result"
    }
   ],
   "source": [
    "event_counts = events_data_df.groupby(['track_id', 'event_type', 'week_number']).size().unstack(level='event_type', fill_value=0)    .reset_index()\n",
    "event_counts"
   ],
   "metadata": {
    "collapsed": false,
    "ExecuteTime": {
     "end_time": "2025-01-03T17:50:55.514531Z",
     "start_time": "2025-01-03T17:50:55.459585Z"
    }
   },
   "id": "ff75150785b61808",
   "execution_count": 65
  },
  {
   "cell_type": "code",
   "outputs": [],
   "source": [
    "event_counts = event_counts.rename(columns={'play': 'play_count', 'like': 'like_count', 'skip': 'skip_count'})\n",
    "events_data_df = events_data_df.merge(event_counts, on='track_id', how='inner')\n",
    "events_data_df = events_data_df.fillna(0)\n",
    "events_data_df.drop(\"event_type\", axis=1, inplace=True)"
   ],
   "metadata": {
    "collapsed": false,
    "ExecuteTime": {
     "end_time": "2025-01-03T17:51:34.134757Z",
     "start_time": "2025-01-03T17:51:34.097879Z"
    }
   },
   "id": "4540b67ffd0d46f4",
   "execution_count": 66
  },
  {
   "cell_type": "code",
   "outputs": [
    {
     "data": {
      "text/plain": "                     track_id               timestamp  week_number_x  \\\n0      4YPgTCGJWAlHQ5g6eWoM8r 2024-07-13 15:55:37.000             33   \n1      4YPgTCGJWAlHQ5g6eWoM8r 2024-07-13 15:55:37.000             33   \n2      4p8QcNkaq2FQj8uGJ7HEDK 2024-06-20 06:31:23.547             30   \n3      4p8QcNkaq2FQj8uGJ7HEDK 2024-06-20 06:31:23.547             30   \n4      4p8QcNkaq2FQj8uGJ7HEDK 2024-06-20 06:31:23.547             30   \n...                       ...                     ...            ...   \n36654  4COFVKhvXA3LecFReH6D2v 2024-08-11 13:42:19.523             37   \n36655  4COFVKhvXA3LecFReH6D2v 2024-08-11 13:42:19.523             37   \n36656  6vPAmoERUMRoTZaCCSWQ12 2024-08-11 13:44:50.582             37   \n36657  5A32KQZznC2HSqr9qzTl2N 2024-08-11 13:49:36.582             37   \n36658  3YkDslZvvMixTwgDId0aYB 2024-08-11 13:54:51.169             37   \n\n                            week_range  week_number_y  like_count  play_count  \\\n0      week 33 2024-07-10 - 2024-07-17              7           0           1   \n1      week 33 2024-07-10 - 2024-07-17             33           0           1   \n2      week 30 2024-06-19 - 2024-06-26              1           0           1   \n3      week 30 2024-06-19 - 2024-06-26             15           1           1   \n4      week 30 2024-06-19 - 2024-06-26             30           0           1   \n...                                ...            ...         ...         ...   \n36654  week 37 2024-08-07 - 2024-08-14             12           0           1   \n36655  week 37 2024-08-07 - 2024-08-14             37           1           1   \n36656  week 37 2024-08-07 - 2024-08-14             37           0           1   \n36657  week 37 2024-08-07 - 2024-08-14             37           0           1   \n36658  week 37 2024-08-07 - 2024-08-14             37           0           1   \n\n       skip_count  \n0               0  \n1               0  \n2               0  \n3               1  \n4               0  \n...           ...  \n36654           0  \n36655           0  \n36656           0  \n36657           0  \n36658           0  \n\n[36659 rows x 8 columns]",
      "text/html": "<div>\n<style scoped>\n    .dataframe tbody tr th:only-of-type {\n        vertical-align: middle;\n    }\n\n    .dataframe tbody tr th {\n        vertical-align: top;\n    }\n\n    .dataframe thead th {\n        text-align: right;\n    }\n</style>\n<table border=\"1\" class=\"dataframe\">\n  <thead>\n    <tr style=\"text-align: right;\">\n      <th></th>\n      <th>track_id</th>\n      <th>timestamp</th>\n      <th>week_number_x</th>\n      <th>week_range</th>\n      <th>week_number_y</th>\n      <th>like_count</th>\n      <th>play_count</th>\n      <th>skip_count</th>\n    </tr>\n  </thead>\n  <tbody>\n    <tr>\n      <th>0</th>\n      <td>4YPgTCGJWAlHQ5g6eWoM8r</td>\n      <td>2024-07-13 15:55:37.000</td>\n      <td>33</td>\n      <td>week 33 2024-07-10 - 2024-07-17</td>\n      <td>7</td>\n      <td>0</td>\n      <td>1</td>\n      <td>0</td>\n    </tr>\n    <tr>\n      <th>1</th>\n      <td>4YPgTCGJWAlHQ5g6eWoM8r</td>\n      <td>2024-07-13 15:55:37.000</td>\n      <td>33</td>\n      <td>week 33 2024-07-10 - 2024-07-17</td>\n      <td>33</td>\n      <td>0</td>\n      <td>1</td>\n      <td>0</td>\n    </tr>\n    <tr>\n      <th>2</th>\n      <td>4p8QcNkaq2FQj8uGJ7HEDK</td>\n      <td>2024-06-20 06:31:23.547</td>\n      <td>30</td>\n      <td>week 30 2024-06-19 - 2024-06-26</td>\n      <td>1</td>\n      <td>0</td>\n      <td>1</td>\n      <td>0</td>\n    </tr>\n    <tr>\n      <th>3</th>\n      <td>4p8QcNkaq2FQj8uGJ7HEDK</td>\n      <td>2024-06-20 06:31:23.547</td>\n      <td>30</td>\n      <td>week 30 2024-06-19 - 2024-06-26</td>\n      <td>15</td>\n      <td>1</td>\n      <td>1</td>\n      <td>1</td>\n    </tr>\n    <tr>\n      <th>4</th>\n      <td>4p8QcNkaq2FQj8uGJ7HEDK</td>\n      <td>2024-06-20 06:31:23.547</td>\n      <td>30</td>\n      <td>week 30 2024-06-19 - 2024-06-26</td>\n      <td>30</td>\n      <td>0</td>\n      <td>1</td>\n      <td>0</td>\n    </tr>\n    <tr>\n      <th>...</th>\n      <td>...</td>\n      <td>...</td>\n      <td>...</td>\n      <td>...</td>\n      <td>...</td>\n      <td>...</td>\n      <td>...</td>\n      <td>...</td>\n    </tr>\n    <tr>\n      <th>36654</th>\n      <td>4COFVKhvXA3LecFReH6D2v</td>\n      <td>2024-08-11 13:42:19.523</td>\n      <td>37</td>\n      <td>week 37 2024-08-07 - 2024-08-14</td>\n      <td>12</td>\n      <td>0</td>\n      <td>1</td>\n      <td>0</td>\n    </tr>\n    <tr>\n      <th>36655</th>\n      <td>4COFVKhvXA3LecFReH6D2v</td>\n      <td>2024-08-11 13:42:19.523</td>\n      <td>37</td>\n      <td>week 37 2024-08-07 - 2024-08-14</td>\n      <td>37</td>\n      <td>1</td>\n      <td>1</td>\n      <td>0</td>\n    </tr>\n    <tr>\n      <th>36656</th>\n      <td>6vPAmoERUMRoTZaCCSWQ12</td>\n      <td>2024-08-11 13:44:50.582</td>\n      <td>37</td>\n      <td>week 37 2024-08-07 - 2024-08-14</td>\n      <td>37</td>\n      <td>0</td>\n      <td>1</td>\n      <td>0</td>\n    </tr>\n    <tr>\n      <th>36657</th>\n      <td>5A32KQZznC2HSqr9qzTl2N</td>\n      <td>2024-08-11 13:49:36.582</td>\n      <td>37</td>\n      <td>week 37 2024-08-07 - 2024-08-14</td>\n      <td>37</td>\n      <td>0</td>\n      <td>1</td>\n      <td>0</td>\n    </tr>\n    <tr>\n      <th>36658</th>\n      <td>3YkDslZvvMixTwgDId0aYB</td>\n      <td>2024-08-11 13:54:51.169</td>\n      <td>37</td>\n      <td>week 37 2024-08-07 - 2024-08-14</td>\n      <td>37</td>\n      <td>0</td>\n      <td>1</td>\n      <td>0</td>\n    </tr>\n  </tbody>\n</table>\n<p>36659 rows × 8 columns</p>\n</div>"
     },
     "execution_count": 67,
     "metadata": {},
     "output_type": "execute_result"
    }
   ],
   "source": [
    "events_data_df"
   ],
   "metadata": {
    "collapsed": false,
    "ExecuteTime": {
     "end_time": "2025-01-03T17:51:35.454641Z",
     "start_time": "2025-01-03T17:51:35.446793Z"
    }
   },
   "id": "2bcba8c2b4709b3b",
   "execution_count": 67
  },
  {
   "cell_type": "code",
   "outputs": [
    {
     "ename": "KeyError",
     "evalue": "\"Columns not found: 'play_count', 'skip_count', 'like_count'\"",
     "output_type": "error",
     "traceback": [
      "\u001B[0;31m---------------------------------------------------------------------------\u001B[0m",
      "\u001B[0;31mKeyError\u001B[0m                                  Traceback (most recent call last)",
      "Cell \u001B[0;32mIn[16], line 1\u001B[0m\n\u001B[0;32m----> 1\u001B[0m events_data_df\u001B[38;5;241m=\u001B[39m\u001B[43mevents_data_df\u001B[49m\u001B[38;5;241;43m.\u001B[39;49m\u001B[43mgroupby\u001B[49m\u001B[43m(\u001B[49m\u001B[43m[\u001B[49m\u001B[38;5;124;43m'\u001B[39;49m\u001B[38;5;124;43mtrack_id\u001B[39;49m\u001B[38;5;124;43m'\u001B[39;49m\u001B[43m,\u001B[49m\u001B[43m \u001B[49m\u001B[38;5;124;43m'\u001B[39;49m\u001B[38;5;124;43mweek_range\u001B[39;49m\u001B[38;5;124;43m'\u001B[39;49m\u001B[43m]\u001B[49m\u001B[43m)\u001B[49m\u001B[43m[\u001B[49m\u001B[43m[\u001B[49m\u001B[38;5;124;43m'\u001B[39;49m\u001B[38;5;124;43mlike_count\u001B[39;49m\u001B[38;5;124;43m'\u001B[39;49m\u001B[43m,\u001B[49m\u001B[43m \u001B[49m\u001B[38;5;124;43m'\u001B[39;49m\u001B[38;5;124;43mplay_count\u001B[39;49m\u001B[38;5;124;43m'\u001B[39;49m\u001B[43m,\u001B[49m\u001B[43m \u001B[49m\u001B[38;5;124;43m'\u001B[39;49m\u001B[38;5;124;43mskip_count\u001B[39;49m\u001B[38;5;124;43m'\u001B[39;49m\u001B[43m]\u001B[49m\u001B[43m]\u001B[49m\u001B[38;5;241m.\u001B[39msum()\u001B[38;5;241m.\u001B[39mreset_index()\n",
      "File \u001B[0;32m~/IUM/venv/lib/python3.11/site-packages/pandas/core/groupby/generic.py:1951\u001B[0m, in \u001B[0;36mDataFrameGroupBy.__getitem__\u001B[0;34m(self, key)\u001B[0m\n\u001B[1;32m   1944\u001B[0m \u001B[38;5;28;01mif\u001B[39;00m \u001B[38;5;28misinstance\u001B[39m(key, \u001B[38;5;28mtuple\u001B[39m) \u001B[38;5;129;01mand\u001B[39;00m \u001B[38;5;28mlen\u001B[39m(key) \u001B[38;5;241m>\u001B[39m \u001B[38;5;241m1\u001B[39m:\n\u001B[1;32m   1945\u001B[0m     \u001B[38;5;66;03m# if len == 1, then it becomes a SeriesGroupBy and this is actually\u001B[39;00m\n\u001B[1;32m   1946\u001B[0m     \u001B[38;5;66;03m# valid syntax, so don't raise\u001B[39;00m\n\u001B[1;32m   1947\u001B[0m     \u001B[38;5;28;01mraise\u001B[39;00m \u001B[38;5;167;01mValueError\u001B[39;00m(\n\u001B[1;32m   1948\u001B[0m         \u001B[38;5;124m\"\u001B[39m\u001B[38;5;124mCannot subset columns with a tuple with more than one element. \u001B[39m\u001B[38;5;124m\"\u001B[39m\n\u001B[1;32m   1949\u001B[0m         \u001B[38;5;124m\"\u001B[39m\u001B[38;5;124mUse a list instead.\u001B[39m\u001B[38;5;124m\"\u001B[39m\n\u001B[1;32m   1950\u001B[0m     )\n\u001B[0;32m-> 1951\u001B[0m \u001B[38;5;28;01mreturn\u001B[39;00m \u001B[38;5;28;43msuper\u001B[39;49m\u001B[43m(\u001B[49m\u001B[43m)\u001B[49m\u001B[38;5;241;43m.\u001B[39;49m\u001B[38;5;21;43m__getitem__\u001B[39;49m\u001B[43m(\u001B[49m\u001B[43mkey\u001B[49m\u001B[43m)\u001B[49m\n",
      "File \u001B[0;32m~/IUM/venv/lib/python3.11/site-packages/pandas/core/base.py:239\u001B[0m, in \u001B[0;36mSelectionMixin.__getitem__\u001B[0;34m(self, key)\u001B[0m\n\u001B[1;32m    237\u001B[0m     \u001B[38;5;28;01mif\u001B[39;00m \u001B[38;5;28mlen\u001B[39m(\u001B[38;5;28mself\u001B[39m\u001B[38;5;241m.\u001B[39mobj\u001B[38;5;241m.\u001B[39mcolumns\u001B[38;5;241m.\u001B[39mintersection(key)) \u001B[38;5;241m!=\u001B[39m \u001B[38;5;28mlen\u001B[39m(\u001B[38;5;28mset\u001B[39m(key)):\n\u001B[1;32m    238\u001B[0m         bad_keys \u001B[38;5;241m=\u001B[39m \u001B[38;5;28mlist\u001B[39m(\u001B[38;5;28mset\u001B[39m(key)\u001B[38;5;241m.\u001B[39mdifference(\u001B[38;5;28mself\u001B[39m\u001B[38;5;241m.\u001B[39mobj\u001B[38;5;241m.\u001B[39mcolumns))\n\u001B[0;32m--> 239\u001B[0m         \u001B[38;5;28;01mraise\u001B[39;00m \u001B[38;5;167;01mKeyError\u001B[39;00m(\u001B[38;5;124mf\u001B[39m\u001B[38;5;124m\"\u001B[39m\u001B[38;5;124mColumns not found: \u001B[39m\u001B[38;5;132;01m{\u001B[39;00m\u001B[38;5;28mstr\u001B[39m(bad_keys)[\u001B[38;5;241m1\u001B[39m:\u001B[38;5;241m-\u001B[39m\u001B[38;5;241m1\u001B[39m]\u001B[38;5;132;01m}\u001B[39;00m\u001B[38;5;124m\"\u001B[39m)\n\u001B[1;32m    240\u001B[0m     \u001B[38;5;28;01mreturn\u001B[39;00m \u001B[38;5;28mself\u001B[39m\u001B[38;5;241m.\u001B[39m_gotitem(\u001B[38;5;28mlist\u001B[39m(key), ndim\u001B[38;5;241m=\u001B[39m\u001B[38;5;241m2\u001B[39m)\n\u001B[1;32m    242\u001B[0m \u001B[38;5;28;01melse\u001B[39;00m:\n",
      "\u001B[0;31mKeyError\u001B[0m: \"Columns not found: 'play_count', 'skip_count', 'like_count'\""
     ]
    }
   ],
   "source": [
    "events_data_df=events_data_df.groupby(['track_id', 'week_range'])[['like_count', 'play_count', 'skip_count']].sum().reset_index()"
   ],
   "metadata": {
    "collapsed": false,
    "ExecuteTime": {
     "end_time": "2025-01-03T17:26:59.198862Z",
     "start_time": "2025-01-03T17:26:59.037886Z"
    }
   },
   "id": "9971a4e1f2bdcc8e",
   "execution_count": 16
  },
  {
   "cell_type": "code",
   "outputs": [],
   "source": [],
   "metadata": {
    "collapsed": false
   },
   "id": "6efde079aecccf44"
  }
 ],
 "metadata": {
  "kernelspec": {
   "display_name": "Python 3",
   "language": "python",
   "name": "python3"
  },
  "language_info": {
   "codemirror_mode": {
    "name": "ipython",
    "version": 2
   },
   "file_extension": ".py",
   "mimetype": "text/x-python",
   "name": "python",
   "nbconvert_exporter": "python",
   "pygments_lexer": "ipython2",
   "version": "2.7.6"
  }
 },
 "nbformat": 4,
 "nbformat_minor": 5
}
