{
 "cells": [
  {
   "cell_type": "code",
   "execution_count": 1,
   "id": "initial_id",
   "metadata": {
    "collapsed": true,
    "ExecuteTime": {
     "end_time": "2024-11-27T19:39:03.817070Z",
     "start_time": "2024-11-27T19:39:03.597534Z"
    }
   },
   "outputs": [],
   "source": [
    "import pandas as pd"
   ]
  },
  {
   "cell_type": "code",
   "outputs": [],
   "source": [
    "df = pd.read_json(\"artists.jsonl\",lines=True)"
   ],
   "metadata": {
    "collapsed": false,
    "ExecuteTime": {
     "end_time": "2024-11-27T19:41:40.960595Z",
     "start_time": "2024-11-27T19:41:40.802418Z"
    }
   },
   "id": "eeb2e874b0122ba9",
   "execution_count": 3
  },
  {
   "cell_type": "code",
   "outputs": [
    {
     "data": {
      "text/plain": "                          id              name  \\\n0     7jVv8c5Fj3E9VhNjxT4snq         Lil Nas X   \n1     0xRXCcSX89eobfrshSVdyu            MEDUZA   \n2     3OKg7YbOIatODzkRIbLJR4         TheFatRat   \n3     4f7KfxeHq9BiylGmyXepGt    Tanishk Bagchi   \n4     56mfhUDKa1vec6rSLZV5Eg         Jawsh 685   \n...                      ...               ...   \n1662  6AMd49uBDJfhf30Ak2QR5s         Coi Leray   \n1663  6qgnBH6iDM91ipVXv28OMu        KAYTRANADA   \n1664  5q8HGNo0BjLWaTAhRtbwxa  Brantley Gilbert   \n1665  26T4yOaOoFJvUvxR87Y9HO      Bethel Music   \n1666  46MWeeHNVMYRIIofQBEX98              BEAM   \n\n                                                 genres  \n0     [country rap, lgbtq+ hip hop, pop rap, queer c...  \n1     [dance pop, edm, pop dance, pop house, tropica...  \n2                                            [speedrun]  \n3                   [desi pop, filmi, modern bollywood]  \n4                                              [nz pop]  \n...                                                 ...  \n1662              [pop r&b, r&b, trap queen, viral rap]  \n1663          [escape room, indie soul, lgbtq+ hip hop]  \n1664  [contemporary country, country, country road, ...  \n1665  [ambient worship, ccm, christian music, deep c...  \n1666                   [trap soul, underground hip hop]  \n\n[1667 rows x 3 columns]",
      "text/html": "<div>\n<style scoped>\n    .dataframe tbody tr th:only-of-type {\n        vertical-align: middle;\n    }\n\n    .dataframe tbody tr th {\n        vertical-align: top;\n    }\n\n    .dataframe thead th {\n        text-align: right;\n    }\n</style>\n<table border=\"1\" class=\"dataframe\">\n  <thead>\n    <tr style=\"text-align: right;\">\n      <th></th>\n      <th>id</th>\n      <th>name</th>\n      <th>genres</th>\n    </tr>\n  </thead>\n  <tbody>\n    <tr>\n      <th>0</th>\n      <td>7jVv8c5Fj3E9VhNjxT4snq</td>\n      <td>Lil Nas X</td>\n      <td>[country rap, lgbtq+ hip hop, pop rap, queer c...</td>\n    </tr>\n    <tr>\n      <th>1</th>\n      <td>0xRXCcSX89eobfrshSVdyu</td>\n      <td>MEDUZA</td>\n      <td>[dance pop, edm, pop dance, pop house, tropica...</td>\n    </tr>\n    <tr>\n      <th>2</th>\n      <td>3OKg7YbOIatODzkRIbLJR4</td>\n      <td>TheFatRat</td>\n      <td>[speedrun]</td>\n    </tr>\n    <tr>\n      <th>3</th>\n      <td>4f7KfxeHq9BiylGmyXepGt</td>\n      <td>Tanishk Bagchi</td>\n      <td>[desi pop, filmi, modern bollywood]</td>\n    </tr>\n    <tr>\n      <th>4</th>\n      <td>56mfhUDKa1vec6rSLZV5Eg</td>\n      <td>Jawsh 685</td>\n      <td>[nz pop]</td>\n    </tr>\n    <tr>\n      <th>...</th>\n      <td>...</td>\n      <td>...</td>\n      <td>...</td>\n    </tr>\n    <tr>\n      <th>1662</th>\n      <td>6AMd49uBDJfhf30Ak2QR5s</td>\n      <td>Coi Leray</td>\n      <td>[pop r&amp;b, r&amp;b, trap queen, viral rap]</td>\n    </tr>\n    <tr>\n      <th>1663</th>\n      <td>6qgnBH6iDM91ipVXv28OMu</td>\n      <td>KAYTRANADA</td>\n      <td>[escape room, indie soul, lgbtq+ hip hop]</td>\n    </tr>\n    <tr>\n      <th>1664</th>\n      <td>5q8HGNo0BjLWaTAhRtbwxa</td>\n      <td>Brantley Gilbert</td>\n      <td>[contemporary country, country, country road, ...</td>\n    </tr>\n    <tr>\n      <th>1665</th>\n      <td>26T4yOaOoFJvUvxR87Y9HO</td>\n      <td>Bethel Music</td>\n      <td>[ambient worship, ccm, christian music, deep c...</td>\n    </tr>\n    <tr>\n      <th>1666</th>\n      <td>46MWeeHNVMYRIIofQBEX98</td>\n      <td>BEAM</td>\n      <td>[trap soul, underground hip hop]</td>\n    </tr>\n  </tbody>\n</table>\n<p>1667 rows × 3 columns</p>\n</div>"
     },
     "execution_count": 4,
     "metadata": {},
     "output_type": "execute_result"
    }
   ],
   "source": [
    "df"
   ],
   "metadata": {
    "collapsed": false,
    "ExecuteTime": {
     "end_time": "2024-11-27T19:41:42.646302Z",
     "start_time": "2024-11-27T19:41:42.637712Z"
    }
   },
   "id": "e0e687d69b854581",
   "execution_count": 4
  },
  {
   "cell_type": "code",
   "outputs": [],
   "source": [
    "df_id_null = df[df[\"id\"] == -1]"
   ],
   "metadata": {
    "collapsed": false,
    "ExecuteTime": {
     "end_time": "2024-11-27T19:50:55.739644Z",
     "start_time": "2024-11-27T19:50:55.728045Z"
    }
   },
   "id": "a0689a60d6384ee7",
   "execution_count": 36
  },
  {
   "cell_type": "code",
   "outputs": [
    {
     "data": {
      "text/plain": "      id                 name  \\\n17    -1                Lunay   \n21    -1  Okieriete Onaodowan   \n40    -1     Ricky Montgomery   \n43    -1         Social House   \n81    -1             ILLENIUM   \n...   ..                  ...   \n1602  -1                Beéle   \n1619  -1           Stray Kids   \n1630  -1          Grupo Firme   \n1634  -1       Colbie Caillat   \n1650  -1             Saweetie   \n\n                                                 genres  \n17    [latin, latin pop, reggaeton, reggaeton flow, ...  \n21                                         [show tunes]  \n40                    [alt z, indie pop, la indie, pop]  \n43                                            [pop rap]  \n81    [edm, electropop, melodic dubstep, pop, pop da...  \n...                                                 ...  \n1602                             [reggaeton colombiano]  \n1619                           [k-pop, k-pop boy group]  \n1630  [corrido, norteno, nuevo regional mexicano, re...  \n1634  [dance pop, neo mellow, pop, pop rock, post-te...  \n1650  [cali rap, dance pop, pop, pop rap, post-teen ...  \n\n[88 rows x 3 columns]",
      "text/html": "<div>\n<style scoped>\n    .dataframe tbody tr th:only-of-type {\n        vertical-align: middle;\n    }\n\n    .dataframe tbody tr th {\n        vertical-align: top;\n    }\n\n    .dataframe thead th {\n        text-align: right;\n    }\n</style>\n<table border=\"1\" class=\"dataframe\">\n  <thead>\n    <tr style=\"text-align: right;\">\n      <th></th>\n      <th>id</th>\n      <th>name</th>\n      <th>genres</th>\n    </tr>\n  </thead>\n  <tbody>\n    <tr>\n      <th>17</th>\n      <td>-1</td>\n      <td>Lunay</td>\n      <td>[latin, latin pop, reggaeton, reggaeton flow, ...</td>\n    </tr>\n    <tr>\n      <th>21</th>\n      <td>-1</td>\n      <td>Okieriete Onaodowan</td>\n      <td>[show tunes]</td>\n    </tr>\n    <tr>\n      <th>40</th>\n      <td>-1</td>\n      <td>Ricky Montgomery</td>\n      <td>[alt z, indie pop, la indie, pop]</td>\n    </tr>\n    <tr>\n      <th>43</th>\n      <td>-1</td>\n      <td>Social House</td>\n      <td>[pop rap]</td>\n    </tr>\n    <tr>\n      <th>81</th>\n      <td>-1</td>\n      <td>ILLENIUM</td>\n      <td>[edm, electropop, melodic dubstep, pop, pop da...</td>\n    </tr>\n    <tr>\n      <th>...</th>\n      <td>...</td>\n      <td>...</td>\n      <td>...</td>\n    </tr>\n    <tr>\n      <th>1602</th>\n      <td>-1</td>\n      <td>Beéle</td>\n      <td>[reggaeton colombiano]</td>\n    </tr>\n    <tr>\n      <th>1619</th>\n      <td>-1</td>\n      <td>Stray Kids</td>\n      <td>[k-pop, k-pop boy group]</td>\n    </tr>\n    <tr>\n      <th>1630</th>\n      <td>-1</td>\n      <td>Grupo Firme</td>\n      <td>[corrido, norteno, nuevo regional mexicano, re...</td>\n    </tr>\n    <tr>\n      <th>1634</th>\n      <td>-1</td>\n      <td>Colbie Caillat</td>\n      <td>[dance pop, neo mellow, pop, pop rock, post-te...</td>\n    </tr>\n    <tr>\n      <th>1650</th>\n      <td>-1</td>\n      <td>Saweetie</td>\n      <td>[cali rap, dance pop, pop, pop rap, post-teen ...</td>\n    </tr>\n  </tbody>\n</table>\n<p>88 rows × 3 columns</p>\n</div>"
     },
     "execution_count": 37,
     "metadata": {},
     "output_type": "execute_result"
    }
   ],
   "source": [
    "df_id_null"
   ],
   "metadata": {
    "collapsed": false,
    "ExecuteTime": {
     "end_time": "2024-11-27T19:51:01.047429Z",
     "start_time": "2024-11-27T19:51:01.020756Z"
    }
   },
   "id": "6079a3c1a2187028",
   "execution_count": 37
  },
  {
   "cell_type": "code",
   "outputs": [],
   "source": [
    "df_genres_empty = df[df[\"genres\"].isnull()]"
   ],
   "metadata": {
    "collapsed": false,
    "ExecuteTime": {
     "end_time": "2024-11-27T19:48:30.399786Z",
     "start_time": "2024-11-27T19:48:30.380878Z"
    }
   },
   "id": "f42dd6902a76ab0",
   "execution_count": 32
  },
  {
   "cell_type": "code",
   "outputs": [
    {
     "data": {
      "text/plain": "                          id            name genres\n31    6MF9fzBmfXghAz953czmBC       Taio Cruz   None\n53    4GNC7GD6oZMSxPGyXy4MNB   Lewis Capaldi   None\n85    5K8Rmjmf4RZFffz94EmBRt     Zé Vaqueiro   None\n101   7gXb99Sf9nNmpNYeAgIQFG       Sub Urban   None\n117   2kqUKsTuEj1lPbm6BSn1AU  Rich Music LTD   None\n...                      ...             ...    ...\n1577  0KPX4Ucy9dk82uj4GpKesn           Dalex   None\n1631  4oUHIQIBe0LHzYfvXNW4QM   Morgan Wallen   None\n1642  2PJEagPIxaBugeMjIyKVXF           Aitch   None\n1648  3Gm5F95VdRxW3mqCn8RPBJ           Aminé   None\n1660  2iojnBLj0qIMiKPvVhLnsH      Trey Songz   None\n\n[77 rows x 3 columns]",
      "text/html": "<div>\n<style scoped>\n    .dataframe tbody tr th:only-of-type {\n        vertical-align: middle;\n    }\n\n    .dataframe tbody tr th {\n        vertical-align: top;\n    }\n\n    .dataframe thead th {\n        text-align: right;\n    }\n</style>\n<table border=\"1\" class=\"dataframe\">\n  <thead>\n    <tr style=\"text-align: right;\">\n      <th></th>\n      <th>id</th>\n      <th>name</th>\n      <th>genres</th>\n    </tr>\n  </thead>\n  <tbody>\n    <tr>\n      <th>31</th>\n      <td>6MF9fzBmfXghAz953czmBC</td>\n      <td>Taio Cruz</td>\n      <td>None</td>\n    </tr>\n    <tr>\n      <th>53</th>\n      <td>4GNC7GD6oZMSxPGyXy4MNB</td>\n      <td>Lewis Capaldi</td>\n      <td>None</td>\n    </tr>\n    <tr>\n      <th>85</th>\n      <td>5K8Rmjmf4RZFffz94EmBRt</td>\n      <td>Zé Vaqueiro</td>\n      <td>None</td>\n    </tr>\n    <tr>\n      <th>101</th>\n      <td>7gXb99Sf9nNmpNYeAgIQFG</td>\n      <td>Sub Urban</td>\n      <td>None</td>\n    </tr>\n    <tr>\n      <th>117</th>\n      <td>2kqUKsTuEj1lPbm6BSn1AU</td>\n      <td>Rich Music LTD</td>\n      <td>None</td>\n    </tr>\n    <tr>\n      <th>...</th>\n      <td>...</td>\n      <td>...</td>\n      <td>...</td>\n    </tr>\n    <tr>\n      <th>1577</th>\n      <td>0KPX4Ucy9dk82uj4GpKesn</td>\n      <td>Dalex</td>\n      <td>None</td>\n    </tr>\n    <tr>\n      <th>1631</th>\n      <td>4oUHIQIBe0LHzYfvXNW4QM</td>\n      <td>Morgan Wallen</td>\n      <td>None</td>\n    </tr>\n    <tr>\n      <th>1642</th>\n      <td>2PJEagPIxaBugeMjIyKVXF</td>\n      <td>Aitch</td>\n      <td>None</td>\n    </tr>\n    <tr>\n      <th>1648</th>\n      <td>3Gm5F95VdRxW3mqCn8RPBJ</td>\n      <td>Aminé</td>\n      <td>None</td>\n    </tr>\n    <tr>\n      <th>1660</th>\n      <td>2iojnBLj0qIMiKPvVhLnsH</td>\n      <td>Trey Songz</td>\n      <td>None</td>\n    </tr>\n  </tbody>\n</table>\n<p>77 rows × 3 columns</p>\n</div>"
     },
     "execution_count": 33,
     "metadata": {},
     "output_type": "execute_result"
    }
   ],
   "source": [
    "df_genres_empty"
   ],
   "metadata": {
    "collapsed": false,
    "ExecuteTime": {
     "end_time": "2024-11-27T19:48:31.265272Z",
     "start_time": "2024-11-27T19:48:31.258749Z"
    }
   },
   "id": "1ec4886471a8cca0",
   "execution_count": 33
  },
  {
   "cell_type": "code",
   "outputs": [
    {
     "data": {
      "text/plain": "id                    \n-1                        88\n5Asmk7uzCjVJN77MLDnvma     1\n59wfkuBoNyhDMQGCljbUbA     1\n59jlthNnbmim5l9tmNA7se     1\n592JnViQ2tot63c1SbtgK2     1\n                          ..\n2WX2uTcsvV5OnS0inACecP     1\n2WBJQGf1bT1kxuoqziH5g4     1\n2VZNmg4vCnew4Pavo8zDdW     1\n2VYQTNDsvvKN9wmU5W7xpj     1\n7zxFc10N9BP2lg73b8cwZ0     1\nName: count, Length: 1580, dtype: int64"
     },
     "execution_count": 17,
     "metadata": {},
     "output_type": "execute_result"
    }
   ],
   "source": [],
   "metadata": {
    "collapsed": false,
    "ExecuteTime": {
     "end_time": "2024-11-27T19:44:55.209357Z",
     "start_time": "2024-11-27T19:44:55.188241Z"
    }
   },
   "id": "e5dc90dd165f497",
   "execution_count": 17
  },
  {
   "cell_type": "code",
   "outputs": [
    {
     "data": {
      "text/plain": "667                                                  None\n668          [hip hop, kansas city hip hop, pop rap, rap]\n669     [alt z, dance pop, electropop, indie poptimism...\n670                                       [norwegian pop]\n671             [boy band, dance pop, pop, post-teen pop]\n                              ...                        \n1662                [pop r&b, r&b, trap queen, viral rap]\n1663            [escape room, indie soul, lgbtq+ hip hop]\n1664    [contemporary country, country, country road, ...\n1665    [ambient worship, ccm, christian music, deep c...\n1666                     [trap soul, underground hip hop]\nName: genres, Length: 1000, dtype: object"
     },
     "execution_count": 19,
     "metadata": {},
     "output_type": "execute_result"
    }
   ],
   "source": [
    "df[\"genres\"].tail(1000)"
   ],
   "metadata": {
    "collapsed": false,
    "ExecuteTime": {
     "end_time": "2024-11-27T19:45:28.839008Z",
     "start_time": "2024-11-27T19:45:28.822026Z"
    }
   },
   "id": "55037ebe1ce7a711",
   "execution_count": 19
  },
  {
   "cell_type": "code",
   "outputs": [
    {
     "name": "stdout",
     "output_type": "stream",
     "text": [
      "0       False\n",
      "1       False\n",
      "2       False\n",
      "3       False\n",
      "4       False\n",
      "        ...  \n",
      "1662    False\n",
      "1663    False\n",
      "1664    False\n",
      "1665    False\n",
      "1666    False\n",
      "Name: genres, Length: 1667, dtype: bool\n"
     ]
    }
   ],
   "source": [],
   "metadata": {
    "collapsed": false,
    "ExecuteTime": {
     "end_time": "2024-11-27T19:48:14.350292Z",
     "start_time": "2024-11-27T19:48:14.331238Z"
    }
   },
   "id": "e4e8a08af05e067f",
   "execution_count": 31
  },
  {
   "cell_type": "code",
   "outputs": [],
   "source": [
    "merge_df = pd.merge(df_id_null, df_genres_empty,how=\"outer\", on=[\"name\"])"
   ],
   "metadata": {
    "collapsed": false,
    "ExecuteTime": {
     "end_time": "2024-11-27T19:53:09.510404Z",
     "start_time": "2024-11-27T19:53:09.492813Z"
    }
   },
   "id": "30d63909ae03440",
   "execution_count": 41
  },
  {
   "cell_type": "code",
   "outputs": [
    {
     "name": "stdout",
     "output_type": "stream",
     "text": [
      "<class 'pandas.core.frame.DataFrame'>\n"
     ]
    }
   ],
   "source": [
    "print(type(df_genres_empty))"
   ],
   "metadata": {
    "collapsed": false,
    "ExecuteTime": {
     "end_time": "2024-11-27T19:52:38.715792Z",
     "start_time": "2024-11-27T19:52:38.709686Z"
    }
   },
   "id": "3de5aca468330752",
   "execution_count": 40
  },
  {
   "cell_type": "code",
   "outputs": [
    {
     "data": {
      "text/plain": "    id_x               name  \\\n0     -1               $NOT   \n1     -1           (G)I-DLE   \n2    NaN                A7S   \n3    NaN                ATB   \n4     -1              ATEEZ   \n..   ...                ...   \n158   -1  Yo Yo Honey Singh   \n159  NaN                ZHU   \n160  NaN        Zé Vaqueiro   \n161  NaN        beabadoobee   \n162  NaN        girl in red   \n\n                                              genres_x  \\\n0    [dark trap, florida rap, underground hip hop, ...   \n1                            [k-pop, k-pop girl group]   \n2                                                  NaN   \n3                                                  NaN   \n4                             [k-pop, k-pop boy group]   \n..                                                 ...   \n158  [desi pop, filmi, hindi hip hop, modern bollyw...   \n159                                                NaN   \n160                                                NaN   \n161                                                NaN   \n162                                                NaN   \n\n                       id_y genres_y  \n0                       NaN      NaN  \n1                       NaN      NaN  \n2    5Wg2b4Mp42gicxEeDNawf7     None  \n3    7jZM5w05mGhw6wTB1okhD9     None  \n4                       NaN      NaN  \n..                      ...      ...  \n158                     NaN      NaN  \n159  28j8lBWDdDSHSSt5oPlsX2     None  \n160  5K8Rmjmf4RZFffz94EmBRt     None  \n161  35l9BRT7MXmM8bv2WDQiyB     None  \n162  3uwAm6vQy7kWPS2bciKWx9     None  \n\n[163 rows x 5 columns]",
      "text/html": "<div>\n<style scoped>\n    .dataframe tbody tr th:only-of-type {\n        vertical-align: middle;\n    }\n\n    .dataframe tbody tr th {\n        vertical-align: top;\n    }\n\n    .dataframe thead th {\n        text-align: right;\n    }\n</style>\n<table border=\"1\" class=\"dataframe\">\n  <thead>\n    <tr style=\"text-align: right;\">\n      <th></th>\n      <th>id_x</th>\n      <th>name</th>\n      <th>genres_x</th>\n      <th>id_y</th>\n      <th>genres_y</th>\n    </tr>\n  </thead>\n  <tbody>\n    <tr>\n      <th>0</th>\n      <td>-1</td>\n      <td>$NOT</td>\n      <td>[dark trap, florida rap, underground hip hop, ...</td>\n      <td>NaN</td>\n      <td>NaN</td>\n    </tr>\n    <tr>\n      <th>1</th>\n      <td>-1</td>\n      <td>(G)I-DLE</td>\n      <td>[k-pop, k-pop girl group]</td>\n      <td>NaN</td>\n      <td>NaN</td>\n    </tr>\n    <tr>\n      <th>2</th>\n      <td>NaN</td>\n      <td>A7S</td>\n      <td>NaN</td>\n      <td>5Wg2b4Mp42gicxEeDNawf7</td>\n      <td>None</td>\n    </tr>\n    <tr>\n      <th>3</th>\n      <td>NaN</td>\n      <td>ATB</td>\n      <td>NaN</td>\n      <td>7jZM5w05mGhw6wTB1okhD9</td>\n      <td>None</td>\n    </tr>\n    <tr>\n      <th>4</th>\n      <td>-1</td>\n      <td>ATEEZ</td>\n      <td>[k-pop, k-pop boy group]</td>\n      <td>NaN</td>\n      <td>NaN</td>\n    </tr>\n    <tr>\n      <th>...</th>\n      <td>...</td>\n      <td>...</td>\n      <td>...</td>\n      <td>...</td>\n      <td>...</td>\n    </tr>\n    <tr>\n      <th>158</th>\n      <td>-1</td>\n      <td>Yo Yo Honey Singh</td>\n      <td>[desi pop, filmi, hindi hip hop, modern bollyw...</td>\n      <td>NaN</td>\n      <td>NaN</td>\n    </tr>\n    <tr>\n      <th>159</th>\n      <td>NaN</td>\n      <td>ZHU</td>\n      <td>NaN</td>\n      <td>28j8lBWDdDSHSSt5oPlsX2</td>\n      <td>None</td>\n    </tr>\n    <tr>\n      <th>160</th>\n      <td>NaN</td>\n      <td>Zé Vaqueiro</td>\n      <td>NaN</td>\n      <td>5K8Rmjmf4RZFffz94EmBRt</td>\n      <td>None</td>\n    </tr>\n    <tr>\n      <th>161</th>\n      <td>NaN</td>\n      <td>beabadoobee</td>\n      <td>NaN</td>\n      <td>35l9BRT7MXmM8bv2WDQiyB</td>\n      <td>None</td>\n    </tr>\n    <tr>\n      <th>162</th>\n      <td>NaN</td>\n      <td>girl in red</td>\n      <td>NaN</td>\n      <td>3uwAm6vQy7kWPS2bciKWx9</td>\n      <td>None</td>\n    </tr>\n  </tbody>\n</table>\n<p>163 rows × 5 columns</p>\n</div>"
     },
     "execution_count": 42,
     "metadata": {},
     "output_type": "execute_result"
    }
   ],
   "source": [
    "merge_df"
   ],
   "metadata": {
    "collapsed": false,
    "ExecuteTime": {
     "end_time": "2024-11-27T19:53:14.822393Z",
     "start_time": "2024-11-27T19:53:14.812011Z"
    }
   },
   "id": "96d4a27f9cc601aa",
   "execution_count": 42
  },
  {
   "cell_type": "code",
   "outputs": [
    {
     "data": {
      "text/plain": "name\nLil Nas X                       1\nElevation Worship               1\nAleman                          1\nFlorence + The Machine          1\nTimmy Trumpet                   1\n                               ..\nRoyal Philharmonic Orchestra    1\nKid Rock                        1\nPopcaan                         1\nSara Kays                       1\nBEAM                            1\nName: count, Length: 1667, dtype: int64"
     },
     "execution_count": 43,
     "metadata": {},
     "output_type": "execute_result"
    }
   ],
   "source": [
    "df[\"name\"].value_counts()."
   ],
   "metadata": {
    "collapsed": false,
    "ExecuteTime": {
     "end_time": "2024-11-27T19:54:27.568869Z",
     "start_time": "2024-11-27T19:54:27.553060Z"
    }
   },
   "id": "5e97f870a12b98fa",
   "execution_count": 43
  },
  {
   "cell_type": "markdown",
   "source": [
    "# Sessions"
   ],
   "metadata": {
    "collapsed": false
   },
   "id": "857db4300f4641fe"
  },
  {
   "cell_type": "code",
   "outputs": [],
   "source": [
    "df_sessions = pd.read_json(\"sessions.jsonl\", lines=True)"
   ],
   "metadata": {
    "collapsed": false,
    "ExecuteTime": {
     "end_time": "2024-11-27T20:05:31.294438Z",
     "start_time": "2024-11-27T20:05:31.181718Z"
    }
   },
   "id": "dfedaf4230286cb8",
   "execution_count": 45
  },
  {
   "cell_type": "code",
   "outputs": [
    {
     "data": {
      "text/plain": "       session_id                  timestamp  user_id                track_id  \\\n0             124 2023-10-25 10:13:55.258944    601.0  1Duym1lVQurgKHHSqpOWhY   \n1             124 2023-10-25 10:15:29.065944    601.0                    None   \n2             124 2023-10-25 10:15:34.065944    601.0                    None   \n3             124 2023-10-25 10:15:34.065944    601.0  6XFduBZIOMyOV8sCcHuYzb   \n4             124 2023-10-25 10:16:21.994944    601.0  6XFduBZIOMyOV8sCcHuYzb   \n...           ...                        ...      ...                     ...   \n26759        4904 2023-05-11 13:06:24.429036    650.0                    None   \n26760        4904 2023-05-11 13:06:24.429036    650.0  3GqdYA40CzErF1Um7ZzK5P   \n26761        4904 2023-05-11 13:06:29.429036    650.0  1kgdslQYmeTR4thk9whoRw   \n26762        4904 2023-05-11 13:11:06.189036    650.0  0OYusiiiDYU33GJYsMzUc0   \n26763        4904 2023-05-11 13:14:58.509036    650.0  0ePI3CMwhjRV3ZWas3gTU9   \n\n         event_type  \n0              play  \n1              skip  \n2      advertisment  \n3              play  \n4              like  \n...             ...  \n26759  advertisment  \n26760          skip  \n26761          play  \n26762          play  \n26763          play  \n\n[26764 rows x 5 columns]",
      "text/html": "<div>\n<style scoped>\n    .dataframe tbody tr th:only-of-type {\n        vertical-align: middle;\n    }\n\n    .dataframe tbody tr th {\n        vertical-align: top;\n    }\n\n    .dataframe thead th {\n        text-align: right;\n    }\n</style>\n<table border=\"1\" class=\"dataframe\">\n  <thead>\n    <tr style=\"text-align: right;\">\n      <th></th>\n      <th>session_id</th>\n      <th>timestamp</th>\n      <th>user_id</th>\n      <th>track_id</th>\n      <th>event_type</th>\n    </tr>\n  </thead>\n  <tbody>\n    <tr>\n      <th>0</th>\n      <td>124</td>\n      <td>2023-10-25 10:13:55.258944</td>\n      <td>601.0</td>\n      <td>1Duym1lVQurgKHHSqpOWhY</td>\n      <td>play</td>\n    </tr>\n    <tr>\n      <th>1</th>\n      <td>124</td>\n      <td>2023-10-25 10:15:29.065944</td>\n      <td>601.0</td>\n      <td>None</td>\n      <td>skip</td>\n    </tr>\n    <tr>\n      <th>2</th>\n      <td>124</td>\n      <td>2023-10-25 10:15:34.065944</td>\n      <td>601.0</td>\n      <td>None</td>\n      <td>advertisment</td>\n    </tr>\n    <tr>\n      <th>3</th>\n      <td>124</td>\n      <td>2023-10-25 10:15:34.065944</td>\n      <td>601.0</td>\n      <td>6XFduBZIOMyOV8sCcHuYzb</td>\n      <td>play</td>\n    </tr>\n    <tr>\n      <th>4</th>\n      <td>124</td>\n      <td>2023-10-25 10:16:21.994944</td>\n      <td>601.0</td>\n      <td>6XFduBZIOMyOV8sCcHuYzb</td>\n      <td>like</td>\n    </tr>\n    <tr>\n      <th>...</th>\n      <td>...</td>\n      <td>...</td>\n      <td>...</td>\n      <td>...</td>\n      <td>...</td>\n    </tr>\n    <tr>\n      <th>26759</th>\n      <td>4904</td>\n      <td>2023-05-11 13:06:24.429036</td>\n      <td>650.0</td>\n      <td>None</td>\n      <td>advertisment</td>\n    </tr>\n    <tr>\n      <th>26760</th>\n      <td>4904</td>\n      <td>2023-05-11 13:06:24.429036</td>\n      <td>650.0</td>\n      <td>3GqdYA40CzErF1Um7ZzK5P</td>\n      <td>skip</td>\n    </tr>\n    <tr>\n      <th>26761</th>\n      <td>4904</td>\n      <td>2023-05-11 13:06:29.429036</td>\n      <td>650.0</td>\n      <td>1kgdslQYmeTR4thk9whoRw</td>\n      <td>play</td>\n    </tr>\n    <tr>\n      <th>26762</th>\n      <td>4904</td>\n      <td>2023-05-11 13:11:06.189036</td>\n      <td>650.0</td>\n      <td>0OYusiiiDYU33GJYsMzUc0</td>\n      <td>play</td>\n    </tr>\n    <tr>\n      <th>26763</th>\n      <td>4904</td>\n      <td>2023-05-11 13:14:58.509036</td>\n      <td>650.0</td>\n      <td>0ePI3CMwhjRV3ZWas3gTU9</td>\n      <td>play</td>\n    </tr>\n  </tbody>\n</table>\n<p>26764 rows × 5 columns</p>\n</div>"
     },
     "execution_count": 46,
     "metadata": {},
     "output_type": "execute_result"
    }
   ],
   "source": [
    "df_sessions"
   ],
   "metadata": {
    "collapsed": false,
    "ExecuteTime": {
     "end_time": "2024-11-27T20:05:33.587173Z",
     "start_time": "2024-11-27T20:05:33.579226Z"
    }
   },
   "id": "392fff5daa39624f",
   "execution_count": 46
  },
  {
   "cell_type": "code",
   "outputs": [],
   "source": [
    "df_sessions_skip = df_sessions[df_sessions[\"event_type\"] == \"skip\"]"
   ],
   "metadata": {
    "collapsed": false,
    "ExecuteTime": {
     "end_time": "2024-11-27T20:07:32.796696Z",
     "start_time": "2024-11-27T20:07:32.769058Z"
    }
   },
   "id": "5e5b2297b6c36744",
   "execution_count": 47
  },
  {
   "cell_type": "code",
   "outputs": [
    {
     "data": {
      "text/plain": "       session_id                  timestamp  user_id                track_id  \\\n1             124 2023-10-25 10:15:29.065944    601.0                    None   \n5             124 2023-10-25 10:17:49.679944    601.0                    None   \n7             124 2023-10-25 10:20:52.121944    601.0  2fXLhLA7cPYEmQ1NbeAtBD   \n13            126 2023-09-18 22:59:25.207665    601.0  722tgOgdIbNe3BEyLnejw4   \n27            133 2023-10-06 16:11:24.893727    601.0  62Lv9WcrfzJqhvYDbilJy3   \n...           ...                        ...      ...                     ...   \n26739        4901 2023-06-20 11:38:24.332132    650.0  2oMOqX9k4k16odibNkYyrD   \n26743        4902 2023-09-11 21:49:52.922687    650.0  5IKqS0Kmme9uVOVjulysEV   \n26751        4903 2023-10-27 11:05:03.455425    650.0  4PFhHd7DsNg0ke9Nmlxms5   \n26755        4904 2023-05-11 13:02:09.772036    650.0  1eUGmzzvahJjOSWgDHuRlv   \n26760        4904 2023-05-11 13:06:24.429036    650.0  3GqdYA40CzErF1Um7ZzK5P   \n\n      event_type  \n1           skip  \n5           skip  \n7           skip  \n13          skip  \n27          skip  \n...          ...  \n26739       skip  \n26743       skip  \n26751       skip  \n26755       skip  \n26760       skip  \n\n[4341 rows x 5 columns]",
      "text/html": "<div>\n<style scoped>\n    .dataframe tbody tr th:only-of-type {\n        vertical-align: middle;\n    }\n\n    .dataframe tbody tr th {\n        vertical-align: top;\n    }\n\n    .dataframe thead th {\n        text-align: right;\n    }\n</style>\n<table border=\"1\" class=\"dataframe\">\n  <thead>\n    <tr style=\"text-align: right;\">\n      <th></th>\n      <th>session_id</th>\n      <th>timestamp</th>\n      <th>user_id</th>\n      <th>track_id</th>\n      <th>event_type</th>\n    </tr>\n  </thead>\n  <tbody>\n    <tr>\n      <th>1</th>\n      <td>124</td>\n      <td>2023-10-25 10:15:29.065944</td>\n      <td>601.0</td>\n      <td>None</td>\n      <td>skip</td>\n    </tr>\n    <tr>\n      <th>5</th>\n      <td>124</td>\n      <td>2023-10-25 10:17:49.679944</td>\n      <td>601.0</td>\n      <td>None</td>\n      <td>skip</td>\n    </tr>\n    <tr>\n      <th>7</th>\n      <td>124</td>\n      <td>2023-10-25 10:20:52.121944</td>\n      <td>601.0</td>\n      <td>2fXLhLA7cPYEmQ1NbeAtBD</td>\n      <td>skip</td>\n    </tr>\n    <tr>\n      <th>13</th>\n      <td>126</td>\n      <td>2023-09-18 22:59:25.207665</td>\n      <td>601.0</td>\n      <td>722tgOgdIbNe3BEyLnejw4</td>\n      <td>skip</td>\n    </tr>\n    <tr>\n      <th>27</th>\n      <td>133</td>\n      <td>2023-10-06 16:11:24.893727</td>\n      <td>601.0</td>\n      <td>62Lv9WcrfzJqhvYDbilJy3</td>\n      <td>skip</td>\n    </tr>\n    <tr>\n      <th>...</th>\n      <td>...</td>\n      <td>...</td>\n      <td>...</td>\n      <td>...</td>\n      <td>...</td>\n    </tr>\n    <tr>\n      <th>26739</th>\n      <td>4901</td>\n      <td>2023-06-20 11:38:24.332132</td>\n      <td>650.0</td>\n      <td>2oMOqX9k4k16odibNkYyrD</td>\n      <td>skip</td>\n    </tr>\n    <tr>\n      <th>26743</th>\n      <td>4902</td>\n      <td>2023-09-11 21:49:52.922687</td>\n      <td>650.0</td>\n      <td>5IKqS0Kmme9uVOVjulysEV</td>\n      <td>skip</td>\n    </tr>\n    <tr>\n      <th>26751</th>\n      <td>4903</td>\n      <td>2023-10-27 11:05:03.455425</td>\n      <td>650.0</td>\n      <td>4PFhHd7DsNg0ke9Nmlxms5</td>\n      <td>skip</td>\n    </tr>\n    <tr>\n      <th>26755</th>\n      <td>4904</td>\n      <td>2023-05-11 13:02:09.772036</td>\n      <td>650.0</td>\n      <td>1eUGmzzvahJjOSWgDHuRlv</td>\n      <td>skip</td>\n    </tr>\n    <tr>\n      <th>26760</th>\n      <td>4904</td>\n      <td>2023-05-11 13:06:24.429036</td>\n      <td>650.0</td>\n      <td>3GqdYA40CzErF1Um7ZzK5P</td>\n      <td>skip</td>\n    </tr>\n  </tbody>\n</table>\n<p>4341 rows × 5 columns</p>\n</div>"
     },
     "execution_count": 48,
     "metadata": {},
     "output_type": "execute_result"
    }
   ],
   "source": [
    "df_sessions_skip"
   ],
   "metadata": {
    "collapsed": false,
    "ExecuteTime": {
     "end_time": "2024-11-27T20:07:35.891089Z",
     "start_time": "2024-11-27T20:07:35.882990Z"
    }
   },
   "id": "3a16eb102ed7a9d",
   "execution_count": 48
  },
  {
   "cell_type": "code",
   "outputs": [],
   "source": [
    "df_sessions_adv = df_sessions[df_sessions[\"event_type\"] == \"advertisment\"]"
   ],
   "metadata": {
    "collapsed": false,
    "ExecuteTime": {
     "end_time": "2024-11-27T20:09:10.004252Z",
     "start_time": "2024-11-27T20:09:09.987712Z"
    }
   },
   "id": "764b8ae5ef4d4d59",
   "execution_count": 51
  },
  {
   "cell_type": "code",
   "outputs": [
    {
     "data": {
      "text/plain": "       session_id                  timestamp  user_id track_id    event_type\n2             124 2023-10-25 10:15:34.065944    601.0     None  advertisment\n15            126 2023-09-18 22:59:38.899665    601.0     None  advertisment\n41            134 2023-09-30 11:36:01.904759    601.0     None  advertisment\n45            136 2023-12-27 05:32:21.336953    601.0     None  advertisment\n48            137 2023-07-14 03:34:28.218117    601.0     None  advertisment\n...           ...                        ...      ...      ...           ...\n26732        4900 2023-10-04 06:05:16.576142      NaN     None  advertisment\n26738        4901 2023-06-20 11:38:24.332132    650.0     None  advertisment\n26742        4902 2023-09-11 21:49:52.922687    650.0     None  advertisment\n26750        4903 2023-10-27 11:05:03.455425    650.0     None  advertisment\n26759        4904 2023-05-11 13:06:24.429036    650.0     None  advertisment\n\n[3558 rows x 5 columns]",
      "text/html": "<div>\n<style scoped>\n    .dataframe tbody tr th:only-of-type {\n        vertical-align: middle;\n    }\n\n    .dataframe tbody tr th {\n        vertical-align: top;\n    }\n\n    .dataframe thead th {\n        text-align: right;\n    }\n</style>\n<table border=\"1\" class=\"dataframe\">\n  <thead>\n    <tr style=\"text-align: right;\">\n      <th></th>\n      <th>session_id</th>\n      <th>timestamp</th>\n      <th>user_id</th>\n      <th>track_id</th>\n      <th>event_type</th>\n    </tr>\n  </thead>\n  <tbody>\n    <tr>\n      <th>2</th>\n      <td>124</td>\n      <td>2023-10-25 10:15:34.065944</td>\n      <td>601.0</td>\n      <td>None</td>\n      <td>advertisment</td>\n    </tr>\n    <tr>\n      <th>15</th>\n      <td>126</td>\n      <td>2023-09-18 22:59:38.899665</td>\n      <td>601.0</td>\n      <td>None</td>\n      <td>advertisment</td>\n    </tr>\n    <tr>\n      <th>41</th>\n      <td>134</td>\n      <td>2023-09-30 11:36:01.904759</td>\n      <td>601.0</td>\n      <td>None</td>\n      <td>advertisment</td>\n    </tr>\n    <tr>\n      <th>45</th>\n      <td>136</td>\n      <td>2023-12-27 05:32:21.336953</td>\n      <td>601.0</td>\n      <td>None</td>\n      <td>advertisment</td>\n    </tr>\n    <tr>\n      <th>48</th>\n      <td>137</td>\n      <td>2023-07-14 03:34:28.218117</td>\n      <td>601.0</td>\n      <td>None</td>\n      <td>advertisment</td>\n    </tr>\n    <tr>\n      <th>...</th>\n      <td>...</td>\n      <td>...</td>\n      <td>...</td>\n      <td>...</td>\n      <td>...</td>\n    </tr>\n    <tr>\n      <th>26732</th>\n      <td>4900</td>\n      <td>2023-10-04 06:05:16.576142</td>\n      <td>NaN</td>\n      <td>None</td>\n      <td>advertisment</td>\n    </tr>\n    <tr>\n      <th>26738</th>\n      <td>4901</td>\n      <td>2023-06-20 11:38:24.332132</td>\n      <td>650.0</td>\n      <td>None</td>\n      <td>advertisment</td>\n    </tr>\n    <tr>\n      <th>26742</th>\n      <td>4902</td>\n      <td>2023-09-11 21:49:52.922687</td>\n      <td>650.0</td>\n      <td>None</td>\n      <td>advertisment</td>\n    </tr>\n    <tr>\n      <th>26750</th>\n      <td>4903</td>\n      <td>2023-10-27 11:05:03.455425</td>\n      <td>650.0</td>\n      <td>None</td>\n      <td>advertisment</td>\n    </tr>\n    <tr>\n      <th>26759</th>\n      <td>4904</td>\n      <td>2023-05-11 13:06:24.429036</td>\n      <td>650.0</td>\n      <td>None</td>\n      <td>advertisment</td>\n    </tr>\n  </tbody>\n</table>\n<p>3558 rows × 5 columns</p>\n</div>"
     },
     "execution_count": 52,
     "metadata": {},
     "output_type": "execute_result"
    }
   ],
   "source": [
    "df_sessions_adv"
   ],
   "metadata": {
    "collapsed": false,
    "ExecuteTime": {
     "end_time": "2024-11-27T20:09:21.350814Z",
     "start_time": "2024-11-27T20:09:21.331285Z"
    }
   },
   "id": "9310e5a333335ecb",
   "execution_count": 52
  },
  {
   "cell_type": "code",
   "outputs": [
    {
     "data": {
      "text/plain": "event_type\nplay            14115\nskip             4341\nadvertisment     3558\nlike             3434\nName: count, dtype: int64"
     },
     "execution_count": 53,
     "metadata": {},
     "output_type": "execute_result"
    }
   ],
   "source": [
    "df_sessions[\"event_type\"].value_counts()"
   ],
   "metadata": {
    "collapsed": false,
    "ExecuteTime": {
     "end_time": "2024-11-27T20:10:02.086131Z",
     "start_time": "2024-11-27T20:10:02.063960Z"
    }
   },
   "id": "607aec330e6edb20",
   "execution_count": 53
  },
  {
   "cell_type": "code",
   "outputs": [],
   "source": [
    "df_sessions_missing_event_type = df_sessions[df_sessions[\"event_type\"].isnull()]"
   ],
   "metadata": {
    "collapsed": false,
    "ExecuteTime": {
     "end_time": "2024-11-27T20:13:17.685427Z",
     "start_time": "2024-11-27T20:13:17.648773Z"
    }
   },
   "id": "c015c82f2a30b1d",
   "execution_count": 54
  },
  {
   "cell_type": "code",
   "outputs": [
    {
     "data": {
      "text/plain": "       session_id                  timestamp  user_id                track_id  \\\n23            131 2023-07-11 22:20:47.391754    601.0  4LiQ8uAynrXFWY0vimnAa1   \n36            134 2023-09-30 11:23:03.306759    601.0                    None   \n38            134 2023-09-30 11:29:52.173759    601.0  6BrBfpzwv7ovcXVaZrULuJ   \n44            136 2023-12-27 05:27:02.869953    601.0  2fw0DgUc8GTNxZ2BAv9Fih   \n46            137 2023-07-14 03:28:35.071117    601.0  6ZANrVuAMp2rpjhfbOuJly   \n...           ...                        ...      ...                     ...   \n26577        4878 2023-12-02 13:50:03.005125    650.0  22LAwLoDA5b4AaGSkg6bKW   \n26583        4879 2023-07-28 14:48:58.405166    650.0  017PF4Q3l4DBUiWoXk4OWT   \n26646        4888 2023-11-22 16:57:20.154047    650.0  2YiqBesMJpszYU6raDOG0R   \n26690        4894 2023-12-25 16:38:52.881495    650.0  4OZDQWP8vOUtwunv0yKHZm   \n26693        4894 2023-12-25 16:40:39.280495      NaN  5FPnjikbwlDMULCCCa6ZCJ   \n\n      event_type  \n23          None  \n36          None  \n38          None  \n44          None  \n46          None  \n...          ...  \n26577       None  \n26583       None  \n26646       None  \n26690       None  \n26693       None  \n\n[1316 rows x 5 columns]",
      "text/html": "<div>\n<style scoped>\n    .dataframe tbody tr th:only-of-type {\n        vertical-align: middle;\n    }\n\n    .dataframe tbody tr th {\n        vertical-align: top;\n    }\n\n    .dataframe thead th {\n        text-align: right;\n    }\n</style>\n<table border=\"1\" class=\"dataframe\">\n  <thead>\n    <tr style=\"text-align: right;\">\n      <th></th>\n      <th>session_id</th>\n      <th>timestamp</th>\n      <th>user_id</th>\n      <th>track_id</th>\n      <th>event_type</th>\n    </tr>\n  </thead>\n  <tbody>\n    <tr>\n      <th>23</th>\n      <td>131</td>\n      <td>2023-07-11 22:20:47.391754</td>\n      <td>601.0</td>\n      <td>4LiQ8uAynrXFWY0vimnAa1</td>\n      <td>None</td>\n    </tr>\n    <tr>\n      <th>36</th>\n      <td>134</td>\n      <td>2023-09-30 11:23:03.306759</td>\n      <td>601.0</td>\n      <td>None</td>\n      <td>None</td>\n    </tr>\n    <tr>\n      <th>38</th>\n      <td>134</td>\n      <td>2023-09-30 11:29:52.173759</td>\n      <td>601.0</td>\n      <td>6BrBfpzwv7ovcXVaZrULuJ</td>\n      <td>None</td>\n    </tr>\n    <tr>\n      <th>44</th>\n      <td>136</td>\n      <td>2023-12-27 05:27:02.869953</td>\n      <td>601.0</td>\n      <td>2fw0DgUc8GTNxZ2BAv9Fih</td>\n      <td>None</td>\n    </tr>\n    <tr>\n      <th>46</th>\n      <td>137</td>\n      <td>2023-07-14 03:28:35.071117</td>\n      <td>601.0</td>\n      <td>6ZANrVuAMp2rpjhfbOuJly</td>\n      <td>None</td>\n    </tr>\n    <tr>\n      <th>...</th>\n      <td>...</td>\n      <td>...</td>\n      <td>...</td>\n      <td>...</td>\n      <td>...</td>\n    </tr>\n    <tr>\n      <th>26577</th>\n      <td>4878</td>\n      <td>2023-12-02 13:50:03.005125</td>\n      <td>650.0</td>\n      <td>22LAwLoDA5b4AaGSkg6bKW</td>\n      <td>None</td>\n    </tr>\n    <tr>\n      <th>26583</th>\n      <td>4879</td>\n      <td>2023-07-28 14:48:58.405166</td>\n      <td>650.0</td>\n      <td>017PF4Q3l4DBUiWoXk4OWT</td>\n      <td>None</td>\n    </tr>\n    <tr>\n      <th>26646</th>\n      <td>4888</td>\n      <td>2023-11-22 16:57:20.154047</td>\n      <td>650.0</td>\n      <td>2YiqBesMJpszYU6raDOG0R</td>\n      <td>None</td>\n    </tr>\n    <tr>\n      <th>26690</th>\n      <td>4894</td>\n      <td>2023-12-25 16:38:52.881495</td>\n      <td>650.0</td>\n      <td>4OZDQWP8vOUtwunv0yKHZm</td>\n      <td>None</td>\n    </tr>\n    <tr>\n      <th>26693</th>\n      <td>4894</td>\n      <td>2023-12-25 16:40:39.280495</td>\n      <td>NaN</td>\n      <td>5FPnjikbwlDMULCCCa6ZCJ</td>\n      <td>None</td>\n    </tr>\n  </tbody>\n</table>\n<p>1316 rows × 5 columns</p>\n</div>"
     },
     "execution_count": 55,
     "metadata": {},
     "output_type": "execute_result"
    }
   ],
   "source": [
    "df_sessions_missing_event_type"
   ],
   "metadata": {
    "collapsed": false,
    "ExecuteTime": {
     "end_time": "2024-11-27T20:13:20.750875Z",
     "start_time": "2024-11-27T20:13:20.743805Z"
    }
   },
   "id": "63dfdb1bbd585138",
   "execution_count": 55
  },
  {
   "cell_type": "code",
   "outputs": [],
   "source": [
    "df_user_id_na = df_sessions[df_sessions[\"user_id\"].isna()]"
   ],
   "metadata": {
    "collapsed": false,
    "ExecuteTime": {
     "end_time": "2024-11-27T20:20:49.657346Z",
     "start_time": "2024-11-27T20:20:49.624610Z"
    }
   },
   "id": "b8485b9f087f8094",
   "execution_count": 56
  },
  {
   "cell_type": "code",
   "outputs": [
    {
     "data": {
      "text/plain": "       session_id                  timestamp  user_id                track_id  \\\n66            141 2023-10-07 14:38:21.728942      NaN                    None   \n77            144 2023-10-13 01:54:48.655142      NaN  3EWaR09H3TkRgaLTIheYFr   \n128           153 2023-06-09 20:57:09.675855      NaN  2oy5kjcc7itM64xk00Gz2c   \n132           154 2023-09-27 10:42:56.853782      NaN  3mKdw0slI6wmnb1FBrvwn2   \n148           155 2023-05-20 00:36:57.952039      NaN  0iTJV7IHhkgzWk5x0WgUHy   \n...           ...                        ...      ...                     ...   \n26644        4888 2023-11-22 16:56:37.433047      NaN  5T1MmDTBxXdCzIK0d76fQs   \n26679        4894 2023-12-25 16:25:25.653495      NaN                    None   \n26693        4894 2023-12-25 16:40:39.280495      NaN  5FPnjikbwlDMULCCCa6ZCJ   \n26713        4898 2023-08-12 09:13:22.010921      NaN  1bxP4M9ICllcg7mel8kH89   \n26732        4900 2023-10-04 06:05:16.576142      NaN                    None   \n\n         event_type  \n66     advertisment  \n77             play  \n128            None  \n132            skip  \n148            like  \n...             ...  \n26644          play  \n26679          like  \n26693          None  \n26713          play  \n26732  advertisment  \n\n[1321 rows x 5 columns]",
      "text/html": "<div>\n<style scoped>\n    .dataframe tbody tr th:only-of-type {\n        vertical-align: middle;\n    }\n\n    .dataframe tbody tr th {\n        vertical-align: top;\n    }\n\n    .dataframe thead th {\n        text-align: right;\n    }\n</style>\n<table border=\"1\" class=\"dataframe\">\n  <thead>\n    <tr style=\"text-align: right;\">\n      <th></th>\n      <th>session_id</th>\n      <th>timestamp</th>\n      <th>user_id</th>\n      <th>track_id</th>\n      <th>event_type</th>\n    </tr>\n  </thead>\n  <tbody>\n    <tr>\n      <th>66</th>\n      <td>141</td>\n      <td>2023-10-07 14:38:21.728942</td>\n      <td>NaN</td>\n      <td>None</td>\n      <td>advertisment</td>\n    </tr>\n    <tr>\n      <th>77</th>\n      <td>144</td>\n      <td>2023-10-13 01:54:48.655142</td>\n      <td>NaN</td>\n      <td>3EWaR09H3TkRgaLTIheYFr</td>\n      <td>play</td>\n    </tr>\n    <tr>\n      <th>128</th>\n      <td>153</td>\n      <td>2023-06-09 20:57:09.675855</td>\n      <td>NaN</td>\n      <td>2oy5kjcc7itM64xk00Gz2c</td>\n      <td>None</td>\n    </tr>\n    <tr>\n      <th>132</th>\n      <td>154</td>\n      <td>2023-09-27 10:42:56.853782</td>\n      <td>NaN</td>\n      <td>3mKdw0slI6wmnb1FBrvwn2</td>\n      <td>skip</td>\n    </tr>\n    <tr>\n      <th>148</th>\n      <td>155</td>\n      <td>2023-05-20 00:36:57.952039</td>\n      <td>NaN</td>\n      <td>0iTJV7IHhkgzWk5x0WgUHy</td>\n      <td>like</td>\n    </tr>\n    <tr>\n      <th>...</th>\n      <td>...</td>\n      <td>...</td>\n      <td>...</td>\n      <td>...</td>\n      <td>...</td>\n    </tr>\n    <tr>\n      <th>26644</th>\n      <td>4888</td>\n      <td>2023-11-22 16:56:37.433047</td>\n      <td>NaN</td>\n      <td>5T1MmDTBxXdCzIK0d76fQs</td>\n      <td>play</td>\n    </tr>\n    <tr>\n      <th>26679</th>\n      <td>4894</td>\n      <td>2023-12-25 16:25:25.653495</td>\n      <td>NaN</td>\n      <td>None</td>\n      <td>like</td>\n    </tr>\n    <tr>\n      <th>26693</th>\n      <td>4894</td>\n      <td>2023-12-25 16:40:39.280495</td>\n      <td>NaN</td>\n      <td>5FPnjikbwlDMULCCCa6ZCJ</td>\n      <td>None</td>\n    </tr>\n    <tr>\n      <th>26713</th>\n      <td>4898</td>\n      <td>2023-08-12 09:13:22.010921</td>\n      <td>NaN</td>\n      <td>1bxP4M9ICllcg7mel8kH89</td>\n      <td>play</td>\n    </tr>\n    <tr>\n      <th>26732</th>\n      <td>4900</td>\n      <td>2023-10-04 06:05:16.576142</td>\n      <td>NaN</td>\n      <td>None</td>\n      <td>advertisment</td>\n    </tr>\n  </tbody>\n</table>\n<p>1321 rows × 5 columns</p>\n</div>"
     },
     "execution_count": 57,
     "metadata": {},
     "output_type": "execute_result"
    }
   ],
   "source": [
    "df_user_id_na"
   ],
   "metadata": {
    "collapsed": false,
    "ExecuteTime": {
     "end_time": "2024-11-27T20:20:52.476671Z",
     "start_time": "2024-11-27T20:20:52.469499Z"
    }
   },
   "id": "81eda4c152cb854e",
   "execution_count": 57
  },
  {
   "cell_type": "markdown",
   "source": [
    "# tracks"
   ],
   "metadata": {
    "collapsed": false
   },
   "id": "fcca046e881700dc"
  },
  {
   "cell_type": "code",
   "outputs": [],
   "source": [
    "df_tracks = pd.read_json(\"tracks.jsonl\", lines=\"True\")"
   ],
   "metadata": {
    "collapsed": false,
    "ExecuteTime": {
     "end_time": "2024-11-27T20:26:18.608827Z",
     "start_time": "2024-11-27T20:26:18.406961Z"
    }
   },
   "id": "e089fafd1917d8f8",
   "execution_count": 59
  },
  {
   "cell_type": "code",
   "outputs": [
    {
     "data": {
      "text/plain": "                           id  \\\n0      0RNxWy0PC3AyH4ThH3aGK6   \n1      2W889aLIKxULEefrleFBFI   \n2      4Pnzw1nLOpDNV6MKI5ueIR   \n3      7GLmfKOe5BfOXk7334DoKt   \n4      6kD1SNGPkfX9LwaGd1FG92   \n...                       ...   \n22407  0LcNMuOiULmxJK3bdHTfDF   \n22408  1uviKYHZuM4uINK33F7sCt   \n22409  1fXmDeiCb3ABt5CzkMxp4u   \n22410  27kcZEJvhkb1rzZS9gCpdA   \n22411  27Y1N4Q4U3EfDU5Ubw8ws2   \n\n                                                    name  popularity  \\\n0                                         Mack the Knife        55.0   \n1                               Someone to Watch Over Me        54.0   \n2         Nancy (With the Laughing Face) - 78rpm Version        55.0   \n3      Saturday Night (Is The Loneliest Night In The ...        54.0   \n4                 Put Your Dreams Away (For Another Day)        53.0   \n...                                                  ...         ...   \n22407                                        Missing You        65.0   \n22408                                 Fix It to Break It        70.0   \n22409                                          Lotus Inn        63.0   \n22410                              remember the mornings        67.0   \n22411                          What They'll Say About Us        70.0   \n\n       duration_ms  explicit               id_artist release_date  \\\n0           201467         0  19eLuQmk9aCobbVDHc6eek         1929   \n1           198000         0  1Mxqyy3pSjf8kZZL4QVxS0         1943   \n2           199000         0  1Mxqyy3pSjf8kZZL4QVxS0         1944   \n3           163000         0  1Mxqyy3pSjf8kZZL4QVxS0         1944   \n4           186173         0  1Mxqyy3pSjf8kZZL4QVxS0         1944   \n...            ...       ...                     ...          ...   \n22407       214987         0  7gAppWoH7pcYmphCVTXkzs   2019-04-19   \n22408       198799         0  7okSU80WTrn4LXlyXYbX3P   2020-03-27   \n22409       195868         0  2jnIB6XdLvnJUeNTy5A0J2   2020-12-04   \n22410       202355         0  7okSU80WTrn4LXlyXYbX3P   2020-11-27   \n22411       187601         0  37M5pPGs6V1fchFJSgCguX   2020-09-02   \n\n       danceability  energy  key  loudness  speechiness  acousticness  \\\n0             0.673  0.3770    0   -14.141       0.0697        0.5860   \n1             0.204  0.1510    2   -17.842       0.0418        0.9470   \n2             0.295  0.0826    1   -19.569       0.0367        0.9840   \n3             0.561  0.3350    9   -11.093       0.0499        0.8400   \n4             0.197  0.0546    1   -22.411       0.0346        0.9500   \n...             ...     ...  ...       ...          ...           ...   \n22407         0.537  0.6470    2    -7.370       0.0519        0.1680   \n22408         0.493  0.4610    2    -8.524       0.0456        0.8450   \n22409         0.578  0.7400    2    -5.080       0.0721        0.0119   \n22410         0.590  0.4430    0    -5.662       0.0722        0.6180   \n22411         0.535  0.3140    7   -12.823       0.0408        0.8950   \n\n       instrumentalness  liveness  valence    tempo  \n0              0.000000    0.3320   0.7130   88.973  \n1              0.000009    0.3210   0.1340   91.783  \n2              0.000358    0.1560   0.1690  128.600  \n3              0.000002    0.7880   0.5900  126.974  \n4              0.276000    0.1520   0.1000   90.150  \n...                 ...       ...      ...      ...  \n22407          0.000000    0.1080   0.5310   79.770  \n22408          0.000000    0.1150   0.3500   51.414  \n22409          0.000000    0.1800   0.4950  155.984  \n22410          0.000000    0.1100   0.3420  149.447  \n22411          0.000150    0.0874   0.0663  145.095  \n\n[22412 rows x 17 columns]",
      "text/html": "<div>\n<style scoped>\n    .dataframe tbody tr th:only-of-type {\n        vertical-align: middle;\n    }\n\n    .dataframe tbody tr th {\n        vertical-align: top;\n    }\n\n    .dataframe thead th {\n        text-align: right;\n    }\n</style>\n<table border=\"1\" class=\"dataframe\">\n  <thead>\n    <tr style=\"text-align: right;\">\n      <th></th>\n      <th>id</th>\n      <th>name</th>\n      <th>popularity</th>\n      <th>duration_ms</th>\n      <th>explicit</th>\n      <th>id_artist</th>\n      <th>release_date</th>\n      <th>danceability</th>\n      <th>energy</th>\n      <th>key</th>\n      <th>loudness</th>\n      <th>speechiness</th>\n      <th>acousticness</th>\n      <th>instrumentalness</th>\n      <th>liveness</th>\n      <th>valence</th>\n      <th>tempo</th>\n    </tr>\n  </thead>\n  <tbody>\n    <tr>\n      <th>0</th>\n      <td>0RNxWy0PC3AyH4ThH3aGK6</td>\n      <td>Mack the Knife</td>\n      <td>55.0</td>\n      <td>201467</td>\n      <td>0</td>\n      <td>19eLuQmk9aCobbVDHc6eek</td>\n      <td>1929</td>\n      <td>0.673</td>\n      <td>0.3770</td>\n      <td>0</td>\n      <td>-14.141</td>\n      <td>0.0697</td>\n      <td>0.5860</td>\n      <td>0.000000</td>\n      <td>0.3320</td>\n      <td>0.7130</td>\n      <td>88.973</td>\n    </tr>\n    <tr>\n      <th>1</th>\n      <td>2W889aLIKxULEefrleFBFI</td>\n      <td>Someone to Watch Over Me</td>\n      <td>54.0</td>\n      <td>198000</td>\n      <td>0</td>\n      <td>1Mxqyy3pSjf8kZZL4QVxS0</td>\n      <td>1943</td>\n      <td>0.204</td>\n      <td>0.1510</td>\n      <td>2</td>\n      <td>-17.842</td>\n      <td>0.0418</td>\n      <td>0.9470</td>\n      <td>0.000009</td>\n      <td>0.3210</td>\n      <td>0.1340</td>\n      <td>91.783</td>\n    </tr>\n    <tr>\n      <th>2</th>\n      <td>4Pnzw1nLOpDNV6MKI5ueIR</td>\n      <td>Nancy (With the Laughing Face) - 78rpm Version</td>\n      <td>55.0</td>\n      <td>199000</td>\n      <td>0</td>\n      <td>1Mxqyy3pSjf8kZZL4QVxS0</td>\n      <td>1944</td>\n      <td>0.295</td>\n      <td>0.0826</td>\n      <td>1</td>\n      <td>-19.569</td>\n      <td>0.0367</td>\n      <td>0.9840</td>\n      <td>0.000358</td>\n      <td>0.1560</td>\n      <td>0.1690</td>\n      <td>128.600</td>\n    </tr>\n    <tr>\n      <th>3</th>\n      <td>7GLmfKOe5BfOXk7334DoKt</td>\n      <td>Saturday Night (Is The Loneliest Night In The ...</td>\n      <td>54.0</td>\n      <td>163000</td>\n      <td>0</td>\n      <td>1Mxqyy3pSjf8kZZL4QVxS0</td>\n      <td>1944</td>\n      <td>0.561</td>\n      <td>0.3350</td>\n      <td>9</td>\n      <td>-11.093</td>\n      <td>0.0499</td>\n      <td>0.8400</td>\n      <td>0.000002</td>\n      <td>0.7880</td>\n      <td>0.5900</td>\n      <td>126.974</td>\n    </tr>\n    <tr>\n      <th>4</th>\n      <td>6kD1SNGPkfX9LwaGd1FG92</td>\n      <td>Put Your Dreams Away (For Another Day)</td>\n      <td>53.0</td>\n      <td>186173</td>\n      <td>0</td>\n      <td>1Mxqyy3pSjf8kZZL4QVxS0</td>\n      <td>1944</td>\n      <td>0.197</td>\n      <td>0.0546</td>\n      <td>1</td>\n      <td>-22.411</td>\n      <td>0.0346</td>\n      <td>0.9500</td>\n      <td>0.276000</td>\n      <td>0.1520</td>\n      <td>0.1000</td>\n      <td>90.150</td>\n    </tr>\n    <tr>\n      <th>...</th>\n      <td>...</td>\n      <td>...</td>\n      <td>...</td>\n      <td>...</td>\n      <td>...</td>\n      <td>...</td>\n      <td>...</td>\n      <td>...</td>\n      <td>...</td>\n      <td>...</td>\n      <td>...</td>\n      <td>...</td>\n      <td>...</td>\n      <td>...</td>\n      <td>...</td>\n      <td>...</td>\n      <td>...</td>\n    </tr>\n    <tr>\n      <th>22407</th>\n      <td>0LcNMuOiULmxJK3bdHTfDF</td>\n      <td>Missing You</td>\n      <td>65.0</td>\n      <td>214987</td>\n      <td>0</td>\n      <td>7gAppWoH7pcYmphCVTXkzs</td>\n      <td>2019-04-19</td>\n      <td>0.537</td>\n      <td>0.6470</td>\n      <td>2</td>\n      <td>-7.370</td>\n      <td>0.0519</td>\n      <td>0.1680</td>\n      <td>0.000000</td>\n      <td>0.1080</td>\n      <td>0.5310</td>\n      <td>79.770</td>\n    </tr>\n    <tr>\n      <th>22408</th>\n      <td>1uviKYHZuM4uINK33F7sCt</td>\n      <td>Fix It to Break It</td>\n      <td>70.0</td>\n      <td>198799</td>\n      <td>0</td>\n      <td>7okSU80WTrn4LXlyXYbX3P</td>\n      <td>2020-03-27</td>\n      <td>0.493</td>\n      <td>0.4610</td>\n      <td>2</td>\n      <td>-8.524</td>\n      <td>0.0456</td>\n      <td>0.8450</td>\n      <td>0.000000</td>\n      <td>0.1150</td>\n      <td>0.3500</td>\n      <td>51.414</td>\n    </tr>\n    <tr>\n      <th>22409</th>\n      <td>1fXmDeiCb3ABt5CzkMxp4u</td>\n      <td>Lotus Inn</td>\n      <td>63.0</td>\n      <td>195868</td>\n      <td>0</td>\n      <td>2jnIB6XdLvnJUeNTy5A0J2</td>\n      <td>2020-12-04</td>\n      <td>0.578</td>\n      <td>0.7400</td>\n      <td>2</td>\n      <td>-5.080</td>\n      <td>0.0721</td>\n      <td>0.0119</td>\n      <td>0.000000</td>\n      <td>0.1800</td>\n      <td>0.4950</td>\n      <td>155.984</td>\n    </tr>\n    <tr>\n      <th>22410</th>\n      <td>27kcZEJvhkb1rzZS9gCpdA</td>\n      <td>remember the mornings</td>\n      <td>67.0</td>\n      <td>202355</td>\n      <td>0</td>\n      <td>7okSU80WTrn4LXlyXYbX3P</td>\n      <td>2020-11-27</td>\n      <td>0.590</td>\n      <td>0.4430</td>\n      <td>0</td>\n      <td>-5.662</td>\n      <td>0.0722</td>\n      <td>0.6180</td>\n      <td>0.000000</td>\n      <td>0.1100</td>\n      <td>0.3420</td>\n      <td>149.447</td>\n    </tr>\n    <tr>\n      <th>22411</th>\n      <td>27Y1N4Q4U3EfDU5Ubw8ws2</td>\n      <td>What They'll Say About Us</td>\n      <td>70.0</td>\n      <td>187601</td>\n      <td>0</td>\n      <td>37M5pPGs6V1fchFJSgCguX</td>\n      <td>2020-09-02</td>\n      <td>0.535</td>\n      <td>0.3140</td>\n      <td>7</td>\n      <td>-12.823</td>\n      <td>0.0408</td>\n      <td>0.8950</td>\n      <td>0.000150</td>\n      <td>0.0874</td>\n      <td>0.0663</td>\n      <td>145.095</td>\n    </tr>\n  </tbody>\n</table>\n<p>22412 rows × 17 columns</p>\n</div>"
     },
     "execution_count": 60,
     "metadata": {},
     "output_type": "execute_result"
    }
   ],
   "source": [
    "df_tracks"
   ],
   "metadata": {
    "collapsed": false,
    "ExecuteTime": {
     "end_time": "2024-11-27T20:26:21.675317Z",
     "start_time": "2024-11-27T20:26:21.666201Z"
    }
   },
   "id": "df6655645f1ce71e",
   "execution_count": 60
  },
  {
   "cell_type": "code",
   "outputs": [],
   "source": [],
   "metadata": {
    "collapsed": false
   },
   "id": "5b06ee1bd971c5eb"
  }
 ],
 "metadata": {
  "kernelspec": {
   "display_name": "Python 3",
   "language": "python",
   "name": "python3"
  },
  "language_info": {
   "codemirror_mode": {
    "name": "ipython",
    "version": 2
   },
   "file_extension": ".py",
   "mimetype": "text/x-python",
   "name": "python",
   "nbconvert_exporter": "python",
   "pygments_lexer": "ipython2",
   "version": "2.7.6"
  }
 },
 "nbformat": 4,
 "nbformat_minor": 5
}
